{
 "cells": [
  {
   "cell_type": "markdown",
   "metadata": {},
   "source": [
    "# Daten anzeigen und abrufen\n",
    "In einer Tabelle ist es häufig wichtig spezifische Daten zu suchen und aus einer grösseren Tabelle einzelne Daten anzuzeigen.\n",
    "In diesem Kapitel werden Sie lernen, individuelle Zeile einer Tabelle anzuzeigen, einzelne Datenwerte einer Zeile anzuzeigen und zu evaluieren, welche Anzeige sinnvoll ist, für die Daten, welche Sie gerade bearbeiten.\n",
    "\n",
    "## Daten anzeigen\n",
    "\n",
    "Bevor man spezifische Daten einer Tabelle anzeigt, ist es wichtig, sich im Klaren zu sein, was auf welche Weise gezeigt werden soll. Zuerst muss entschieden werden, in welcher Zeile und welcher Spalte sich die Daten befinden. (Zur Erinnerung: Zeilen sind horizontal, Spalten sind vertikal) <br>\n",
    "Durch bestimmte Befehle, können aus einem Datenset bestimmte Informationen abgerufen werden. Danach geht es darum, welche Anzeigeform am passendsten ist."
   ]
  },
  {
   "cell_type": "markdown",
   "metadata": {},
   "source": [
    "### Die richtige Zeile(n) auswählen\n",
    "\n",
    "Die meisten Datensets sind so konzipiert, dass innerhalb einer Zeile alle Daten zusammengehören. In unserem Tierdatensatz ist es so, dass jede Zeile einem bestimmten Tier entspricht.\n",
    "\n",
    "Wenn es darum geht, Daten auszuwählen, muss in diesem Fall also zuerst entschieden werden, von welchem Tier oder welchen Tieren die Daten angezeigt werden sollen. Falls die Daten aller Tiere angezeigt werden sollen, müssen auch alle Zeile ausgewählt werden.\n",
    "\n",
    "### Die richtige Spalte(n) auswählen\n",
    "\n",
    "In vielen Tabellen wird in jeder Spalte ein unterschiedliches Attribut/Merkmal angezeigt. So gibt es in unserem Tierdatensatz pro Tier neben dem Namen noch 7 weitere Attribute (Spezies, Geschlecht, Alter, ob das Tier sterilisiert ist, Anzahl Beine, Gewicht und Zeit bis zur Adoption)\n",
    "\n",
    "Falls nur eines dieser Attribute angezeigt werden soll, muss auch die entsprechende Spalte ausgewählt werden."
   ]
  },
  {
   "cell_type": "markdown",
   "metadata": {},
   "source": [
    "### Die richtige Anzeigeform auswählen\n",
    "Die ausgewählten Daten können auf unterschiedliche Arten angezeigt werden. Eine einfache Möglichkeit ist es, die ausgewählte Daten als Tabelle darzustellen. \n",
    "<br>\n",
    "Häufig ist es hilfreich, die Daten als eine Grafik darzustellen um sich diese dank der Visualisierung besser vorstellen zu können.\n",
    "<br>\n",
    "Unterschiedliche Grafiken sind für unterschiedliche Datenformen geeignet. So ist zum Beispiel ein Scatter Plot ideal um Inhalte zweier verschiedener Spalten zu vergleichen und ihre Abhängigkeit aufzuzeigen. Andere Grafiken wie Tortendiagramme, Histogramme oder Balkendiagramme beziehen sich grundsätzlich nur auf eine Spalte.\n",
    "<br>\n",
    "Während einige Grafiken für quantitative Daten geeignet sind, werden andere für kategorielle Daten ausgewählt.\n",
    "<br>\n",
    "Um kategorielle Daten einer Spalte anzuzeigen werden häufig entweder Kuchendiagramme oder Balkendiagramme gewählt. Im letzten Kapitel haben Sie die beiden Grafiken vergleichen und entschieden, welche jeweils für  bestimmte Daten geeigneter ist."
   ]
  },
  {
   "cell_type": "markdown",
   "metadata": {},
   "source": [
    "## Daten abrufen\n",
    "Tabellen können zum Teil sehr viele Daten enthalten. Daher ist es praktisch, mit einem Befehl spezifische Daten abzurufen.\n",
    "\n",
    "Manchmal gibt es Datenwerte, welche immer wieder benutzt werden. Dann macht es Sinn, diesen einen Namen zu geben. Dies geschieht, indem man sie definitert. Jede Definition beinhaltet einen Namen und einen Wert, welcher diesem Namen zugeordnet wird. Im untenstehenden Code werden zwei verschiedenen Namen (Alter, Geschlecht) zwei Werte zugeordnet.\n",
    "\n",
    "### Variablen definieren\n",
    "\n"
   ]
  },
  {
   "cell_type": "code",
   "execution_count": 27,
   "metadata": {},
   "outputs": [],
   "source": [
    "geschlecht = \"weiblich\"\n",
    "alter = 16"
   ]
  },
  {
   "cell_type": "markdown",
   "metadata": {},
   "source": [
    "Wenn die Variablen Geschlecht und Alter aufgerufen werden, wird jeweils der Wert angezeigt, welcher zuvor für diese Variable definiert wurde. Dafür müssen sie nun zuerst den obenstehenden Code laufen lassen. Danach sollen Sie im folgenden Textfeld sollen Sie eine der beiden Variablen eingeben, als Ausgabe kommt der vorhin zugeordnete Wert."
   ]
  },
  {
   "cell_type": "code",
   "execution_count": 28,
   "metadata": {},
   "outputs": [],
   "source": [
    "#Geben sie hier entweder geschlecht oder alter ein und lassen Sie das Programm laufen"
   ]
  },
  {
   "cell_type": "markdown",
   "metadata": {},
   "source": [
    "Erstellen sie eine neue Variable und ordnen sie ihr einen Wert zu. und rufen sie sie danach im darunterliegenden Codefeld auf"
   ]
  },
  {
   "cell_type": "code",
   "execution_count": 29,
   "metadata": {},
   "outputs": [],
   "source": [
    "#Definieren sie hier eine Variable mit zugehörigem Wert"
   ]
  },
  {
   "cell_type": "code",
   "execution_count": 30,
   "metadata": {},
   "outputs": [],
   "source": [
    "#Geben sie hier den Namen ihrer erstellten Variable ein"
   ]
  },
  {
   "cell_type": "markdown",
   "metadata": {},
   "source": [
    "\n",
    "## Tabellenfunktionen\n",
    "\n",
    "Tabellen haben sogenannte Methoden, das sind bestimmte Funktionen, welche ihnen zugeordnet sind und es erlauben, verschiedene Aufgaben durchzuführen.\n",
    "\n",
    "So kann zum Beispiel eine Zeile der Tabelle mit dem Befehl *tabellenname.loc[\"Name\"]* abgerufen werden. D\n",
    "\n",
    "Führen sie den Code unten aus um von unserem Tierdatensatz die Zeile des Tieres Namens \"Bo\" aufzurufen. Sie müssen hierzu zuerst noch den richtigen Befehl eingeben."
   ]
  },
  {
   "cell_type": "code",
   "execution_count": 31,
   "metadata": {},
   "outputs": [
    {
     "data": {
      "text/plain": [
       "Spezies           Katze\n",
       "Geschlecht    maennlich\n",
       "Alter               1.0\n",
       "Steril            False\n",
       "Beine                 4\n",
       "Gewicht             3.2\n",
       "Wochen                1\n",
       "Name: Wade, dtype: object"
      ]
     },
     "execution_count": 31,
     "metadata": {},
     "output_type": "execute_result"
    }
   ],
   "source": [
    "import pandas as pd \n",
    "datei_name = \"animal_dataset_bc.csv\"\n",
    "animal_table = pd.read_csv(datei_name,\n",
    "                        header=0,\n",
    "                        names=[\"Name\", \"Spezies\", \"Geschlecht\", \"Alter\", \"Steril\", \"Beine\", \"Gewicht\", \"Wochen\"], \n",
    "                        index_col=0)\n",
    "\n",
    "#Hier den Befehl einfügen. Der Tabellenname lautet animal_table\n"
   ]
  },
  {
   "cell_type": "markdown",
   "metadata": {},
   "source": []
  },
  {
   "cell_type": "markdown",
   "metadata": {},
   "source": [
    "Diese Zeile kann auch direkt einer Variable zugeordnet werden. \n",
    "\n",
    "So kann man zum Beispiel die Zeile welche der Katze \"Mittens\" entspricht, direkt der Variable Mittens zuordnen:\n",
    "Mittens = animal_table.loc[\"Mittens\"]\n",
    "\n",
    "Zudem ist es möglich, aus einer Zeile direkt einen spezifischen Wert zu lesen. Dies geschieht indem der Titel der gesuchten Spalte am Ende des Aufrufbefehles durch einen Punkt angehängt wird.\n",
    "*animal_table.loc[\"Bo\"].Alter* gibt also das Alter an, welches aus der Zeile von Bo gelesen wird.\n"
   ]
  },
  {
   "cell_type": "code",
   "execution_count": null,
   "metadata": {},
   "outputs": [],
   "source": [
    "#Hier den Code eingeben um das Geschlecht von Mittens abzufragen"
   ]
  },
  {
   "cell_type": "markdown",
   "metadata": {},
   "source": [
    "Der folgende\n",
    "\n",
    "\n",
    "The code below will define the first row from the animals table:\n",
    "\n",
    "sasha    = animals-table.row-n(0)\n",
    "Pyret also has a way for us to get at individual columns of a Row, by using a Row Accessor. Row accessors start with a Row value, followed by square brackets and the name of the column where the value can be found. Here are three examples that use row accessors to get at different columns from the first row in the animals-table:\n",
    "\n",
    "animals-table.row-n(0)[\"name\"]\n",
    "animals-table.row-n(0)[\"age\"]\n",
    "animals-table.row-n(0)[\"fixed\"]\n",
    "And of course, we can use our defined name, substituting it in place of all the redundant code:\n",
    "\n",
    "sasha[\"name\"]\n",
    "sasha[\"age\"]\n",
    "sasha[\"fixed\"]\n",
    "How would you get the weeks column out of the second row? The third?\n",
    "\n",
    "Complete the exercises on Lookup Questions (Page 25).\n",
    "\n",
    "Flip back to page 2 of your workbook and look at The Animals Dataset. Which row is animalA? Label it in the margin next to the dataset. Which row is animalB? Label it in the margin next to the dataset.\n",
    "\n",
    "Now turn back to your screen. What happens when you evaluate animalA in the Interactions Area?\n",
    "\n",
    "Define at least two additional values to be animals from the animals-table, called animalC and animalD."
   ]
  }
 ],
 "metadata": {
  "interpreter": {
   "hash": "4a9e138c43a4d59dd7e6a85b2bbf6fb769953cd97aace1c2f4b3fdd0d4d9c6a6"
  },
  "kernelspec": {
   "display_name": "Python 3.9.7 64-bit (windows store)",
   "name": "python3"
  },
  "language_info": {
   "codemirror_mode": {
    "name": "ipython",
    "version": 3
   },
   "file_extension": ".py",
   "mimetype": "text/x-python",
   "name": "python",
   "nbconvert_exporter": "python",
   "pygments_lexer": "ipython3",
   "version": "3.9.7"
  },
  "orig_nbformat": 4
 },
 "nbformat": 4,
 "nbformat_minor": 2
}
