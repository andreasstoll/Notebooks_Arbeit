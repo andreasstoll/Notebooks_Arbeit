{
 "cells": [
  {
   "cell_type": "markdown",
   "metadata": {},
   "source": [
    "# Daten anzeigen und abrufen\n",
    "In einer Tabelle ist es häufig wichtig spezifische Daten zu suchen und aus einer grösseren Tabelle einzelne Daten anzuzeigen.\n",
    "In diesem Kapitel werden Sie lernen, individuelle Zeile einer Tabelle anzuzeigen, einzelne Datenwerte einer Zeile anzuzeigen und zu evaluieren, welche Anzeige sinnvoll ist, für die Daten, welche Sie gerade bearbeiten.\n",
    "\n",
    "## Daten anzeigen\n",
    "\n",
    "Bevor man spezifische Daten einer Tabelle anzeigt, ist es wichtig, sich im Klaren zu sein, was auf welche Weise gezeigt werden soll. Zuerst muss entschieden werden, in welcher Zeile und welcher Spalte sich die Daten befinden. (Zur Erinnerung: Zeilen sind horizontal, Spalten sind vertikal) <br>\n",
    "Durch bestimmte Befehle, können aus einem Datenset bestimmte Informationen abgerufen werden. Danach geht es darum, welche Anzeigeform am passendsten ist."
   ]
  },
  {
   "cell_type": "markdown",
   "metadata": {},
   "source": [
    "### Die richtige Zeile(n) auswählen\n",
    "\n",
    "Die meisten Datensets sind so konzipiert, dass innerhalb einer Zeile alle Daten zusammengehören. In unserem Tierdatensatz ist es so, dass jede Zeile einem bestimmten Tier entspricht.\n",
    "\n",
    "Wenn es darum geht, Daten auszuwählen, muss in diesem Fall also zuerst entschieden werden, von welchem Tier oder welchen Tieren die Daten angezeigt werden sollen. Falls die Daten aller Tiere angezeigt werden sollen, müssen auch alle Zeile ausgewählt werden.\n",
    "\n",
    "### Die richtige Spalte(n) auswählen\n",
    "\n",
    "In vielen Tabellen wird in jeder Spalte ein unterschiedliches Attribut/Merkmal angezeigt. So gibt es in unserem Tierdatensatz pro Tier neben dem Namen noch 7 weitere Attribute (Spezies, Geschlecht, Alter, ob das Tier sterilisiert ist, Anzahl Beine, Gewicht und Zeit bis zur Adoption)\n",
    "\n",
    "Falls nur eines dieser Attribute angezeigt werden soll, muss auch die entsprechende Spalte ausgewählt werden."
   ]
  },
  {
   "cell_type": "markdown",
   "metadata": {},
   "source": [
    "### Die richtige Anzeigeform auswählen\n",
    "Die ausgewählten Daten können auf unterschiedliche Arten angezeigt werden. Eine einfache Möglichkeit ist es, die ausgewählte Daten als Tabelle darzustellen. \n",
    "<br>\n",
    "Häufig ist es hilfreich, die Daten als eine Grafik darzustellen um sich diese dank der Visualisierung besser vorstellen zu können.\n",
    "<br>\n",
    "Unterschiedliche Grafiken sind für unterschiedliche Datenformen geeignet. So ist zum Beispiel ein Scatter Plot ideal um Inhalte zweier verschiedener Spalten zu vergleichen und ihre Abhängigkeit aufzuzeigen. Andere Grafiken wie Tortendiagramme, Histogramme oder Balkendiagramme beziehen sich grundsätzlich nur auf eine Spalte.\n",
    "<br>\n",
    "Während einige Grafiken für quantitative Daten geeignet sind, werden andere für kategorielle Daten ausgewählt.\n",
    "<br>\n",
    "Um kategorielle Daten einer Spalte anzuzeigen werden häufig entweder Kuchendiagramme oder Balkendiagramme gewählt. Im letzten Kapitel haben Sie die beiden Grafiken vergleichen und entschieden, welche jeweils für  bestimmte Daten geeigneter ist."
   ]
  },
  {
   "cell_type": "markdown",
   "metadata": {},
   "source": [
    "## Daten abrufen\n",
    "Tabellen können zum Teil sehr viele Daten enthalten. Daher ist es praktisch, mit einem Befehl spezifische Daten abzurufen.\n",
    "\n",
    "Manchmal gibt es Datenwerte, welche immer wieder benutzt werden. Dann macht es Sinn, diesen einen Namen zu geben. Dies geschieht, indem man sie definitert. Jede Definition beinhaltet einen Namen und einen Wert, welcher diesem Namen zugeordnet wird. Im untenstehenden Code werden zwei verschiedenen Namen (Alter, Geschlecht) zwei Werte zugeordnet.\n",
    "\n",
    "### Variablen definieren\n",
    "\n"
   ]
  },
  {
   "cell_type": "code",
   "execution_count": 63,
   "metadata": {},
   "outputs": [],
   "source": [
    "geschlecht = \"weiblich\"\n",
    "alter = 16"
   ]
  },
  {
   "cell_type": "markdown",
   "metadata": {},
   "source": [
    "Wenn die Variablen Geschlecht und Alter aufgerufen werden, wird jeweils der Wert angezeigt, welcher zuvor für diese Variable definiert wurde. Dafür müssen sie nun zuerst den obenstehenden Code laufen lassen. Danach sollen Sie im folgenden Textfeld sollen Sie eine der beiden Variablen eingeben, als Ausgabe kommt der vorhin zugeordnete Wert."
   ]
  },
  {
   "cell_type": "code",
   "execution_count": null,
   "metadata": {},
   "outputs": [],
   "source": [
    "alter"
   ]
  },
  {
   "cell_type": "markdown",
   "metadata": {},
   "source": [
    "Erstellen sie eine neue Variable und ordnen sie ihr einen Wert zu. und rufen sie sie danach im darunterliegenden Codefeld auf"
   ]
  },
  {
   "cell_type": "code",
   "execution_count": 65,
   "metadata": {},
   "outputs": [],
   "source": [
    "#Definieren sie hier eine Variable mit zugehörigem Wert"
   ]
  },
  {
   "cell_type": "code",
   "execution_count": 66,
   "metadata": {},
   "outputs": [],
   "source": [
    "#Geben sie hier den Namen ihrer erstellten Variable ein"
   ]
  },
  {
   "cell_type": "markdown",
   "metadata": {},
   "source": [
    "\n",
    "## Tabellenfunktionen\n",
    "\n",
    "Tabellen haben sogenannte Methoden, das sind bestimmte Funktionen, welche ihnen zugeordnet sind und es erlauben, verschiedene Aufgaben durchzuführen.\n",
    "\n",
    "So kann zum Beispiel eine Zeile der Tabelle mit dem Befehl *tabellenname.loc[\"Name\"]* abgerufen werden. D\n",
    "\n",
    "Führen sie den Code unten aus um von unserem Tierdatensatz die Zeile des Tieres Namens \"Bo\" aufzurufen. Sie müssen hierzu zuerst noch den richtigen Befehl eingeben. Dafür müssen sie tabellenname mit dem Namen der Tabelle ersetzen und in die Eckige Klammer (in Anführungszeichen) den Namen des Tieres setzen."
   ]
  },
  {
   "cell_type": "code",
   "execution_count": 67,
   "metadata": {},
   "outputs": [],
   "source": [
    "import pandas as pd \n",
    "datei_name = \"animal_dataset_bc.csv\"\n",
    "animal_table = pd.read_csv(datei_name,\n",
    "                        header=0,\n",
    "                        names=[\"Name\", \"Spezies\", \"Geschlecht\", \"Alter\", \"Steril\", \"Beine\", \"Gewicht\", \"Wochen\"], \n",
    "                        index_col=0)\n",
    "\n",
    "#Hier den Befehl einfügen. Der Tabellenname lautet animal_table\n"
   ]
  },
  {
   "cell_type": "markdown",
   "metadata": {},
   "source": [
    "Es ist möglich, aus einer Zeile direkt einen spezifischen Wert zu lesen. Dies geschieht indem der Titel der gesuchten Spalte am Ende des Aufrufbefehles durch einen Punkt angehängt wird.\n",
    "*animal_table.loc[\"Bo\"].Alter* gibt also das Alter an, welches aus der Zeile von Bo gelesen wird."
   ]
  },
  {
   "cell_type": "code",
   "execution_count": 68,
   "metadata": {},
   "outputs": [],
   "source": [
    "#Hier den Code eingeben um das Geschlecht von Mittens abzufragen"
   ]
  },
  {
   "cell_type": "markdown",
   "metadata": {},
   "source": [
    "Falls aus einer Zeile mehrfach eine Attribut abgerufen werden soll, kann es hilfreich sein, dieser Zeile direkt eine Variable zuzuordnen. \n",
    "\n",
    "So kann man zum Beispiel die Zeile welche der Katze \"Mittens\" entspricht, direkt der Variable Mittens zuordnen:"
   ]
  },
  {
   "cell_type": "code",
   "execution_count": 69,
   "metadata": {},
   "outputs": [],
   "source": [
    "Mittens = animal_table.loc[\"Mittens\"]"
   ]
  },
  {
   "cell_type": "markdown",
   "metadata": {},
   "source": [
    "Wenn der obenstehende Code ausgeführt wurde, kann man danach eine Abfrage vereinfacht durchführen indem der Name der Spalte nach einem Punkt an die gegebene Variable angehängt wird."
   ]
  },
  {
   "cell_type": "code",
   "execution_count": null,
   "metadata": {},
   "outputs": [],
   "source": [
    "# Führen Sie diesen Code aus, nachdem sie oben die Variable \"Mittens\" definiert haben indem sie den obenstehenden Code ausgeführt haben.\n",
    "Mittens.Alter"
   ]
  },
  {
   "cell_type": "markdown",
   "metadata": {},
   "source": [
    "Analog zum Alter können auch andere Attribute so abgefragt werden.\n",
    "Mittens.Geschlecht zeigt das Geschlecht von Mittens an.\n",
    "Mittens.Gewicht zeigt das Gewicht von Mittens an.\n",
    "\n",
    "Versuchen sie nun, die Spezies des Tieres \"Wade\" herauszufinden und ob das Tier sterilisiert ist indem sie zuerst die Variable Wade definieren und danach die beiden Attribute abfragen.\n"
   ]
  },
  {
   "cell_type": "code",
   "execution_count": 71,
   "metadata": {},
   "outputs": [],
   "source": [
    "#Definieren Sie hier die Variable Wade als die Zeile in welcher die Informationen von Wade stehen und führen sie das Programm aus\n"
   ]
  },
  {
   "cell_type": "code",
   "execution_count": 72,
   "metadata": {},
   "outputs": [],
   "source": [
    "#Rufen Sie hier die Spezies von Wade ab\n"
   ]
  },
  {
   "cell_type": "code",
   "execution_count": 73,
   "metadata": {},
   "outputs": [],
   "source": [
    "#Rufen Sie hier ab ob Wade sterilisiert ist"
   ]
  },
  {
   "cell_type": "markdown",
   "metadata": {},
   "source": [
    "Im Folgenden sehen Sie eine Tabelle mit den Namen aller registrierten Hunde des Kantons Zürich mit Stand 2018.\n",
    "Die ersten Zeilen der Tabelle sehen folgendermassen aus:"
   ]
  },
  {
   "cell_type": "code",
   "execution_count": null,
   "metadata": {},
   "outputs": [],
   "source": [
    "#Führen sie den Code aus um die ersten zehn Zeilen der Tabelle anzuzeigen\n",
    "import pandas as pd \n",
    "datei_name = \"hundenamen.csv\"\n",
    "hundenamen = pd.read_csv(datei_name,\n",
    "                        header=0,\n",
    "                        names=[\"Name\", \"Geburtsjahr\", \"Geschlecht\"], \n",
    "                        index_col=0)\n",
    "\n",
    "hundenamen.head(10)"
   ]
  },
  {
   "cell_type": "markdown",
   "metadata": {},
   "source": [
    "Im Gegensatz zum Tierdatensatz \"animal_table\" gibt es bei der Hundenamen-Tabelle mehrere Einträge, welche den selben Namen haben. Als Beispiel sollen sie alle Hunde namens Caruso aufrufen, mit Hilfe des untenstehenden Codes:"
   ]
  },
  {
   "cell_type": "code",
   "execution_count": null,
   "metadata": {},
   "outputs": [],
   "source": [
    "hundenamen.loc[\"Caruso\"]"
   ]
  },
  {
   "cell_type": "markdown",
   "metadata": {},
   "source": [
    "Es ist nun ebenfalls möglich, ein spezifisches Attribut abzufragen, falls nicht die ganze Tabelle angezeigt werden soll. Um das Geschlecht aller Hunde namens Chipsy zu bestimmen, kann der untenstehende Code verwendet werden:"
   ]
  },
  {
   "cell_type": "code",
   "execution_count": null,
   "metadata": {},
   "outputs": [],
   "source": [
    "hundenamen.loc[\"Chipsy\"].Geschlecht"
   ]
  },
  {
   "cell_type": "markdown",
   "metadata": {},
   "source": [
    "\n",
    "Sie sollen nun die folgenden Informationen über gewisse Hunde abfragen:\n",
    "\n",
    "Welches Geburtsjahr hat Abraxas?\n",
    "In welchen Jahren ist ein Hund namens Happy geboren?\n",
    "Welches Geschlecht hat Antares?\n",
    "Gibt es mehr männliche oder weibliche Idefix?\n"
   ]
  },
  {
   "cell_type": "code",
   "execution_count": null,
   "metadata": {},
   "outputs": [],
   "source": [
    "#Geben Sie hier den Code ein um das Geburtsjahr von Abraxas abzurufen"
   ]
  },
  {
   "cell_type": "code",
   "execution_count": 88,
   "metadata": {},
   "outputs": [
    {
     "data": {
      "text/plain": [
       "2004"
      ]
     },
     "execution_count": 88,
     "metadata": {},
     "output_type": "execute_result"
    }
   ],
   "source": [
    "#Loesung\n",
    "hundenamen.loc[\"Abraxas\"].Geburtsjahr"
   ]
  },
  {
   "cell_type": "code",
   "execution_count": 76,
   "metadata": {},
   "outputs": [],
   "source": [
    "#Geben Sie hier den Code ein um die Geburtsjahre aller Hunde namens Happy aufzurufen"
   ]
  },
  {
   "cell_type": "code",
   "execution_count": null,
   "metadata": {},
   "outputs": [],
   "source": [
    "#Loesung\n",
    "hundenamen.loc[\"Happy\"].Geburtsjahr"
   ]
  },
  {
   "cell_type": "code",
   "execution_count": 77,
   "metadata": {},
   "outputs": [],
   "source": [
    "#Geben Sie hier den Code ein um das Geschlecht von Antares abzurufen"
   ]
  },
  {
   "cell_type": "code",
   "execution_count": 89,
   "metadata": {},
   "outputs": [
    {
     "data": {
      "text/plain": [
       "'m'"
      ]
     },
     "execution_count": 89,
     "metadata": {},
     "output_type": "execute_result"
    }
   ],
   "source": [
    "#Loesung\n",
    "hundenamen.loc[\"Antares\"].Geschlecht"
   ]
  },
  {
   "cell_type": "code",
   "execution_count": 97,
   "metadata": {},
   "outputs": [],
   "source": [
    "#Geben Sie hier den Code ein um das Geschlecht von allen Idefix abzurufen"
   ]
  },
  {
   "cell_type": "code",
   "execution_count": null,
   "metadata": {},
   "outputs": [],
   "source": [
    "#Loesung\n",
    "hundenamen.loc[\"Idefix\"].Geschlecht"
   ]
  },
  {
   "cell_type": "markdown",
   "metadata": {},
   "source": [
    "Antwort: #Geben sie hier ein, wie viele männliche und weibliche Idefix es gibt\n"
   ]
  },
  {
   "cell_type": "markdown",
   "metadata": {},
   "source": [
    "## Abschlussquiz\n",
    "\n",
    "Für das Abschlussquiz führen Sie bitten den folgenden Code aus."
   ]
  },
  {
   "cell_type": "code",
   "execution_count": null,
   "metadata": {},
   "outputs": [],
   "source": [
    "from fragen import *\n",
    "\n",
    "fragen3()"
   ]
  }
 ],
 "metadata": {
  "interpreter": {
   "hash": "26130839a7e87fd59e038942810dbb4909e5232b32b1ad521e6a6bc3043702c6"
  },
  "kernelspec": {
   "display_name": "Python 3.8.11 64-bit ('base': conda)",
   "name": "python3"
  },
  "language_info": {
   "codemirror_mode": {
    "name": "ipython",
    "version": 3
   },
   "file_extension": ".py",
   "mimetype": "text/x-python",
   "name": "python",
   "nbconvert_exporter": "python",
   "pygments_lexer": "ipython3",
   "version": "3.8.11"
  },
  "orig_nbformat": 4
 },
 "nbformat": 4,
 "nbformat_minor": 2
}
