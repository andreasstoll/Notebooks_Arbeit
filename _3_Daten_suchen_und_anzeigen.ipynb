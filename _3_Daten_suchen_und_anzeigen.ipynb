{
 "cells": [
  {
   "cell_type": "markdown",
   "metadata": {},
   "source": [
    "# Daten anzeigen und abrufen\n",
    "In einer Tabelle ist es häufig wichtig spezifische Daten zu suchen und aus einer grösseren Tabelle einzelne Daten anzuzeigen.\n",
    "In diesem Kapitel werden Sie lernen, individuelle Zeile einer Tabelle anzuzeigen, einzelne Datenwerte einer Zeile anzuzeigen und zu evaluieren, welche Anzeige sinnvoll ist, für die Daten, welche Sie gerade bearbeiten.\n",
    "\n",
    "## Daten anzeigen\n",
    "\n",
    "Bevor man spezifische Daten einer Tabelle anzeigt, ist es wichtig, sich im Klaren zu sein, was auf welche Weise gezeigt werden soll. Zuerst muss entschieden werden, in welcher Zeile und welcher Spalte sich die Daten befinden. (Zur Erinnerung: Zeilen sind horizontal, Spalten sind vertikal) <br>\n",
    "Durch bestimmte Befehle, können aus einem Datenset bestimmte Informationen abgerufen werden. Danach geht es darum, welche Anzeigeform am passendsten ist."
   ]
  },
  {
   "cell_type": "markdown",
   "metadata": {},
   "source": [
    "### Die richtige Zeile(n) auswählen\n",
    "\n",
    "Die meisten Datensets sind so konzipiert, dass innerhalb einer Zeile alle Daten zusammengehören. In unserem Tierdatensatz ist es so, dass jede Zeile einem bestimmten Tier entspricht.\n",
    "\n",
    "Wenn es darum geht, Daten auszuwählen, muss in diesem Fall also zuerst entschieden werden, von welchem Tier oder welchen Tieren die Daten angezeigt werden sollen. Falls die Daten aller Tiere angezeigt werden sollen, müssen auch alle Zeile ausgewählt werden.\n",
    "\n",
    "### Die richtige Spalte(n) auswählen\n",
    "\n",
    "In vielen Tabellen wird in jeder Spalte ein unterschiedliches Attribut/Merkmal angezeigt. So gibt es in unserem Tierdatensatz pro Tier neben dem Namen noch 7 weitere Attribute (Spezies, Geschlecht, Alter, ob das Tier sterilisiert ist, Anzahl Beine, Gewicht und Zeit bis zur Adoption)\n",
    "\n",
    "Falls nur eines dieser Attribute angezeigt werden soll, muss auch die entsprechende Spalte ausgewählt werden."
   ]
  },
  {
   "cell_type": "markdown",
   "metadata": {},
   "source": [
    "### Die richtige Anzeigeform auswählen\n",
    "Die ausgewählten Daten können auf unterschiedliche Arten angezeigt werden. Eine einfache Möglichkeit ist es, die ausgewählte Daten als Tabelle darzustellen. \n",
    "<br>\n",
    "Häufig ist es hilfreich, die Daten als eine Grafik darzustellen um sich diese dank der Visualisierung besser vorstellen zu können.\n",
    "<br>\n",
    "Unterschiedliche Grafiken sind für unterschiedliche Datenformen geeignet. So ist zum Beispiel ein Scatter Plot ideal um Inhalte zweier verschiedener Spalten zu vergleichen und ihre Abhängigkeit aufzuzeigen. Andere Grafiken wie Tortendiagramme, Histogramme oder Balkendiagramme beziehen sich grundsätzlich nur auf eine Spalte.\n",
    "<br>\n",
    "Während einige Grafiken für quantitative Daten geeignet sind, werden andere für kategorielle Daten ausgewählt.\n",
    "<br>\n",
    "Um kategorielle Daten einer Spalte anzuzeigen werden häufig entweder Kuchendiagramme oder Balkendiagramme gewählt. Im letzten Kapitel haben Sie die beiden Grafiken vergleichen und entschieden, welche jeweils für  bestimmte Daten geeigneter ist."
   ]
  },
  {
   "cell_type": "markdown",
   "metadata": {},
   "source": [
    "## Daten abrufen\n",
    "Tabellen können zum Teil sehr viele Daten enthalten. Daher ist es praktisch, mit einem Befehl spezifische Daten abzurufen.\n",
    "\n",
    "Manchmal gibt es Datenwerte, welche immer wieder benutzt werden. Dann macht es Sinn, diesen einen Namen zu geben. Dies geschieht, indem man sie definitert. Jede Definition beinhaltet einen Namen und einen Wert, welcher diesem Namen zugeordnet wird. Im untenstehenden Code werden zwei verschiedenen Namen (Alter, Geschlecht) zwei Werte zugeordnet.\n",
    "\n",
    "### Variablen definieren\n",
    "\n"
   ]
  },
  {
   "cell_type": "code",
   "execution_count": 47,
   "metadata": {},
   "outputs": [],
   "source": [
    "geschlecht = \"weiblich\"\n",
    "alter = 16"
   ]
  },
  {
   "cell_type": "markdown",
   "metadata": {},
   "source": [
    "Wenn die Variablen Geschlecht und Alter aufgerufen werden, wird jeweils der Wert angezeigt, welcher zuvor für diese Variable definiert wurde. Dafür müssen sie nun zuerst den obenstehenden Code laufen lassen. Danach sollen Sie im folgenden Textfeld sollen Sie eine der beiden Variablen eingeben, als Ausgabe kommt der vorhin zugeordnete Wert."
   ]
  },
  {
   "cell_type": "code",
   "execution_count": 48,
   "metadata": {},
   "outputs": [
    {
     "data": {
      "text/plain": [
       "16"
      ]
     },
     "execution_count": 48,
     "metadata": {},
     "output_type": "execute_result"
    }
   ],
   "source": [
    "alter"
   ]
  },
  {
   "cell_type": "markdown",
   "metadata": {},
   "source": [
    "Erstellen sie eine neue Variable und ordnen sie ihr einen Wert zu. und rufen sie sie danach im darunterliegenden Codefeld auf"
   ]
  },
  {
   "cell_type": "code",
   "execution_count": 49,
   "metadata": {},
   "outputs": [],
   "source": [
    "#Definieren sie hier eine Variable mit zugehörigem Wert"
   ]
  },
  {
   "cell_type": "code",
   "execution_count": 50,
   "metadata": {},
   "outputs": [],
   "source": [
    "#Geben sie hier den Namen ihrer erstellten Variable ein"
   ]
  },
  {
   "cell_type": "markdown",
   "metadata": {},
   "source": [
    "\n",
    "## Tabellenfunktionen\n",
    "\n",
    "Tabellen haben sogenannte Methoden, das sind bestimmte Funktionen, welche ihnen zugeordnet sind und es erlauben, verschiedene Aufgaben durchzuführen.\n",
    "\n",
    "So kann zum Beispiel eine Zeile der Tabelle mit dem Befehl *tabellenname.loc[\"Name\"]* abgerufen werden. D\n",
    "\n",
    "Führen sie den Code unten aus um von unserem Tierdatensatz die Zeile des Tieres Namens \"Bo\" aufzurufen. Sie müssen hierzu zuerst noch den richtigen Befehl eingeben. Dafür müssen sie tabellenname mit dem Namen der Tabelle ersetzen und in die Eckige Klammer (in Anführungszeichen) den Namen des Tieres setzen."
   ]
  },
  {
   "cell_type": "code",
   "execution_count": 51,
   "metadata": {},
   "outputs": [],
   "source": [
    "import pandas as pd \n",
    "datei_name = \"animal_dataset_bc.csv\"\n",
    "animal_table = pd.read_csv(datei_name,\n",
    "                        header=0,\n",
    "                        names=[\"Name\", \"Spezies\", \"Geschlecht\", \"Alter\", \"Steril\", \"Beine\", \"Gewicht\", \"Wochen\"], \n",
    "                        index_col=0)\n",
    "\n",
    "#Hier den Befehl einfügen. Der Tabellenname lautet animal_table\n"
   ]
  },
  {
   "cell_type": "markdown",
   "metadata": {},
   "source": [
    "Es ist möglich, aus einer Zeile direkt einen spezifischen Wert zu lesen. Dies geschieht indem der Titel der gesuchten Spalte am Ende des Aufrufbefehles durch einen Punkt angehängt wird.\n",
    "*animal_table.loc[\"Bo\"].Alter* gibt also das Alter an, welches aus der Zeile von Bo gelesen wird."
   ]
  },
  {
   "cell_type": "code",
   "execution_count": 52,
   "metadata": {},
   "outputs": [],
   "source": [
    "#Hier den Code eingeben um das Geschlecht von Mittens abzufragen"
   ]
  },
  {
   "cell_type": "markdown",
   "metadata": {},
   "source": [
    "Falls aus einer Zeile mehrfach eine Attribut abgerufen werden soll, kann es hilfreich sein, dieser Zeile direkt eine Variable zuzuordnen. \n",
    "\n",
    "So kann man zum Beispiel die Zeile welche der Katze \"Mittens\" entspricht, direkt der Variable Mittens zuordnen:"
   ]
  },
  {
   "cell_type": "code",
   "execution_count": 53,
   "metadata": {},
   "outputs": [],
   "source": [
    "Mittens = animal_table.loc[\"Mittens\"]"
   ]
  },
  {
   "cell_type": "markdown",
   "metadata": {},
   "source": [
    "Wenn der obenstehende Code ausgeführt wurde, kann man danach eine Abfrage vereinfacht durchführen indem der Name der Spalte nach einem Punkt an die gegebene Variable angehängt wird."
   ]
  },
  {
   "cell_type": "code",
   "execution_count": 54,
   "metadata": {},
   "outputs": [
    {
     "data": {
      "text/plain": [
       "2.0"
      ]
     },
     "execution_count": 54,
     "metadata": {},
     "output_type": "execute_result"
    }
   ],
   "source": [
    "# Führen Sie diesen Code aus, nachdem sie oben die Variable \"Mittens\" definiert haben indem sie den obenstehenden Code ausgeführt haben.\n",
    "Mittens.Alter"
   ]
  },
  {
   "cell_type": "markdown",
   "metadata": {},
   "source": [
    "Analog zum Alter können auch andere Attribute so abgefragt werden.\n",
    "Mittens.Geschlecht zeigt das Geschlecht von Mittens an.\n",
    "Mittens.Gewicht zeigt das Gewicht von Mittens an.\n",
    "\n",
    "Versuchen sie nun, die Spezies des Tieres \"Wade\" herauszufinden und ob das Tier sterilisiert ist indem sie zuerst die Variable Wade definieren und danach die beiden Attribute abfragen.\n"
   ]
  },
  {
   "cell_type": "code",
   "execution_count": 55,
   "metadata": {},
   "outputs": [],
   "source": [
    "#Definieren Sie hier die Variable Wade als die Zeile in welcher die Informationen von Wade stehen und führen sie das Programm aus\n"
   ]
  },
  {
   "cell_type": "code",
   "execution_count": 56,
   "metadata": {},
   "outputs": [],
   "source": [
    "#Rufen Sie hier die Spezies von Wade ab\n"
   ]
  },
  {
   "cell_type": "code",
   "execution_count": 57,
   "metadata": {},
   "outputs": [],
   "source": [
    "#Rufen Sie hier ab ob Wade sterilisiert ist"
   ]
  },
  {
   "cell_type": "markdown",
   "metadata": {},
   "source": [
    "Im Folgenden sehen Sie eine Tabelle mit den Namen aller registrierten Hunde des Kantons Zürich mit Stand 2018.\n",
    "Die ersten Zeilen der Tabelle sehen folgendermassen aus:"
   ]
  },
  {
   "cell_type": "code",
   "execution_count": 58,
   "metadata": {},
   "outputs": [
    {
     "data": {
      "text/html": [
       "<div>\n",
       "<style scoped>\n",
       "    .dataframe tbody tr th:only-of-type {\n",
       "        vertical-align: middle;\n",
       "    }\n",
       "\n",
       "    .dataframe tbody tr th {\n",
       "        vertical-align: top;\n",
       "    }\n",
       "\n",
       "    .dataframe thead th {\n",
       "        text-align: right;\n",
       "    }\n",
       "</style>\n",
       "<table border=\"1\" class=\"dataframe\">\n",
       "  <thead>\n",
       "    <tr style=\"text-align: right;\">\n",
       "      <th></th>\n",
       "      <th>Spezies</th>\n",
       "      <th>Geschlecht</th>\n",
       "      <th>Alter</th>\n",
       "      <th>Steril</th>\n",
       "      <th>Beine</th>\n",
       "      <th>Gewicht</th>\n",
       "      <th>Wochen</th>\n",
       "    </tr>\n",
       "    <tr>\n",
       "      <th>Name</th>\n",
       "      <th></th>\n",
       "      <th></th>\n",
       "      <th></th>\n",
       "      <th></th>\n",
       "      <th></th>\n",
       "      <th></th>\n",
       "      <th></th>\n",
       "    </tr>\n",
       "  </thead>\n",
       "  <tbody>\n",
       "    <tr>\n",
       "      <th>Sasha</th>\n",
       "      <td>Katze</td>\n",
       "      <td>weiblich</td>\n",
       "      <td>1.0</td>\n",
       "      <td>False</td>\n",
       "      <td>4</td>\n",
       "      <td>6.5</td>\n",
       "      <td>3</td>\n",
       "    </tr>\n",
       "    <tr>\n",
       "      <th>Snuffles</th>\n",
       "      <td>Hase</td>\n",
       "      <td>weiblich</td>\n",
       "      <td>3.0</td>\n",
       "      <td>True</td>\n",
       "      <td>4</td>\n",
       "      <td>3.5</td>\n",
       "      <td>8</td>\n",
       "    </tr>\n",
       "    <tr>\n",
       "      <th>Mittens</th>\n",
       "      <td>Katze</td>\n",
       "      <td>weiblich</td>\n",
       "      <td>2.0</td>\n",
       "      <td>True</td>\n",
       "      <td>4</td>\n",
       "      <td>7.4</td>\n",
       "      <td>1</td>\n",
       "    </tr>\n",
       "    <tr>\n",
       "      <th>Sunflower</th>\n",
       "      <td>Katze</td>\n",
       "      <td>weiblich</td>\n",
       "      <td>5.0</td>\n",
       "      <td>True</td>\n",
       "      <td>4</td>\n",
       "      <td>8.1</td>\n",
       "      <td>6</td>\n",
       "    </tr>\n",
       "    <tr>\n",
       "      <th>Felix</th>\n",
       "      <td>Katze</td>\n",
       "      <td>maennlich</td>\n",
       "      <td>16.0</td>\n",
       "      <td>True</td>\n",
       "      <td>4</td>\n",
       "      <td>9.2</td>\n",
       "      <td>5</td>\n",
       "    </tr>\n",
       "    <tr>\n",
       "      <th>Sheba</th>\n",
       "      <td>Katze</td>\n",
       "      <td>weiblich</td>\n",
       "      <td>7.0</td>\n",
       "      <td>True</td>\n",
       "      <td>4</td>\n",
       "      <td>8.4</td>\n",
       "      <td>6</td>\n",
       "    </tr>\n",
       "    <tr>\n",
       "      <th>Billie</th>\n",
       "      <td>Schnecke</td>\n",
       "      <td>hermaphrodit</td>\n",
       "      <td>0.5</td>\n",
       "      <td>False</td>\n",
       "      <td>0</td>\n",
       "      <td>0.1</td>\n",
       "      <td>3</td>\n",
       "    </tr>\n",
       "    <tr>\n",
       "      <th>Snowcone</th>\n",
       "      <td>Katze</td>\n",
       "      <td>weiblich</td>\n",
       "      <td>2.0</td>\n",
       "      <td>True</td>\n",
       "      <td>4</td>\n",
       "      <td>6.5</td>\n",
       "      <td>5</td>\n",
       "    </tr>\n",
       "    <tr>\n",
       "      <th>Wade</th>\n",
       "      <td>Katze</td>\n",
       "      <td>maennlich</td>\n",
       "      <td>1.0</td>\n",
       "      <td>False</td>\n",
       "      <td>4</td>\n",
       "      <td>3.2</td>\n",
       "      <td>1</td>\n",
       "    </tr>\n",
       "    <tr>\n",
       "      <th>Hercules</th>\n",
       "      <td>Katze</td>\n",
       "      <td>maennlich</td>\n",
       "      <td>3.0</td>\n",
       "      <td>False</td>\n",
       "      <td>4</td>\n",
       "      <td>13.4</td>\n",
       "      <td>2</td>\n",
       "    </tr>\n",
       "  </tbody>\n",
       "</table>\n",
       "</div>"
      ],
      "text/plain": [
       "            Spezies    Geschlecht  Alter  Steril  Beine  Gewicht  Wochen\n",
       "Name                                                                    \n",
       "Sasha         Katze      weiblich    1.0   False      4      6.5       3\n",
       "Snuffles       Hase      weiblich    3.0    True      4      3.5       8\n",
       "Mittens       Katze      weiblich    2.0    True      4      7.4       1\n",
       "Sunflower     Katze      weiblich    5.0    True      4      8.1       6\n",
       "Felix         Katze     maennlich   16.0    True      4      9.2       5\n",
       "Sheba         Katze      weiblich    7.0    True      4      8.4       6\n",
       "Billie     Schnecke  hermaphrodit    0.5   False      0      0.1       3\n",
       "Snowcone      Katze      weiblich    2.0    True      4      6.5       5\n",
       "Wade          Katze     maennlich    1.0   False      4      3.2       1\n",
       "Hercules      Katze     maennlich    3.0   False      4     13.4       2"
      ]
     },
     "execution_count": 58,
     "metadata": {},
     "output_type": "execute_result"
    }
   ],
   "source": [
    "#Führen sie den Code aus um die ersten zehn Zeilen der Tabelle anzuzeigen\n",
    " \n",
    "datei_name = \"animal_dataset_bc.csv\"\n",
    "animal_table = pd.read_csv(datei_name,\n",
    "                        header=0,\n",
    "                        names=[\"Name\", \"Spezies\", \"Geschlecht\", \"Alter\", \"Steril\", \"Beine\", \"Gewicht\", \"Wochen\"], \n",
    "                        index_col=0)\n",
    "\n",
    "animal_table.head(10)"
   ]
  },
  {
   "cell_type": "markdown",
   "metadata": {},
   "source": [
    "\n",
    "Sie sollen nun die folgenden Informationen über gewisse Hunde abfragen:\n",
    "\n",
    "Wie alt ist Snowcone?\n",
    "Welche Spezies hat Billie?\n",
    "Wie viele Beine hat Sheba?\n",
    "Nach wie vielen Wochen wurde Hercules adoptiert?"
   ]
  },
  {
   "cell_type": "code",
   "execution_count": null,
   "metadata": {},
   "outputs": [],
   "source": [
    "#Geben Sie hier den Code ein um das Alter von Snowcone abzurufen"
   ]
  },
  {
   "cell_type": "code",
   "execution_count": null,
   "metadata": {},
   "outputs": [],
   "source": [
    "#Geben Sie hier den Code ein um die Spezies von Billie abzurufen"
   ]
  },
  {
   "cell_type": "code",
   "execution_count": null,
   "metadata": {},
   "outputs": [],
   "source": [
    "#Geben Sie hier den Code ein um die Anzahl Beine von Sheba abzurufen"
   ]
  },
  {
   "cell_type": "code",
   "execution_count": null,
   "metadata": {},
   "outputs": [],
   "source": [
    "#Geben Sie hier den Code ein um abzurufen, nach wie vielen Wochen Hercules adoptiert wurde."
   ]
  },
  {
   "cell_type": "markdown",
   "metadata": {},
   "source": [
    "## Abschlussquiz\n",
    "\n",
    "Für das Abschlussquiz führen Sie bitten den folgenden Code aus."
   ]
  },
  {
   "cell_type": "code",
   "execution_count": 60,
   "metadata": {},
   "outputs": [
    {
     "ename": "ModuleNotFoundError",
     "evalue": "No module named 'ipywidgets'",
     "output_type": "error",
     "traceback": [
      "\u001b[1;31m---------------------------------------------------------------------------\u001b[0m",
      "\u001b[1;31mModuleNotFoundError\u001b[0m                       Traceback (most recent call last)",
      "\u001b[1;32m~\\AppData\\Local\\Temp/ipykernel_22824/2344584562.py\u001b[0m in \u001b[0;36m<module>\u001b[1;34m\u001b[0m\n\u001b[1;32m----> 1\u001b[1;33m \u001b[1;32mfrom\u001b[0m \u001b[0mfragen\u001b[0m \u001b[1;32mimport\u001b[0m \u001b[1;33m*\u001b[0m\u001b[1;33m\u001b[0m\u001b[1;33m\u001b[0m\u001b[0m\n\u001b[0m\u001b[0;32m      2\u001b[0m \u001b[0mfragen3\u001b[0m\u001b[1;33m(\u001b[0m\u001b[1;33m)\u001b[0m\u001b[1;33m\u001b[0m\u001b[1;33m\u001b[0m\u001b[0m\n",
      "\u001b[1;32mc:\\Users\\ninow\\Masterarbeit\\Notebooks_Arbeit\\fragen.py\u001b[0m in \u001b[0;36m<module>\u001b[1;34m\u001b[0m\n\u001b[0;32m      1\u001b[0m \u001b[1;31m#Source: https://github.com/jupyter-widgets/ipywidgets/issues/2487\u001b[0m\u001b[1;33m\u001b[0m\u001b[1;33m\u001b[0m\u001b[0m\n\u001b[0;32m      2\u001b[0m \u001b[1;33m\u001b[0m\u001b[0m\n\u001b[1;32m----> 3\u001b[1;33m \u001b[1;32mimport\u001b[0m \u001b[0mipywidgets\u001b[0m \u001b[1;32mas\u001b[0m \u001b[0mwidgets\u001b[0m\u001b[1;33m\u001b[0m\u001b[1;33m\u001b[0m\u001b[0m\n\u001b[0m\u001b[0;32m      4\u001b[0m \u001b[1;32mfrom\u001b[0m \u001b[0mIPython\u001b[0m\u001b[1;33m.\u001b[0m\u001b[0mdisplay\u001b[0m \u001b[1;32mimport\u001b[0m \u001b[0mdisplay\u001b[0m\u001b[1;33m\u001b[0m\u001b[1;33m\u001b[0m\u001b[0m\n\u001b[0;32m      5\u001b[0m \u001b[1;32mfrom\u001b[0m \u001b[0mIPython\u001b[0m\u001b[1;33m.\u001b[0m\u001b[0mdisplay\u001b[0m \u001b[1;32mimport\u001b[0m \u001b[0mclear_output\u001b[0m\u001b[1;33m\u001b[0m\u001b[1;33m\u001b[0m\u001b[0m\n",
      "\u001b[1;31mModuleNotFoundError\u001b[0m: No module named 'ipywidgets'"
     ]
    }
   ],
   "source": [
    "from fragen import *\n",
    "\n",
    "fragen3()"
   ]
  },
  {
   "cell_type": "markdown",
   "metadata": {},
   "source": []
  }
 ],
 "metadata": {
  "interpreter": {
   "hash": "4a9e138c43a4d59dd7e6a85b2bbf6fb769953cd97aace1c2f4b3fdd0d4d9c6a6"
  },
  "kernelspec": {
   "display_name": "Python 3.9.7 64-bit (windows store)",
   "name": "python3"
  },
  "language_info": {
   "codemirror_mode": {
    "name": "ipython",
    "version": 3
   },
   "file_extension": ".py",
   "mimetype": "text/x-python",
   "name": "python",
   "nbconvert_exporter": "python",
   "pygments_lexer": "ipython3",
   "version": "3.9.7"
  },
  "orig_nbformat": 4
 },
 "nbformat": 4,
 "nbformat_minor": 2
}
