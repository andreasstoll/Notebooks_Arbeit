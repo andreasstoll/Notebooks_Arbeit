{
 "cells": [
  {
   "cell_type": "markdown",
   "metadata": {},
   "source": [
    "# Einen Datensatz selber erstellen und auswerten\n",
    "\n",
    "Mit dem folgenden Code wird ein pandas-Datensatz (Dataframe) erstellt zur Frage \"People who play violent video games are more likely to be violent themselves\" (Quelle: https://www.pewresearch.org/internet/2015/12/15/public-debates-about-gaming-and-gamers/):"
   ]
  },
  {
   "cell_type": "code",
   "execution_count": 10,
   "metadata": {},
   "outputs": [
    {
     "data": {
      "text/html": [
       "<div>\n",
       "<style scoped>\n",
       "    .dataframe tbody tr th:only-of-type {\n",
       "        vertical-align: middle;\n",
       "    }\n",
       "\n",
       "    .dataframe tbody tr th {\n",
       "        vertical-align: top;\n",
       "    }\n",
       "\n",
       "    .dataframe thead th {\n",
       "        text-align: right;\n",
       "    }\n",
       "</style>\n",
       "<table border=\"1\" class=\"dataframe\">\n",
       "  <thead>\n",
       "    <tr style=\"text-align: right;\">\n",
       "      <th></th>\n",
       "      <th>Agree [%]</th>\n",
       "      <th>Disagree [%]</th>\n",
       "    </tr>\n",
       "    <tr>\n",
       "      <th>Group</th>\n",
       "      <th></th>\n",
       "      <th></th>\n",
       "    </tr>\n",
       "  </thead>\n",
       "  <tbody>\n",
       "    <tr>\n",
       "      <th>all adults</th>\n",
       "      <td>40</td>\n",
       "      <td>53</td>\n",
       "    </tr>\n",
       "    <tr>\n",
       "      <th>adults who play video games</th>\n",
       "      <td>32</td>\n",
       "      <td>64</td>\n",
       "    </tr>\n",
       "    <tr>\n",
       "      <th>adults not play video games</th>\n",
       "      <td>47</td>\n",
       "      <td>42</td>\n",
       "    </tr>\n",
       "    <tr>\n",
       "      <th>Men</th>\n",
       "      <td>31</td>\n",
       "      <td>62</td>\n",
       "    </tr>\n",
       "    <tr>\n",
       "      <th>Women</th>\n",
       "      <td>47</td>\n",
       "      <td>44</td>\n",
       "    </tr>\n",
       "  </tbody>\n",
       "</table>\n",
       "</div>"
      ],
      "text/plain": [
       "                             Agree [%]  Disagree [%]\n",
       "Group                                               \n",
       "all adults                          40            53\n",
       "adults who play video games         32            64\n",
       "adults not play video games         47            42\n",
       "Men                                 31            62\n",
       "Women                               47            44"
      ]
     },
     "execution_count": 10,
     "metadata": {},
     "output_type": "execute_result"
    }
   ],
   "source": [
    "import pandas as pd\n",
    "\n",
    "data = {\"Group\": [\"all adults\", \"adults who play video games\", \"adults not play video games\", \"Men\", \"Women\"],\n",
    "        \"Agree [%]\": [40, 32, 47, 31, 47],\n",
    "        \"Disagree [%]\": [53, 64, 42, 62, 44]}\n",
    "        \n",
    "videogames_table = pd.DataFrame(data)\n",
    "videogames_table.set_index(\"Group\", inplace = True)\n",
    "\n",
    "videogames_table"
   ]
  },
  {
   "cell_type": "markdown",
   "metadata": {},
   "source": [
    "**Aufgabe:** Erstellen Sie zu Ihren Daten einen Datensatz, erstellen Sie dann dazu ein paar Diagramme und formulieren Sie eine Hypothese.\n",
    "\n",
    "Präsentieren Sie anschliessend Erkenntnisse.\n",
    "\n",
    "Daten:\n",
    "* Gruppe A: https://www.statista.com/chart/18936/estimated-video-game-industry-revenue-versus-gun-deaths-per-capita/ (siehe Diagramm)\n",
    "* Gruppe B: https://www.statista.com/chart/11086/americas-diverse-pool-of-gamers/ (siehe Diagramm)\n",
    "* Gruppe C: https://www.statista.com/chart/32732/most-successful-movie-franchises-by-worldwide-box-office-gross/ (siehe Diagramm)\n",
    "* Gruppe D: https://www.statista.com/chart/14647/music-streams-in-the-united-states/ (siehe Diagramm)\n"
   ]
  },
  {
   "cell_type": "code",
   "execution_count": null,
   "metadata": {},
   "outputs": [],
   "source": [
    "# Platz zum Erstellen des Datensatzes"
   ]
  },
  {
   "cell_type": "code",
   "execution_count": null,
   "metadata": {},
   "outputs": [],
   "source": [
    "from charts import *\n",
    "# Platz für ein Diagramm"
   ]
  },
  {
   "cell_type": "code",
   "execution_count": null,
   "metadata": {},
   "outputs": [],
   "source": [
    "# Platz für ein Diagramm"
   ]
  },
  {
   "cell_type": "code",
   "execution_count": null,
   "metadata": {},
   "outputs": [],
   "source": [
    "# Platz für ein Diagramm"
   ]
  },
  {
   "cell_type": "markdown",
   "metadata": {},
   "source": [
    "#Hier kommt Ihre Hypothese hin."
   ]
  }
 ],
 "metadata": {
  "kernelspec": {
   "display_name": "Python 3",
   "language": "python",
   "name": "python3"
  },
  "language_info": {
   "codemirror_mode": {
    "name": "ipython",
    "version": 3
   },
   "file_extension": ".py",
   "mimetype": "text/x-python",
   "name": "python",
   "nbconvert_exporter": "python",
   "pygments_lexer": "ipython3",
   "version": "3.8.11"
  }
 },
 "nbformat": 4,
 "nbformat_minor": 2
}
