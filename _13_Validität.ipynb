{
 "cells": [
  {
   "cell_type": "markdown",
   "metadata": {},
   "source": [
    "# Sicherstellen der Validität\n",
    "## Lernziele\n",
    "\n",
    "\n",
    "Die Schüler:innen wissen\n",
    "* Welche Aspekte wichtig sind, um sicherzustellen, dass eigene Datensätze und Datenanalysen valide sind.\n",
    "* Welche verschiedenen Arten von Gefahren es gibt für die Validität\n",
    "\n",
    "Die Schüler:innen können\n",
    "* diese Gefahren in einem Beschrieb einer Datenanalyse erkennen\n",
    "* ihre eigenen bisherigen Datenanalysen analysieren und allfällige Gefahren erkennen.\n",
    "\n"
   ]
  },
  {
   "cell_type": "markdown",
   "metadata": {},
   "source": [
    "## Was ist Validität\n",
    "\n",
    "Eine Umfrage sagt: \"Menschen bevorzugen Katzen gegenüber Hunden\"\n",
    "\n",
    "Als gute Data Scientists sammeln die Mitarbeiter des Tierheims ständig Daten über ihre Tiere, ihre Freiwilligen und die Menschen, die sie besuchen. Aber nur weil sie Daten haben, heißt das nicht, dass die Schlussfolgerungen, die sie daraus ziehen, richtig sind! Ein Beispiel: Nehmen wir an, sie haben 1.000 Katzenbesitzer befragt und festgestellt, dass 95 % von ihnen Katzen für das beste Haustier halten. Könnten sie dann wirklich behaupten, dass die Menschen Katzen generell den Hunden vorziehen?"
   ]
  },
  {
   "cell_type": "markdown",
   "metadata": {},
   "source": [
    "#Hier kommt ihre Meinung hin."
   ]
  },
  {
   "cell_type": "markdown",
   "metadata": {},
   "source": [
    "Zur Datenanalyse gehört mehr als nur das Sammeln von Daten und das Ausrechnen von Zahlen. Im Beispiel der Umfrage über Katzenbesitzer ist die Behauptung, dass \"Menschen Katzen gegenüber Hunden bevorzugen\", ungültig, weil die Daten selbst nicht repräsentativ für die Gesamtbevölkerung waren (natürlich haben Katzenbesitzer eine Vorliebe für Katzen!). Dies ist nur ein Beispiel für die so genannten Bedrohungen der Validität.\n",
    "\n",
    "Es gibt mehrere Hauptbedrohungen für die Validität, vor denen Sie sich in Acht nehmen sollten:\n",
    "\n",
    "Selektionsverzerrung - Die Daten wurden aus einer verzerrten, nicht repräsentativen Stichprobe der Bevölkerung erhoben. Dies ist das Problem bei der Befragung von Katzenbesitzern, um herauszufinden, welches Tier am meisten geliebt wird. Denken Sie daran, dass der Schlüssel zu unvoreingenommenen Stichproben in der Regel die Zufallsauswahl ist!\n",
    "\n",
    "Voreingenommenheit im Studiendesign - Nehmen wir an, Sie befragen eine Zufallsstichprobe von Haustierbesitzern, die sowohl eine repräsentative Anzahl von Katzen- als auch von Hundebesitzern umfasst. Sie stellen ihnen aber eine \"geladene\" Frage wie \"Da sich die jährlichen Tierarztkosten für Hunde auf etwa 300 Dollar belaufen und für Katzen nur etwa die Hälfte davon, würden Sie sagen, dass der Besitz einer Katze eine geringere Belastung darstellt als der eines Hundes?\" Dies könnte leicht zu einer falschen Darstellung der wahren Meinung der Menschen führen.\n",
    "\n",
    "Schlechte Auswahl der zusammenfassenden Daten - Selbst wenn die Auswahl unvoreingenommen ist, sind Ausreißer manchmal so extrem, dass sie die Ergebnisse unserer Analyse (z. B. den Mittelwert) in einer Weise verschieben, die die Grundgesamtheit nicht repräsentiert. Wenn das Tierheim z. B. eine 100-jährige Schildkröte beherbergt und das Alter der Tiere mit dem Mittelwert zusammenfasst, würde dies unsere Wahrnehmung des typischen Alters aufblähen.\n",
    "\n",
    "Störende Variablen - Die gesammelten Daten berücksichtigen keine anderen Faktoren, die eine Beziehung beeinflussen könnten. So könnte eine Studie beispielsweise zu dem Schluss kommen, dass Katzenbesitzer umweltbewusster sind: Sie nutzen eher öffentliche Verkehrsmittel als Hundebesitzer. Die Störvariable könnte hier das Wohnen in der Stadt im Vergleich zum Wohnen auf dem Land sein: Menschen, die in großen Städten leben, nutzen eher öffentliche Verkehrsmittel und haben auch eher eine Katze.\n",
    "\n",
    "Dies ist nur eine kleine Liste der verschiedenen Gefahren für die Validität. Es gibt noch viele mehr!\n"
   ]
  },
  {
   "cell_type": "markdown",
   "metadata": {},
   "source": [
    "*Verschiedene mögliche Fehler*"
   ]
  },
  {
   "cell_type": "markdown",
   "metadata": {},
   "source": [
    "Einige Freiwillige des Tierheims befragten eine Gruppe von Tierhaltern in einem örtlichen Hundepark. Sie stellten fest, dass fast alle Besitzer mit ihren Hunden dort waren. Aus dieser Umfrage schlossen sie, dass Hunde das beliebteste Haustier in diesem Bundesstaat sind."
   ]
  },
  {
   "cell_type": "markdown",
   "metadata": {},
   "source": [
    "Weshalb ist diese Schlussfolgerung unter Umständen nicht valide?"
   ]
  },
  {
   "cell_type": "markdown",
   "metadata": {},
   "source": [
    "#Hier kommt ihre Antwort hin"
   ]
  },
  {
   "cell_type": "markdown",
   "metadata": {},
   "source": [
    "Das Tierheim hat zwischen Weihnachten und dem Valentinstag einen starken Anstieg der Adoptionen von Haustieren festgestellt. Sie kommen zu dem Schluss, dass bei dem derzeitigen Tempo die Nachfrage nach Haustieren im Frühjahr enorm sein wird."
   ]
  },
  {
   "cell_type": "markdown",
   "metadata": {},
   "source": [
    "Weshalb ist diese Schlussfolgerung unter Umständen nicht valide?"
   ]
  },
  {
   "cell_type": "markdown",
   "metadata": {},
   "source": [
    "#Hier kommt ihre Antwort hin"
   ]
  },
  {
   "cell_type": "markdown",
   "metadata": {},
   "source": [
    "Das Tierheim wollte herausfinden, welche Art von Futter es für seine Tiere kaufen sollte. Sie nahmen eine Stichprobe von zwei Tieren und dem Futter, das sie fressen, und fanden heraus, dass Spinnen- und Kaninchenfutter bei weitem die beliebteste Küche war!\n"
   ]
  },
  {
   "cell_type": "markdown",
   "metadata": {},
   "source": [
    "Weshalb ist diese Schlussfolgerung unter Umständen nicht valide? In welchen Fällen reicht es nicht aus, anhand von nur zwei Tieren auf die anderen zu schliessen?"
   ]
  },
  {
   "cell_type": "markdown",
   "metadata": {},
   "source": [
    "#Hier kommt ihre Antwort hin\n"
   ]
  },
  {
   "cell_type": "markdown",
   "metadata": {},
   "source": [
    "Ein Freiwilliger öffnet das Tierheim am Morgen und geht mit allen Hunden spazieren. Mittags füttert ein anderer Freiwilliger alle Hunde und führt sie erneut aus. Am Abend geht ein dritter Freiwilliger ein letztes Mal mit den Hunden spazieren und schließt das Tierheim. Die Freiwilligen berichten, dass die Hunde mittags viel freundlicher und aktiver sind, so dass die Mitarbeiter des Tierheims annehmen, dass der zweite Freiwillige besser mit den Tieren umgehen kann als die anderen.\n",
    "\n"
   ]
  },
  {
   "cell_type": "markdown",
   "metadata": {},
   "source": [
    "Weshalb ist diese Schlussfolgerung unter Umständen nicht valide?"
   ]
  },
  {
   "cell_type": "markdown",
   "metadata": {},
   "source": [
    "#Hier kommt ihre Antwort hin"
   ]
  },
  {
   "cell_type": "markdown",
   "metadata": {},
   "source": [
    "## Fake News"
   ]
  },
  {
   "cell_type": "markdown",
   "metadata": {},
   "source": [
    "Sie haben bereits eine Reihe von Möglichkeiten gesehen, wie Statistiken missbraucht werden können:\n",
    "\n",
    "* Verwendung des Mittelwerts anstelle des Medians bei stark verzerrten Daten\n",
    "* Verwendung der falschen Sprache bei der Beschreibung einer linearen Regression\n",
    "* Verwendung einer Korrelation, um eine Kausalität zu implizieren\n",
    "\n",
    "Es gibt auch andere Möglichkeiten, Leser:innen in die Irre zu führen:\n",
    "\n",
    "Die absichtliche Verwendung des falschen Diagramms - nehmen wir an, die Volkszählung fragt nach Daten von verschiedenen Personengruppen und erhält keine von einer Gruppe. Das wäre sehr verdächtig! Diese Gruppe würde in einem Balkendiagramm als leere Stelle erscheinen, wodurch das Fehlen der Daten sichtbar würde. Ein Tortendiagramm hingegen würde diese Abwesenheit vollständig verbergen, so dass es unwahrscheinlich ist, dass jemand überhaupt bemerkt, dass diese Gruppe \"ausradiert\" wurde!\n",
    "\n",
    "Änderung des Maßstabs eines Diagramms - Eine Änderung der y-Achse eines Streudiagramms kann die Steigung der Regressionslinie kleiner erscheinen lassen: \"Sieh mal, die Linie ist doch sowieso flach!\"\n",
    "\n",
    "Bei all den Nachrichten, die über Zeitungen, Fernsehen, Radio und soziale Medien verbreitet werden, ist es wichtig, die Informationen kritisch zu betrachten!"
   ]
  },
  {
   "cell_type": "markdown",
   "metadata": {},
   "source": [
    "**Themenabschluss**\n",
    "Gemeinsam als Klasse schauen wir ein Extrembeispiel an, das den Unterschied zwischen Korrelation und Kausalität schön aufzeigt:\n",
    "spuriouscorrelations.com\n"
   ]
  },
  {
   "cell_type": "markdown",
   "metadata": {},
   "source": [
    "Nur weil zwei Aspekte korrellieren, heisst es noch lange nicht, dass sie auch kausal zusammenhängen."
   ]
  },
  {
   "cell_type": "markdown",
   "metadata": {},
   "source": []
  }
 ],
 "metadata": {
  "language_info": {
   "name": "python"
  },
  "orig_nbformat": 4
 },
 "nbformat": 4,
 "nbformat_minor": 2
}
