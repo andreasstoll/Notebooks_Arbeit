{
 "cells": [
  {
   "cell_type": "markdown",
   "metadata": {},
   "source": [
    "# Lineare Regression\n",
    "\n",
    "Die Schüler:innen können\n",
    "* eine lineare Regression im Zusammenhang mit dem Tierdatensatz bestätigen.\n",
    "* eine lineare Regression benutzen um Zusammenhänge zu quantifizieren."
   ]
  }
 ],
 "metadata": {
  "language_info": {
   "name": "python"
  },
  "orig_nbformat": 4
 },
 "nbformat": 4,
 "nbformat_minor": 2
}
