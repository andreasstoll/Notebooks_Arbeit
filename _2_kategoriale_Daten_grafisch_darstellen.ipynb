{
 "cells": [
  {
   "cell_type": "markdown",
   "metadata": {},
   "source": [
    "# Kategoriale Daten grafisch darstellen\n",
    "\n",
    "## Lernziele\n",
    "\n",
    "Die Schüler:innen können\n",
    "* Kuchen- und Balkendiagramme lesen.\n",
    "* den Unterschied zwischen Kuchen- und Balkendiagrammen erklären.\n",
    "* Kuchen-, Balkendiagramme aus dem Tierdatensatz erzeugen.\n",
    "\n",
    "## Kuchendiagramme\n",
    "\n",
    "**Einstiegsfragen:** \n",
    "\n",
    "* Wann macht es Sinn aus einer Tabelle ein Bild zu erstellen? \n"
   ]
  },
  {
   "cell_type": "markdown",
   "metadata": {},
   "source": [
    "#Hier kommt Ihre Antwort hin."
   ]
  },
  {
   "cell_type": "markdown",
   "metadata": {},
   "source": [
    "* Welche Arten Bilder aus Daten zu erstellen, kennen Sie?"
   ]
  },
  {
   "cell_type": "markdown",
   "metadata": {},
   "source": [
    "#Hier kommt Ihre Antwort hin."
   ]
  },
  {
   "cell_type": "markdown",
   "metadata": {},
   "source": [
    "Mit Hilfe des Python-Moduls pandas lassen sich auch Diagramme erstellen. Die Funktionen, die im folgenden betrachtet werden, bekommen als Argumente eine Tabelle und ein Attribut und geben ein Bild zurück.\n",
    "\n",
    "Die erste Funktion, die betrachtet wird, hat die folgende Struktur:\n",
    "\n",
    "pie_chart(Tabelle, Attribut)\n",
    "\n",
    "Zum Beispiel:\n",
    "\n",
    "pie_chart(animal_table, \"Beine\")\n",
    "\n",
    "Wir laden wie im Kapitel 1 zuerst mit Hilfe von pandas den Tierdatensatz:"
   ]
  },
  {
   "cell_type": "code",
   "execution_count": null,
   "metadata": {},
   "outputs": [],
   "source": [
    "import pandas as pd # Importiert das Modul pandas unter dem Namen pd\n",
    "datei_name = \"animal_dataset_bc.csv\" # Name der Datei\n",
    "animal_table = pd.read_csv(datei_name, \n",
    "                        header=0, # Die Spaltennamen sind in der 0. Zeile der Tabelle (in der Informatik wir mit 0 zu zählen begonnen)\n",
    "                        names=[\"Name\", \"Spezies\", \"Geschlecht\", \"Alter\", \"Steril\", \"Beine\", \"Gewicht\", \"Wochen\"], # Spaltennamen werden gesetzt \n",
    "                        index_col=0) # Die 0. Spalte wird für die Labels benutzt"
   ]
  },
  {
   "cell_type": "code",
   "execution_count": null,
   "metadata": {},
   "outputs": [],
   "source": [
    "from charts import pie_chart # Aus dem Modul charts wird die Funktion pie_chart importiert\n",
    "\n",
    "pie_chart(animal_table, \"Beine\") # Erstellt ein Kuchendiagramm"
   ]
  },
  {
   "cell_type": "markdown",
   "metadata": {},
   "source": [
    "**Einzelarbeit:** Was genau zeigt das obige Diagramm? "
   ]
  },
  {
   "cell_type": "markdown",
   "metadata": {},
   "source": [
    "#Hier kommt Ihre Antwort hin"
   ]
  },
  {
   "cell_type": "markdown",
   "metadata": {},
   "source": [
    "Die Funktion pie_chart bekommt als Argument eine Tabelle von Daten (einen Datensatz) und den Namen einer Spalte mit kategorialen Daten und gibt ein **Kuchendiagramm** aus. \n",
    "\n",
    "Die Funktion pie_chart geht durch die entsprechende Spalte und zählt, wie oft ein bestimmter Wert vorkommt. Dann wird ein Kuchenstück für den entsprechenden Wert gezeichnet. Das Kuchenstück entspricht dabei dem prozentualen Anteil der Anzahl Vorkommnisse des Wertes. \n",
    "\n",
    "Im obigen Beispiel wurde das animal_table als Tabelle benutzt und \"Beine\" (die Anzahl Beine) als Spalte."
   ]
  },
  {
   "cell_type": "markdown",
   "metadata": {},
   "source": [
    "## Balkendiagramme\n",
    "\n",
    "Die Funktion bar_chart bekommt als Argumente eine Tabelle und den Namen einer Spalte mit kategorialen Daten und gibt ein **Balkendiagramm** aus. \n",
    "\n",
    "Zum Beispiel: bar_chart(animal_table, \"Beine\")."
   ]
  },
  {
   "cell_type": "markdown",
   "metadata": {},
   "source": [
    "**Einzelarbeit:**\n",
    "\n",
    "1. Erstellen Sie ein Balkendiagramm, welches darstellt, wie viele Tiere es im Tierdatensatz pro Spezies hat. <br>\n",
    "Der Tierdatensatz ist unter \"animal_table\" gespeichert (siehe oben)"
   ]
  },
  {
   "cell_type": "code",
   "execution_count": null,
   "metadata": {},
   "outputs": [],
   "source": [
    "from charts import bar_chart # Aus dem Modul charts wird die Funktion bar_chart importiert\n",
    "\n",
    "# Hier kommt Ihr Code hin."
   ]
  },
  {
   "cell_type": "code",
   "execution_count": null,
   "metadata": {},
   "outputs": [],
   "source": [
    "#Lösung:\n",
    "from charts import bar_chart\n",
    "\n",
    "bar_chart(animal_table, \"Spezies\")"
   ]
  },
  {
   "cell_type": "markdown",
   "metadata": {},
   "source": [
    "2. Experimentieren Sie mit Kuchen- und Balkendiagrammen, indem Sie verschiedene Spaltennamen benutzen."
   ]
  },
  {
   "cell_type": "code",
   "execution_count": null,
   "metadata": {},
   "outputs": [],
   "source": [
    "# Hier kommt Ihr Code hin."
   ]
  },
  {
   "cell_type": "markdown",
   "metadata": {},
   "source": [
    "3. Das folgende Diagramm ist wenig sinnvoll:"
   ]
  },
  {
   "cell_type": "code",
   "execution_count": null,
   "metadata": {},
   "outputs": [],
   "source": [
    "bar_chart(animal_table, \"Gewicht\")"
   ]
  },
  {
   "cell_type": "markdown",
   "metadata": {},
   "source": [
    "Warum ist diese Diagramm keine gute Wahl? "
   ]
  },
  {
   "cell_type": "markdown",
   "metadata": {},
   "source": [
    "#Hier kommt Ihre Antwort hin. "
   ]
  },
  {
   "cell_type": "markdown",
   "metadata": {},
   "source": [
    "4. Welche Spalten eignen sich für Balken- und Kuchendiagramme? Welche nicht?"
   ]
  },
  {
   "cell_type": "markdown",
   "metadata": {},
   "source": [
    "#Hier kommt Ihre Antwort hin."
   ]
  },
  {
   "cell_type": "markdown",
   "metadata": {},
   "source": [
    "5. Wann würden Sie ein Balkendiagramm statt einem Kuchendiagramm verwenden? Wann umgekeht?"
   ]
  },
  {
   "cell_type": "markdown",
   "metadata": {},
   "source": [
    "#Hier kommt Ihre Antwort hin."
   ]
  },
  {
   "cell_type": "markdown",
   "metadata": {},
   "source": [
    "**Zusätzliche Übungen:** Gegeben sind die Maturitätsabschlüsse des Jahrs 2020 nach Schwerpunktfach."
   ]
  },
  {
   "cell_type": "markdown",
   "metadata": {},
   "source": [
    "1. Betrachten Sie die folgenden beiden Kuchendiagramme:\n",
    "\n",
    "<img src=\"Images/Bern.png\">\n",
    "\n",
    "<img src=\"Images/Solothurn.png\">\n",
    "\n",
    "* Was fällt Ihnen auf?"
   ]
  },
  {
   "cell_type": "markdown",
   "metadata": {},
   "source": [
    "#Hier kommt Ihre Antwort hin."
   ]
  },
  {
   "cell_type": "markdown",
   "metadata": {},
   "source": [
    "* Was würde Sie interessieren?"
   ]
  },
  {
   "cell_type": "markdown",
   "metadata": {},
   "source": [
    "#Hier kommt Ihre Antwort hin."
   ]
  },
  {
   "cell_type": "markdown",
   "metadata": {},
   "source": [
    "2. Betrachten Sie die folgenden beiden Balkendiagramme:\n",
    "\n",
    "<img src=\"Images/Tessin_bar_weiss.png\" width=\"500\"/>\n",
    "\n",
    "<img src=\"Images/Zuerich_bar_weiss.png\" width=\"500\"/>\n",
    "\n",
    "* Was fällt Ihnen auf? "
   ]
  },
  {
   "cell_type": "markdown",
   "metadata": {},
   "source": [
    "#Hier kommt Ihre Antwort hin."
   ]
  },
  {
   "cell_type": "markdown",
   "metadata": {},
   "source": [
    "* Was würde Sie interessieren? "
   ]
  },
  {
   "cell_type": "markdown",
   "metadata": {},
   "source": [
    "#Hier kommt Ihre Antwort hin."
   ]
  },
  {
   "cell_type": "markdown",
   "metadata": {},
   "source": [
    "## Verschieden Diagrammtypen\n",
    "\n",
    "**Einzelarbeit**\n",
    "\n",
    "1. Erstellen Sie ein sinnvolles Kuchendiagramm mit dem Tierdatensatz."
   ]
  },
  {
   "cell_type": "code",
   "execution_count": null,
   "metadata": {},
   "outputs": [],
   "source": [
    "# Hier kommt Ihr Code hin."
   ]
  },
  {
   "cell_type": "markdown",
   "metadata": {},
   "source": [
    "* Stellt ein Kuchendiagramm kategoriale oder quantitative Daten dar?"
   ]
  },
  {
   "cell_type": "markdown",
   "metadata": {},
   "source": [
    "#Hier kommt Ihre Antwort hin."
   ]
  },
  {
   "cell_type": "markdown",
   "metadata": {},
   "source": [
    "\n",
    "* Was genau zeigt uns ein Kuchendiagramm? "
   ]
  },
  {
   "cell_type": "markdown",
   "metadata": {},
   "source": [
    "#Hier kommt Ihre Antwort hin."
   ]
  },
  {
   "cell_type": "markdown",
   "metadata": {},
   "source": [
    "2. Erstellen Sie ein sinnvolles Balkendiagramm mit dem Tierdatensatz."
   ]
  },
  {
   "cell_type": "code",
   "execution_count": null,
   "metadata": {},
   "outputs": [],
   "source": [
    "# Hier kommt Ihr Code hin."
   ]
  },
  {
   "cell_type": "markdown",
   "metadata": {},
   "source": [
    "* Stellt ein Balkendiagramm kategoriale oder quantitative Daten dar?"
   ]
  },
  {
   "cell_type": "markdown",
   "metadata": {},
   "source": [
    "#Hier kommt Ihre Antwort hin."
   ]
  },
  {
   "cell_type": "markdown",
   "metadata": {},
   "source": [
    "* Was genau zeigt uns ein Balkendiagramm?"
   ]
  },
  {
   "cell_type": "markdown",
   "metadata": {},
   "source": [
    "#Hier kommt Ihre Antwort hin."
   ]
  },
  {
   "cell_type": "markdown",
   "metadata": {},
   "source": [
    "3. Mit Python und pandas lassen sich auch andere Diagramme darstellen. Zum Beispiel Histogramme. Hier ein Beispiel:"
   ]
  },
  {
   "cell_type": "code",
   "execution_count": null,
   "metadata": {},
   "outputs": [],
   "source": [
    "from charts import histogram\n",
    "\n",
    "histogram(animal_table, \"Gewicht\", 12)"
   ]
  },
  {
   "cell_type": "markdown",
   "metadata": {},
   "source": [
    "* Stellt ein Histogramm kategoriale oder quantitative Daten dar?\n"
   ]
  },
  {
   "cell_type": "markdown",
   "metadata": {},
   "source": [
    "#Hier kommt Ihre Antwort hin."
   ]
  },
  {
   "cell_type": "markdown",
   "metadata": {},
   "source": [
    "* Was genau zeigt uns ein Histogramm?"
   ]
  },
  {
   "cell_type": "markdown",
   "metadata": {},
   "source": [
    "#Hier kommt Ihre Antwort hin."
   ]
  },
  {
   "cell_type": "markdown",
   "metadata": {},
   "source": [
    "* Was ist die Bedeutung vom dritten Argument der Funktion histogram (in unserem Beispiel 12)?"
   ]
  },
  {
   "cell_type": "markdown",
   "metadata": {},
   "source": [
    "#Hier kommt Ihre Antwort hin."
   ]
  },
  {
   "cell_type": "markdown",
   "metadata": {},
   "source": [
    "4. Ein weitere Diagrammtyp sind Boxplots. Zum Beispiel:"
   ]
  },
  {
   "cell_type": "code",
   "execution_count": null,
   "metadata": {},
   "outputs": [],
   "source": [
    "from charts import box_plot\n",
    "\n",
    "box_plot(animal_table, \"Gewicht\")"
   ]
  },
  {
   "cell_type": "markdown",
   "metadata": {},
   "source": [
    "Können Sie den Boxplot mit Hilfe von https://de.wikipedia.org/wiki/Box-Plot verstehen? Lesen Sie insbesondere den Abschnitt \"Zusammenfassung der Kennwerte\" durch.\n",
    "\n",
    "* Stellt ein Boxplot kategoriale oder quantitative Daten dar? "
   ]
  },
  {
   "cell_type": "markdown",
   "metadata": {},
   "source": [
    "#Hier kommt Ihre Antwort hin."
   ]
  },
  {
   "cell_type": "markdown",
   "metadata": {},
   "source": [
    "* Was genau zeigt uns ein Boxplot?"
   ]
  },
  {
   "cell_type": "markdown",
   "metadata": {},
   "source": [
    "#Hier kommt Ihre Antwort hin."
   ]
  },
  {
   "cell_type": "markdown",
   "metadata": {},
   "source": [
    "5. Der letzte Diagrammtyp, der hier gezeigt werden soll, ist das Streudiagramm (auf englisch *scatter plot*)."
   ]
  },
  {
   "cell_type": "code",
   "execution_count": null,
   "metadata": {},
   "outputs": [],
   "source": [
    "from charts import scatter_plot\n",
    "\n",
    "scatter_plot(animal_table, \"Gewicht\", \"Wochen\")"
   ]
  },
  {
   "cell_type": "markdown",
   "metadata": {},
   "source": [
    "* Stellt ein Streudiagramm kategoriale oder quantitative Daten dar? "
   ]
  },
  {
   "cell_type": "markdown",
   "metadata": {},
   "source": [
    "#Hier kommt Ihre Antwort hin."
   ]
  },
  {
   "cell_type": "markdown",
   "metadata": {},
   "source": [
    "* Was genau zeigt uns ein Streudiagramm?"
   ]
  },
  {
   "cell_type": "markdown",
   "metadata": {},
   "source": [
    "#Hier kommt Ihre Antwort hin."
   ]
  },
  {
   "cell_type": "markdown",
   "metadata": {},
   "source": [
    "* Warum werden zwei Spalten der Tabelle benötigt?"
   ]
  },
  {
   "cell_type": "markdown",
   "metadata": {},
   "source": [
    "#Hier kommt Ihre Antwort hin."
   ]
  },
  {
   "cell_type": "markdown",
   "metadata": {},
   "source": [
    "*Ein Punkt hat zwei Koordinaten, es geht um den Zusammenhang zwischen zwei Spalten der Tabelle bzw. zwei Variablen.*"
   ]
  },
  {
   "cell_type": "markdown",
   "metadata": {},
   "source": [
    "**Zusätzliche Übungen:**\n",
    "Erstellen Sie die folgenden Diagramme.\n",
    "\n",
    "1. Ein Kuchendiagramm, welches die verschiedenen Spezies der Tierdatenbank darstellt."
   ]
  },
  {
   "cell_type": "code",
   "execution_count": null,
   "metadata": {},
   "outputs": [],
   "source": [
    "# Hier kommt Ihr Code hin."
   ]
  },
  {
   "cell_type": "markdown",
   "metadata": {},
   "source": [
    "2. Ein Balkendidagramm, welches zeigt, wie viele Tiere steril sind."
   ]
  },
  {
   "cell_type": "code",
   "execution_count": null,
   "metadata": {},
   "outputs": [],
   "source": [
    "# Hier kommt Ihr Code hin."
   ]
  },
  {
   "cell_type": "markdown",
   "metadata": {},
   "source": [
    "3. Ein Histogramm mit dem Gewicht der Tiere."
   ]
  },
  {
   "cell_type": "code",
   "execution_count": null,
   "metadata": {},
   "outputs": [],
   "source": [
    "# Hier kommt Ihr Code hin."
   ]
  },
  {
   "cell_type": "markdown",
   "metadata": {},
   "source": [
    "4. Einen Boxplot der die Wochen, wie lange es bis zur Adoption dauert, darstellt."
   ]
  },
  {
   "cell_type": "code",
   "execution_count": null,
   "metadata": {},
   "outputs": [],
   "source": [
    "# Hier kommt Ihr Code hin."
   ]
  },
  {
   "cell_type": "markdown",
   "metadata": {},
   "source": [
    "5. Eine Streudiagramm (*scatter plot*), welches \"Alter\" als x-Achse und \"Wochen\" als y-Achse benutzt."
   ]
  },
  {
   "cell_type": "code",
   "execution_count": null,
   "metadata": {},
   "outputs": [],
   "source": [
    "# Hier kommt Ihr Code hin."
   ]
  },
  {
   "cell_type": "markdown",
   "metadata": {},
   "source": [
    "6. Eine Streudiagramm, welches \"Gewicht\" als x-Achse und \"Alter\" als y-Achse benutzt."
   ]
  },
  {
   "cell_type": "code",
   "execution_count": null,
   "metadata": {},
   "outputs": [],
   "source": [
    "# Hier kommt Ihr Code hin."
   ]
  },
  {
   "cell_type": "markdown",
   "metadata": {},
   "source": [
    "7. Ist Ihnen bei den Visualisierungen dieser Aufgabe etwas aufgefallen?"
   ]
  },
  {
   "cell_type": "markdown",
   "metadata": {},
   "source": [
    "#Hier kommt Ihre Antwort hin."
   ]
  },
  {
   "cell_type": "markdown",
   "metadata": {},
   "source": [
    "8. Würde Sie etwas interessieren?"
   ]
  },
  {
   "cell_type": "markdown",
   "metadata": {},
   "source": [
    "#Hier kommt Ihre Antwort hin."
   ]
  },
  {
   "cell_type": "markdown",
   "metadata": {},
   "source": [
    "## Abschlussquiz\n",
    "\n",
    "Für das Abschlussquiz führen Sie bitten den folgenden Code aus."
   ]
  },
  {
   "cell_type": "code",
   "execution_count": null,
   "metadata": {},
   "outputs": [],
   "source": [
    "from fragen import *\n",
    "\n",
    "fragen2()"
   ]
  }
 ],
 "metadata": {
  "interpreter": {
   "hash": "06857816d295f49859cc9b744cb5307f357aa28072ae1f3fa176dda7f6176408"
  },
  "kernelspec": {
   "display_name": "Python 3.8.11 ('base')",
   "language": "python",
   "name": "python3"
  },
  "language_info": {
   "codemirror_mode": {
    "name": "ipython",
    "version": 3
   },
   "file_extension": ".py",
   "mimetype": "text/x-python",
   "name": "python",
   "nbconvert_exporter": "python",
   "pygments_lexer": "ipython3",
   "version": "3.8.11"
  },
  "orig_nbformat": 4
 },
 "nbformat": 4,
 "nbformat_minor": 2
}
