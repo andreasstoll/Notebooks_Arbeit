{
 "cells": [
  {
   "cell_type": "markdown",
   "metadata": {},
   "source": [
    "# Tabellenmethoden\n",
    "\n",
    "## Lernziele\n",
    "\n",
    "Die Schüler:innen können\n",
    "* den Tierdatensatz nach verschiedenen Kriterien ordnen.\n",
    "* den Tierdatensatz nach verschiedenen Kriterien filtern.\n",
    "* eine Spalte zum Datensatz hinzufügen.\n",
    "\n"
   ]
  },
  {
   "cell_type": "markdown",
   "metadata": {},
   "source": [
    "## Einführung in Funktionsdefinitionen\n",
    "\n",
    "**Einzelarbeit:** Als erstes wird wieder der Tierdatensatz geladen."
   ]
  },
  {
   "cell_type": "code",
   "execution_count": 1,
   "metadata": {},
   "outputs": [
    {
     "data": {
      "text/html": [
       "<div>\n",
       "<style scoped>\n",
       "    .dataframe tbody tr th:only-of-type {\n",
       "        vertical-align: middle;\n",
       "    }\n",
       "\n",
       "    .dataframe tbody tr th {\n",
       "        vertical-align: top;\n",
       "    }\n",
       "\n",
       "    .dataframe thead th {\n",
       "        text-align: right;\n",
       "    }\n",
       "</style>\n",
       "<table border=\"1\" class=\"dataframe\">\n",
       "  <thead>\n",
       "    <tr style=\"text-align: right;\">\n",
       "      <th></th>\n",
       "      <th>Spezies</th>\n",
       "      <th>Geschlecht</th>\n",
       "      <th>Alter</th>\n",
       "      <th>Steril</th>\n",
       "      <th>Beine</th>\n",
       "      <th>Gewicht</th>\n",
       "      <th>Wochen</th>\n",
       "    </tr>\n",
       "    <tr>\n",
       "      <th>Name</th>\n",
       "      <th></th>\n",
       "      <th></th>\n",
       "      <th></th>\n",
       "      <th></th>\n",
       "      <th></th>\n",
       "      <th></th>\n",
       "      <th></th>\n",
       "    </tr>\n",
       "  </thead>\n",
       "  <tbody>\n",
       "    <tr>\n",
       "      <th>Sasha</th>\n",
       "      <td>Katze</td>\n",
       "      <td>weiblich</td>\n",
       "      <td>1.0</td>\n",
       "      <td>False</td>\n",
       "      <td>4</td>\n",
       "      <td>6.5</td>\n",
       "      <td>3</td>\n",
       "    </tr>\n",
       "    <tr>\n",
       "      <th>Snuffles</th>\n",
       "      <td>Hase</td>\n",
       "      <td>weiblich</td>\n",
       "      <td>3.0</td>\n",
       "      <td>True</td>\n",
       "      <td>4</td>\n",
       "      <td>3.5</td>\n",
       "      <td>8</td>\n",
       "    </tr>\n",
       "    <tr>\n",
       "      <th>Mittens</th>\n",
       "      <td>Katze</td>\n",
       "      <td>weiblich</td>\n",
       "      <td>2.0</td>\n",
       "      <td>True</td>\n",
       "      <td>4</td>\n",
       "      <td>7.4</td>\n",
       "      <td>1</td>\n",
       "    </tr>\n",
       "    <tr>\n",
       "      <th>Sunflower</th>\n",
       "      <td>Katze</td>\n",
       "      <td>weiblich</td>\n",
       "      <td>5.0</td>\n",
       "      <td>True</td>\n",
       "      <td>4</td>\n",
       "      <td>8.1</td>\n",
       "      <td>6</td>\n",
       "    </tr>\n",
       "    <tr>\n",
       "      <th>Felix</th>\n",
       "      <td>Katze</td>\n",
       "      <td>maennlich</td>\n",
       "      <td>16.0</td>\n",
       "      <td>True</td>\n",
       "      <td>4</td>\n",
       "      <td>9.2</td>\n",
       "      <td>5</td>\n",
       "    </tr>\n",
       "  </tbody>\n",
       "</table>\n",
       "</div>"
      ],
      "text/plain": [
       "          Spezies Geschlecht  Alter  Steril  Beine  Gewicht  Wochen\n",
       "Name                                                               \n",
       "Sasha       Katze   weiblich    1.0   False      4      6.5       3\n",
       "Snuffles     Hase   weiblich    3.0    True      4      3.5       8\n",
       "Mittens     Katze   weiblich    2.0    True      4      7.4       1\n",
       "Sunflower   Katze   weiblich    5.0    True      4      8.1       6\n",
       "Felix       Katze  maennlich   16.0    True      4      9.2       5"
      ]
     },
     "execution_count": 1,
     "metadata": {},
     "output_type": "execute_result"
    }
   ],
   "source": [
    "import pandas as pd # Importiert das Modul pandas unter dem Namen pd\n",
    "datei_name = \"animal_dataset_bc.csv\" # Name der Datei\n",
    "animal_table = pd.read_csv(datei_name, \n",
    "                        header=0, # Gibt an, dass die Spaltennamen in der 0. Zeile sind (in der Informatik wir mit 0 zu zählen begonnen)\n",
    "                        names=[\"Name\", \"Spezies\", \"Geschlecht\", \"Alter\", \"Steril\", \"Beine\", \"Gewicht\", \"Wochen\"], # Spaltennamen werden gesetzt \n",
    "                        index_col=0) # Die 0. Spalte wird für die Labels benutzt\n",
    "\n",
    "animal_table.head() #Zeigt die ersten 5 Zeilen der Tabelle an"
   ]
  },
  {
   "cell_type": "markdown",
   "metadata": {},
   "source": [
    "Nun soll ein Programm mit einigen neuen Befehlen betrachtet werden. Betrachten Sie auch die Ausgabe."
   ]
  },
  {
   "cell_type": "code",
   "execution_count": null,
   "metadata": {},
   "outputs": [],
   "source": [
    "def is_female(animal):\n",
    "    return animal.Geschlecht == \"weiblich\"\n",
    "    \n",
    "animal1 = animal_table.iloc[0] \n",
    "\n",
    "print(animal1) #Gibt Angaben zu animal1 aus\n",
    "print(\"Rückgabe von is_female(animal1):\")\n",
    "print(is_female(animal1)) #Gibt die Rückgabe der Funktion is_female aus\n",
    "\n"
   ]
  },
  {
   "cell_type": "markdown",
   "metadata": {},
   "source": [
    "*Hinweise:*\n",
    "* Mit == wird getestest, ob die linke und die rechte Seite gleich sind. <br>\n",
    "2 == 3 ist False (falsch), 4 == 4 ist True (wahr).\n",
    "* Mit != wird getestet, ob die linke und die rechte Seite ungleich sind. <br>\n",
    "2 != 3 ist True (wahr), 4 != 4 ist False (falsch).\n",
    "* Mit > wird getestet, ob die linke Seite grösser ist als die rechte Seite. <br>\n",
    "3 > 2 ist True (wahr), 4 > 4 ist False (falsch).\n",
    "* Mit >= wird getestet, ob die linke Seite grösser oder gleich ist wie die rechte Seite. <br>\n",
    "3 >= 2 ist True (wahr), 4 >= 4 ist auch True (wahr).\n"
   ]
  },
  {
   "cell_type": "markdown",
   "metadata": {},
   "source": [
    "Das obige Programm enthält einige Elemente, die Sie noch nicht kennen.\n",
    "\n",
    "1. Was macht wohl die Zeile animal1 = animal_table.iloc[0]?"
   ]
  },
  {
   "cell_type": "markdown",
   "metadata": {},
   "source": [
    "#Hier kommt Ihre Antwort hin."
   ]
  },
  {
   "cell_type": "markdown",
   "metadata": {},
   "source": [
    "2. Was macht animal_test = animal.table.iloc[3]?"
   ]
  },
  {
   "cell_type": "markdown",
   "metadata": {},
   "source": [
    "#Hier kommt Ihre Antwort hin."
   ]
  },
  {
   "cell_type": "markdown",
   "metadata": {},
   "source": [
    "3. Wie können Sie das 5. Tier der Tabelle (Felix) mit Hilfe von iloc anzeigen lassen?"
   ]
  },
  {
   "cell_type": "code",
   "execution_count": 8,
   "metadata": {},
   "outputs": [],
   "source": [
    "# Hier kommt Ihr Code hin."
   ]
  },
  {
   "cell_type": "markdown",
   "metadata": {},
   "source": [
    "4. Wie können Sie das $n$. Tier der Tabelle mit Hilfe von iloc anzeigen lassen? (Dabei ist $n$ eine sinnvolle natürliche Zahl.)"
   ]
  },
  {
   "cell_type": "markdown",
   "metadata": {},
   "source": [
    "#Hier kommt Ihre Antwort hin."
   ]
  },
  {
   "cell_type": "markdown",
   "metadata": {},
   "source": [
    "5. Können Sie erkären, was die Funktion is_female macht?\n"
   ]
  },
  {
   "cell_type": "markdown",
   "metadata": {},
   "source": [
    "#Hier kommt Ihre Antwort hin."
   ]
  },
  {
   "cell_type": "markdown",
   "metadata": {},
   "source": [
    "6. Finden Sie ein Tier bei dem is_female False (also falsch) zurückgibt?"
   ]
  },
  {
   "cell_type": "markdown",
   "metadata": {},
   "source": [
    "#Hier kommt Ihre Antwort hin."
   ]
  },
  {
   "cell_type": "code",
   "execution_count": null,
   "metadata": {},
   "outputs": [],
   "source": [
    "# Hier kommt Ihr Code hin."
   ]
  },
  {
   "cell_type": "markdown",
   "metadata": {},
   "source": [
    "7. Schreiben Sie eine Funktion is_male, welche True zurückgibt, wenn ein Tier männlich ist und False, falls es nicht männlich ist. Testen Sie Ihre Funktion."
   ]
  },
  {
   "cell_type": "code",
   "execution_count": 147,
   "metadata": {},
   "outputs": [],
   "source": [
    "# Hier kommt Ihr Code hin."
   ]
  },
  {
   "cell_type": "markdown",
   "metadata": {},
   "source": [
    "8. Schreiben Sie eine Funktion is_old, welche True zurückgibt, wenn ein Tier mindestens 5 Jahre alt ist und sonst False. Testen Sie Ihre Funktion zudem mit 1-2 Beispielen."
   ]
  },
  {
   "cell_type": "code",
   "execution_count": 149,
   "metadata": {},
   "outputs": [],
   "source": [
    "# Hier kommt Ihr Code hin."
   ]
  },
  {
   "cell_type": "markdown",
   "metadata": {},
   "source": [
    "**Einzelarbeit:** Gegeben ist das folgende Programm. Beachten Sie, dass die Spalte \"Gewicht\" in Pfund ist."
   ]
  },
  {
   "cell_type": "code",
   "execution_count": 151,
   "metadata": {},
   "outputs": [],
   "source": [
    "def is_dog(animal):\n",
    "    return animal.Spezies == \"Hund\"\n",
    "\n",
    "def kilos(animal):\n",
    "    return animal.Gewicht/2.2\n",
    "\n",
    "animal1 = animal_table.iloc[12]"
   ]
  },
  {
   "cell_type": "code",
   "execution_count": null,
   "metadata": {},
   "outputs": [],
   "source": [
    "is_dog(animal1)"
   ]
  },
  {
   "cell_type": "code",
   "execution_count": null,
   "metadata": {},
   "outputs": [],
   "source": [
    "kilos(animal1)"
   ]
  },
  {
   "cell_type": "markdown",
   "metadata": {},
   "source": [
    "1. Was macht die Funktion is_dog?"
   ]
  },
  {
   "cell_type": "markdown",
   "metadata": {},
   "source": [
    "#Hier kommt Ihre Antwort hin."
   ]
  },
  {
   "cell_type": "markdown",
   "metadata": {},
   "source": [
    "2. Was macht die Funktion kilos?"
   ]
  },
  {
   "cell_type": "markdown",
   "metadata": {},
   "source": [
    "#Hier kommt Ihre Antwort hin."
   ]
  },
  {
   "cell_type": "markdown",
   "metadata": {},
   "source": [
    "3. Schreiben Sie eine Funktion months, welche das Alter eines Tieres in Monaten zurückgibt. Beachten Sie, dass die Spalte \"Alter\" in Jahren ist."
   ]
  },
  {
   "cell_type": "code",
   "execution_count": 154,
   "metadata": {},
   "outputs": [],
   "source": [
    "# Hier kommt Ihr Code hin."
   ]
  },
  {
   "cell_type": "markdown",
   "metadata": {},
   "source": [
    "## Tabellen ordnen\n",
    "\n",
    "**Einzelarbeit:**"
   ]
  },
  {
   "cell_type": "markdown",
   "metadata": {},
   "source": [
    "1. Was macht das folgende Programm?"
   ]
  },
  {
   "cell_type": "markdown",
   "metadata": {},
   "source": [
    "#Hier kommt Ihre Antwort hin."
   ]
  },
  {
   "cell_type": "code",
   "execution_count": null,
   "metadata": {},
   "outputs": [],
   "source": [
    "animal_table = animal_table.sort_values(\"Gewicht\",ascending=True)\n",
    "animal_table.head(10) #Zeigt die ersten 10 Zeilen der Tabelle an."
   ]
  },
  {
   "cell_type": "markdown",
   "metadata": {},
   "source": [
    "2. Was macht das folgende Programm?"
   ]
  },
  {
   "cell_type": "markdown",
   "metadata": {},
   "source": [
    "#Hier kommt Ihre Antwort hin."
   ]
  },
  {
   "cell_type": "code",
   "execution_count": null,
   "metadata": {},
   "outputs": [],
   "source": [
    "animal_table = animal_table.sort_values(\"Beine\",ascending=False)\n",
    "animal_table.head(10)"
   ]
  },
  {
   "cell_type": "markdown",
   "metadata": {},
   "source": [
    "3. Was passiert, wenn ascending = True ist? Was, wenn ascending = False ist?"
   ]
  },
  {
   "cell_type": "markdown",
   "metadata": {},
   "source": [
    "#Hier kommt Ihre Antwort hin."
   ]
  },
  {
   "cell_type": "markdown",
   "metadata": {},
   "source": [
    "4. Sortieren Sie die Tabelle animal_table nach Alter (von jung nach alt)."
   ]
  },
  {
   "cell_type": "code",
   "execution_count": 158,
   "metadata": {},
   "outputs": [],
   "source": [
    "# Hier kommt Ihr Code hin."
   ]
  },
  {
   "cell_type": "markdown",
   "metadata": {},
   "source": [
    "5. Welches ist das älteste Tier?"
   ]
  },
  {
   "cell_type": "markdown",
   "metadata": {},
   "source": [
    "#Hier kommt Ihre Antwort hin."
   ]
  },
  {
   "cell_type": "code",
   "execution_count": 9,
   "metadata": {},
   "outputs": [],
   "source": [
    "# Hier kommt Ihr Code zur Erzeugung Ihrer Lösung hin."
   ]
  },
  {
   "cell_type": "markdown",
   "metadata": {},
   "source": [
    "## Daten filtern\n",
    "\n",
    "**Einzelarbeit:**\n",
    "\n",
    "1. Was macht das folgende Programm?"
   ]
  },
  {
   "cell_type": "markdown",
   "metadata": {},
   "source": [
    "#Hier kommt Ihre Antwort hin."
   ]
  },
  {
   "cell_type": "markdown",
   "metadata": {},
   "source": [
    "*Speichert unter old_animal eine Tabelle mit allen Tieren, welche mindestens 5 Jahre alt sind.*\n",
    "\n",
    "*Danach wird die Grösse der Tabelle mit len bestimmt (hier: 12).*"
   ]
  },
  {
   "cell_type": "code",
   "execution_count": 9,
   "metadata": {},
   "outputs": [
    {
     "data": {
      "text/html": [
       "<div>\n",
       "<style scoped>\n",
       "    .dataframe tbody tr th:only-of-type {\n",
       "        vertical-align: middle;\n",
       "    }\n",
       "\n",
       "    .dataframe tbody tr th {\n",
       "        vertical-align: top;\n",
       "    }\n",
       "\n",
       "    .dataframe thead th {\n",
       "        text-align: right;\n",
       "    }\n",
       "</style>\n",
       "<table border=\"1\" class=\"dataframe\">\n",
       "  <thead>\n",
       "    <tr style=\"text-align: right;\">\n",
       "      <th></th>\n",
       "      <th>Spezies</th>\n",
       "      <th>Geschlecht</th>\n",
       "      <th>Alter</th>\n",
       "      <th>Steril</th>\n",
       "      <th>Beine</th>\n",
       "      <th>Gewicht</th>\n",
       "      <th>Wochen</th>\n",
       "    </tr>\n",
       "    <tr>\n",
       "      <th>Name</th>\n",
       "      <th></th>\n",
       "      <th></th>\n",
       "      <th></th>\n",
       "      <th></th>\n",
       "      <th></th>\n",
       "      <th></th>\n",
       "      <th></th>\n",
       "    </tr>\n",
       "  </thead>\n",
       "  <tbody>\n",
       "    <tr>\n",
       "      <th>Felix</th>\n",
       "      <td>Katze</td>\n",
       "      <td>maennlich</td>\n",
       "      <td>16.0</td>\n",
       "      <td>True</td>\n",
       "      <td>4</td>\n",
       "      <td>9.2</td>\n",
       "      <td>5</td>\n",
       "    </tr>\n",
       "    <tr>\n",
       "      <th>Boo-boo</th>\n",
       "      <td>Hund</td>\n",
       "      <td>maennlich</td>\n",
       "      <td>11.0</td>\n",
       "      <td>True</td>\n",
       "      <td>4</td>\n",
       "      <td>123.0</td>\n",
       "      <td>24</td>\n",
       "    </tr>\n",
       "    <tr>\n",
       "      <th>Mr. Peanutbutter</th>\n",
       "      <td>Hund</td>\n",
       "      <td>maennlich</td>\n",
       "      <td>10.0</td>\n",
       "      <td>False</td>\n",
       "      <td>4</td>\n",
       "      <td>161.0</td>\n",
       "      <td>6</td>\n",
       "    </tr>\n",
       "    <tr>\n",
       "      <th>Kujo</th>\n",
       "      <td>Hund</td>\n",
       "      <td>maennlich</td>\n",
       "      <td>8.0</td>\n",
       "      <td>False</td>\n",
       "      <td>4</td>\n",
       "      <td>172.0</td>\n",
       "      <td>30</td>\n",
       "    </tr>\n",
       "    <tr>\n",
       "      <th>Gir</th>\n",
       "      <td>Hund</td>\n",
       "      <td>maennlich</td>\n",
       "      <td>8.0</td>\n",
       "      <td>False</td>\n",
       "      <td>4</td>\n",
       "      <td>88.0</td>\n",
       "      <td>5</td>\n",
       "    </tr>\n",
       "    <tr>\n",
       "      <th>Bo</th>\n",
       "      <td>Hund</td>\n",
       "      <td>maennlich</td>\n",
       "      <td>8.0</td>\n",
       "      <td>True</td>\n",
       "      <td>4</td>\n",
       "      <td>76.1</td>\n",
       "      <td>10</td>\n",
       "    </tr>\n",
       "    <tr>\n",
       "      <th>Sheba</th>\n",
       "      <td>Katze</td>\n",
       "      <td>weiblich</td>\n",
       "      <td>7.0</td>\n",
       "      <td>True</td>\n",
       "      <td>4</td>\n",
       "      <td>8.4</td>\n",
       "      <td>6</td>\n",
       "    </tr>\n",
       "    <tr>\n",
       "      <th>Miaulis</th>\n",
       "      <td>Katze</td>\n",
       "      <td>maennlich</td>\n",
       "      <td>7.0</td>\n",
       "      <td>False</td>\n",
       "      <td>4</td>\n",
       "      <td>8.8</td>\n",
       "      <td>4</td>\n",
       "    </tr>\n",
       "    <tr>\n",
       "      <th>Nibblet</th>\n",
       "      <td>Hase</td>\n",
       "      <td>maennlich</td>\n",
       "      <td>6.0</td>\n",
       "      <td>False</td>\n",
       "      <td>4</td>\n",
       "      <td>4.3</td>\n",
       "      <td>2</td>\n",
       "    </tr>\n",
       "    <tr>\n",
       "      <th>Daisy</th>\n",
       "      <td>Hund</td>\n",
       "      <td>weiblich</td>\n",
       "      <td>5.0</td>\n",
       "      <td>True</td>\n",
       "      <td>4</td>\n",
       "      <td>68.0</td>\n",
       "      <td>8</td>\n",
       "    </tr>\n",
       "    <tr>\n",
       "      <th>Sunflower</th>\n",
       "      <td>Katze</td>\n",
       "      <td>weiblich</td>\n",
       "      <td>5.0</td>\n",
       "      <td>True</td>\n",
       "      <td>4</td>\n",
       "      <td>8.1</td>\n",
       "      <td>6</td>\n",
       "    </tr>\n",
       "    <tr>\n",
       "      <th>Midnight</th>\n",
       "      <td>Hund</td>\n",
       "      <td>weiblich</td>\n",
       "      <td>5.0</td>\n",
       "      <td>False</td>\n",
       "      <td>4</td>\n",
       "      <td>112.0</td>\n",
       "      <td>4</td>\n",
       "    </tr>\n",
       "  </tbody>\n",
       "</table>\n",
       "</div>"
      ],
      "text/plain": [
       "                 Spezies Geschlecht  Alter  Steril  Beine  Gewicht  Wochen\n",
       "Name                                                                      \n",
       "Felix              Katze  maennlich   16.0    True      4      9.2       5\n",
       "Boo-boo             Hund  maennlich   11.0    True      4    123.0      24\n",
       "Mr. Peanutbutter    Hund  maennlich   10.0   False      4    161.0       6\n",
       "Kujo                Hund  maennlich    8.0   False      4    172.0      30\n",
       "Gir                 Hund  maennlich    8.0   False      4     88.0       5\n",
       "Bo                  Hund  maennlich    8.0    True      4     76.1      10\n",
       "Sheba              Katze   weiblich    7.0    True      4      8.4       6\n",
       "Miaulis            Katze  maennlich    7.0   False      4      8.8       4\n",
       "Nibblet             Hase  maennlich    6.0   False      4      4.3       2\n",
       "Daisy               Hund   weiblich    5.0    True      4     68.0       8\n",
       "Sunflower          Katze   weiblich    5.0    True      4      8.1       6\n",
       "Midnight            Hund   weiblich    5.0   False      4    112.0       4"
      ]
     },
     "execution_count": 9,
     "metadata": {},
     "output_type": "execute_result"
    }
   ],
   "source": [
    "old_animals = animal_table[animal_table.Alter>=5]\n",
    "\n",
    "old_animals"
   ]
  },
  {
   "cell_type": "code",
   "execution_count": null,
   "metadata": {},
   "outputs": [],
   "source": [
    "len(old_animals)  # Gibt die Anzahl Elemente von old_animals an."
   ]
  },
  {
   "cell_type": "markdown",
   "metadata": {},
   "source": [
    "2. Wie viele weibliche Tiere gibt es im Tierdatensatz?"
   ]
  },
  {
   "cell_type": "markdown",
   "metadata": {},
   "source": [
    "#Hier kommt Ihre Antwort hin."
   ]
  },
  {
   "cell_type": "code",
   "execution_count": 164,
   "metadata": {},
   "outputs": [],
   "source": [
    "# Hier kommt Ihr Code hin."
   ]
  },
  {
   "cell_type": "markdown",
   "metadata": {},
   "source": [
    "3. Filtern Sie alle Tiere mit 4 Beinen heraus. Wie viele gibt es?\n"
   ]
  },
  {
   "cell_type": "markdown",
   "metadata": {},
   "source": [
    "#Hier kommt Ihre Antwort hin."
   ]
  },
  {
   "cell_type": "code",
   "execution_count": 166,
   "metadata": {},
   "outputs": [],
   "source": [
    "# Hier kommt Ihr Code hin."
   ]
  },
  {
   "cell_type": "markdown",
   "metadata": {},
   "source": [
    "4. Zeichnen Sie ein Histogramm der Gewichte der männlichen Tiere und eines der weiblichen Tiere. Welche werden wohl älter?"
   ]
  },
  {
   "cell_type": "markdown",
   "metadata": {},
   "source": [
    "#Hier kommt Ihre Antwort hin."
   ]
  },
  {
   "cell_type": "code",
   "execution_count": 168,
   "metadata": {},
   "outputs": [],
   "source": [
    "from charts import histogram\n",
    "# Hier kommt Ihr Code hin.\n"
   ]
  },
  {
   "cell_type": "markdown",
   "metadata": {},
   "source": [
    "5. Zeichnen Sie ein Kuchendiagramm der Speziesverteilung aller Tiere, welche mindestens 3 Jahre alt sind."
   ]
  },
  {
   "cell_type": "code",
   "execution_count": 170,
   "metadata": {},
   "outputs": [],
   "source": [
    "# Hier kommt Ihr Code hin, vergessen Sie nicht die Funktion pie_chart zu importieren."
   ]
  },
  {
   "cell_type": "markdown",
   "metadata": {},
   "source": [
    "## Spalten hinzufügen\n",
    "\n",
    "**Einzelarbeit:**\n",
    "\n",
    "1. Was macht das folgende Programm? "
   ]
  },
  {
   "cell_type": "markdown",
   "metadata": {},
   "source": [
    "#Hier kommt Ihre Antwort hin."
   ]
  },
  {
   "cell_type": "code",
   "execution_count": null,
   "metadata": {},
   "outputs": [],
   "source": [
    "def is_old(animal):\n",
    "    return animal.Alter >= 5\n",
    "\n",
    "animal_table[\"Alt\"] = animal_table.apply(is_old, axis =1)\n",
    "\n",
    "animal_table"
   ]
  },
  {
   "cell_type": "markdown",
   "metadata": {},
   "source": [
    "2. Was macht das folgende Programm?"
   ]
  },
  {
   "cell_type": "markdown",
   "metadata": {},
   "source": [
    "#Hier kommt Ihre Antwort hin."
   ]
  },
  {
   "cell_type": "code",
   "execution_count": null,
   "metadata": {},
   "outputs": [],
   "source": [
    "def kilos(animal):\n",
    "    return animal.Gewicht/2.2 #Hinweis. Die Spalte \"Gewicht\" ist in Pfund.\n",
    "\n",
    "animal_table[\"Kilos\"] = animal_table.apply(kilos, axis =1)\n",
    "\n",
    "animal_table"
   ]
  },
  {
   "cell_type": "markdown",
   "metadata": {},
   "source": [
    "3. Wie genau kann eine Spalte hinzugefügt werden?"
   ]
  },
  {
   "cell_type": "markdown",
   "metadata": {},
   "source": [
    "#Hier kommt Ihre Antwort hin."
   ]
  },
  {
   "cell_type": "markdown",
   "metadata": {},
   "source": [
    "**Hinweis:** mit apply wird eine Funktion - zum Beispiel is_old in 1. - auf alle Zeilen oder Spalten der Tabelle angewendet. Da die Funktion auf alle Zeilen (und somit die Tiere) angewendet werden soll, muss axis = 1 verwendet werden. Sollte die Funktion auf alle Spalten angewendet werden, müsste axis = 0 verwendet werden."
   ]
  },
  {
   "cell_type": "markdown",
   "metadata": {},
   "source": [
    "## Abschlussquiz\n",
    "\n",
    "Gegeben sind die beiden Funktionen is_dog und is_old und Tabelle mit 4 Zeilen table_new (siehe unten) . Führen sie zu Beginn beide Codeblöcke aus."
   ]
  },
  {
   "cell_type": "markdown",
   "metadata": {},
   "source": []
  },
  {
   "cell_type": "markdown",
   "metadata": {},
   "source": []
  },
  {
   "cell_type": "code",
   "execution_count": 174,
   "metadata": {},
   "outputs": [],
   "source": [
    "import pandas as pd \n",
    "datei_name = \"animal_dataset_bc.csv\"\n",
    "animal_table = pd.read_csv(datei_name,\n",
    "                        header=0,\n",
    "                        names=[\"Name\", \"Spezies\", \"Geschlecht\", \"Alter\", \"Steril\", \"Beine\", \"Gewicht\", \"Wochen\"], \n",
    "                        index_col=0)\n"
   ]
  },
  {
   "cell_type": "code",
   "execution_count": 175,
   "metadata": {},
   "outputs": [
    {
     "data": {
      "text/html": [
       "<div>\n",
       "<style scoped>\n",
       "    .dataframe tbody tr th:only-of-type {\n",
       "        vertical-align: middle;\n",
       "    }\n",
       "\n",
       "    .dataframe tbody tr th {\n",
       "        vertical-align: top;\n",
       "    }\n",
       "\n",
       "    .dataframe thead th {\n",
       "        text-align: right;\n",
       "    }\n",
       "</style>\n",
       "<table border=\"1\" class=\"dataframe\">\n",
       "  <thead>\n",
       "    <tr style=\"text-align: right;\">\n",
       "      <th></th>\n",
       "      <th>Spezies</th>\n",
       "      <th>Geschlecht</th>\n",
       "      <th>Alter</th>\n",
       "      <th>Steril</th>\n",
       "      <th>Beine</th>\n",
       "      <th>Gewicht</th>\n",
       "      <th>Wochen</th>\n",
       "    </tr>\n",
       "  </thead>\n",
       "  <tbody>\n",
       "    <tr>\n",
       "      <th>Rex</th>\n",
       "      <td>Hund</td>\n",
       "      <td>maennlich</td>\n",
       "      <td>1.0</td>\n",
       "      <td>False</td>\n",
       "      <td>4</td>\n",
       "      <td>28.9</td>\n",
       "      <td>9</td>\n",
       "    </tr>\n",
       "    <tr>\n",
       "      <th>Boo-boo</th>\n",
       "      <td>Hund</td>\n",
       "      <td>maennlich</td>\n",
       "      <td>11.0</td>\n",
       "      <td>True</td>\n",
       "      <td>4</td>\n",
       "      <td>123.0</td>\n",
       "      <td>24</td>\n",
       "    </tr>\n",
       "    <tr>\n",
       "      <th>Felix</th>\n",
       "      <td>Katze</td>\n",
       "      <td>maennlich</td>\n",
       "      <td>16.0</td>\n",
       "      <td>True</td>\n",
       "      <td>4</td>\n",
       "      <td>9.2</td>\n",
       "      <td>5</td>\n",
       "    </tr>\n",
       "    <tr>\n",
       "      <th>Mittens</th>\n",
       "      <td>Katze</td>\n",
       "      <td>weiblich</td>\n",
       "      <td>2.0</td>\n",
       "      <td>True</td>\n",
       "      <td>4</td>\n",
       "      <td>7.4</td>\n",
       "      <td>1</td>\n",
       "    </tr>\n",
       "  </tbody>\n",
       "</table>\n",
       "</div>"
      ],
      "text/plain": [
       "        Spezies Geschlecht  Alter  Steril  Beine  Gewicht  Wochen\n",
       "Rex        Hund  maennlich    1.0   False      4     28.9       9\n",
       "Boo-boo    Hund  maennlich   11.0    True      4    123.0      24\n",
       "Felix     Katze  maennlich   16.0    True      4      9.2       5\n",
       "Mittens   Katze   weiblich    2.0    True      4      7.4       1"
      ]
     },
     "execution_count": 175,
     "metadata": {},
     "output_type": "execute_result"
    }
   ],
   "source": [
    "def is_dog(animal):\n",
    "    return animal.Spezies == \"Hund\"\n",
    "\n",
    "def is_old(animal):\n",
    "    return animal.Alter >= 5\n",
    "\n",
    "animal1 = animal_table.iloc[14]\n",
    "animal2 = animal_table.iloc[11]\n",
    "animal3 = animal_table.iloc[4]\n",
    "animal4 = animal_table.iloc[2]\n",
    "\n",
    "table_new = pd.DataFrame([animal1, animal2, animal3, animal4]) # Macht eine Tabelle aus den drei Tieren.\n",
    "\n",
    "table_new"
   ]
  },
  {
   "cell_type": "markdown",
   "metadata": {},
   "source": [
    "Beantworten Sie jeweils in Worten, was für eine Tabelle neu entsteht. Kontrollieren Sie erst danach, indem Sie den entsprechenden Code auführen.\n",
    "\n",
    "1. Was für eine Tabelle entsteht nach dem Ausführen des Codes?"
   ]
  },
  {
   "cell_type": "markdown",
   "metadata": {},
   "source": [
    "#Hier kommt Ihre Antwort hin (führen Sie erst danach den Code aus)."
   ]
  },
  {
   "cell_type": "code",
   "execution_count": null,
   "metadata": {},
   "outputs": [],
   "source": [
    "# Erst nach der Beantwortung der Frage ausführen.\n",
    "\n",
    "table_new = table_new.sort_values(\"Wochen\",ascending=False)\n",
    "table_new"
   ]
  },
  {
   "cell_type": "markdown",
   "metadata": {},
   "source": [
    "2. Was für eine Tabelle entsteht nach dem Ausführen des Codes?"
   ]
  },
  {
   "cell_type": "markdown",
   "metadata": {},
   "source": [
    "#Hier kommt Ihre Antwort hin (führen Sie erst danach den Code aus)."
   ]
  },
  {
   "cell_type": "code",
   "execution_count": null,
   "metadata": {},
   "outputs": [],
   "source": [
    "# Erst nach der Beantwortung der Frage ausführen.\n",
    "\n",
    "table_new = table_new.sort_values(\"Gewicht\",ascending=True)\n",
    "table_new"
   ]
  },
  {
   "cell_type": "markdown",
   "metadata": {},
   "source": [
    "3. Was für eine Tabelle entsteht nach dem Ausführen des Codes?"
   ]
  },
  {
   "cell_type": "markdown",
   "metadata": {},
   "source": [
    "#Hier kommt Ihre Antwort hin (führen Sie erst danach den Code aus)."
   ]
  },
  {
   "cell_type": "code",
   "execution_count": null,
   "metadata": {},
   "outputs": [],
   "source": [
    "# Erst nach der Beantwortung der Frage ausführen.\n",
    "\n",
    "table_new[table_new.Spezies==\"Hund\"]"
   ]
  },
  {
   "cell_type": "markdown",
   "metadata": {},
   "source": [
    "4. Was für eine Tabelle entsteht nach dem Ausführen des Codes?"
   ]
  },
  {
   "cell_type": "markdown",
   "metadata": {},
   "source": [
    "#Hier kommt Ihre Antwort hin (führen Sie erst danach den Code aus)."
   ]
  },
  {
   "cell_type": "code",
   "execution_count": null,
   "metadata": {},
   "outputs": [],
   "source": [
    "# Erst nach der Beantwortung der Frage ausführen.\n",
    "\n",
    "table_new[table_new.Gewicht<=28.9]"
   ]
  },
  {
   "cell_type": "markdown",
   "metadata": {},
   "source": [
    "5. Was für eine Tabelle entsteht nach dem Ausführen des Codes?"
   ]
  },
  {
   "cell_type": "markdown",
   "metadata": {},
   "source": [
    "#Hier kommt Ihre Antwort hin (führen Sie erst danach den Code aus)."
   ]
  },
  {
   "cell_type": "code",
   "execution_count": null,
   "metadata": {},
   "outputs": [],
   "source": [
    "table_new[\"Hund\"] = table_new.apply(is_dog, axis =1)\n",
    "\n",
    "table_new"
   ]
  },
  {
   "cell_type": "markdown",
   "metadata": {},
   "source": [
    "6. Was für eine Tabelle entsteht nach dem Ausführen des Codes?"
   ]
  },
  {
   "cell_type": "markdown",
   "metadata": {},
   "source": [
    "#Hier kommt Ihre Antwort hin (führen Sie erst danach den Code aus)."
   ]
  },
  {
   "cell_type": "code",
   "execution_count": null,
   "metadata": {},
   "outputs": [],
   "source": [
    "# Erst nach der Beantwortung der Frage ausführen.\n",
    "\n",
    "table_new[table_new.Hund]"
   ]
  },
  {
   "cell_type": "markdown",
   "metadata": {},
   "source": [
    "7. Was für eine Tabelle entsteht nach dem Ausführen des Codes?"
   ]
  },
  {
   "cell_type": "markdown",
   "metadata": {},
   "source": [
    "#Hier kommt Ihre Antwort hin (führen Sie erst danach den Code aus)."
   ]
  },
  {
   "cell_type": "code",
   "execution_count": null,
   "metadata": {},
   "outputs": [],
   "source": [
    "# Erst nach der Beantwortung der Frage ausführen.\n",
    "\n",
    "table_new[\"Alt\"] = table_new.apply(is_old, axis =1)\n",
    "\n",
    "table_new"
   ]
  },
  {
   "cell_type": "markdown",
   "metadata": {},
   "source": [
    "8. Was für eine Tabelle entsteht nach dem Ausführen des Codes?"
   ]
  },
  {
   "cell_type": "markdown",
   "metadata": {},
   "source": [
    "#Hier kommt Ihre Antwort hin (führen Sie erst danach den Code aus)."
   ]
  },
  {
   "cell_type": "code",
   "execution_count": null,
   "metadata": {},
   "outputs": [],
   "source": [
    "# Erst nach der Beantwortung der Frage ausführen.\n",
    "\n",
    "table_new = table_new.sort_values([\"Hund\", \"Alter\"],ascending=True)\n",
    "table_new"
   ]
  },
  {
   "cell_type": "markdown",
   "metadata": {},
   "source": [
    "9. Was passiert, wenn beim Sortieren zwei Spalten angeben werden (zum Beispiel table_new.sort_values([\"Hund\", \"Alter\"],ascending=True))?"
   ]
  },
  {
   "cell_type": "markdown",
   "metadata": {},
   "source": [
    "#Hier kommt Ihre Antwort hin."
   ]
  }
 ],
 "metadata": {
  "interpreter": {
   "hash": "26130839a7e87fd59e038942810dbb4909e5232b32b1ad521e6a6bc3043702c6"
  },
  "kernelspec": {
   "display_name": "Python 3.8.11 64-bit ('base': conda)",
   "name": "python3"
  },
  "language_info": {
   "codemirror_mode": {
    "name": "ipython",
    "version": 3
   },
   "file_extension": ".py",
   "mimetype": "text/x-python",
   "name": "python",
   "nbconvert_exporter": "python",
   "pygments_lexer": "ipython3",
   "version": "3.8.11"
  },
  "orig_nbformat": 4
 },
 "nbformat": 4,
 "nbformat_minor": 2
}
