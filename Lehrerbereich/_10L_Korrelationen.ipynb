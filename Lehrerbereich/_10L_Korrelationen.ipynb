{
 "cells": [
  {
   "cell_type": "markdown",
   "metadata": {},
   "source": [
    "## Korrelationen\n",
    "\n",
    "## Lernziele\n",
    "\n",
    "Die Schüler:innen \n",
    "* bestätigen, dass ein Streudiagramm linear aussieht.\n",
    "* verstehen, wie die Korrelation eine Richtung bei einem linearen Zusammenhang angibt.\n",
    "* verstehen, wie die Korrelation die Stärke eines Zusammenhangs misst."
   ]
  },
  {
   "cell_type": "markdown",
   "metadata": {},
   "source": [
    "## Zusammenhänge haben eine Form\n",
    "\n",
    "Im Kapitel \"Streudiagramme\" wurde der Zusammenhang zwischen zwei Variablen untersucht. Welche Form hat aber ein solcher Zusammenhang.\n",
    "\n",
    "Wenn die entsprechende Punktewolche im Streudiagramm im Wesentlichen einer Geraden folgt, handelt es sich um eine **lineare Beziehung** zwischen den beiden Variablen bzw. einen linearen Zusammenhang.\n",
    "\n",
    "**Einzelarbeit:** Manchmal liegt zwischen zwei Variablen eine lineare Beziehung vor, manchmal eine nicht-lineare Beziehung (zum Beispiel eine quadratische oder trigonometrische). Oft gibt es aber auch gar keine Struktur und die Punktewolke hat keine Form.\n",
    "\n",
    "Bestimmen Sie jeweils die Form, die Richtung und die Stärke der Beziehung.\n",
    "\n",
    "*Hinweis:* Wenn die Form nicht linear ist, macht es oft keinen Sinn von einer Richtung zu sprechen, da die Kurve steigen und fallen kann."
   ]
  },
  {
   "cell_type": "markdown",
   "metadata": {},
   "source": [
    "1. Bestimmen Sie Form, Richtung und Stärke.\n",
    "\n",
    "<img src=\"../Images/10_SP_A.png\" width=300>"
   ]
  },
  {
   "cell_type": "code",
   "execution_count": 1,
   "metadata": {},
   "outputs": [
    {
     "data": {
      "application/vnd.jupyter.widget-view+json": {
       "model_id": "3003d9fc39bb4d1a81e54ffa5303f9c9",
       "version_major": 2,
       "version_minor": 0
      },
      "text/plain": [
       "VBox(children=(Output(), RadioButtons(options=(('linear', 0), ('nicht-linear', 1), ('keine', 2)), value=0), Bu…"
      ]
     },
     "metadata": {},
     "output_type": "display_data"
    },
    {
     "data": {
      "application/vnd.jupyter.widget-view+json": {
       "model_id": "d5a4d4e5b5354f9f865b54806694640c",
       "version_major": 2,
       "version_minor": 0
      },
      "text/plain": [
       "VBox(children=(Output(), RadioButtons(options=(('steigend', 0), ('fallend', 1), ('keine', 2)), value=0), Butto…"
      ]
     },
     "metadata": {},
     "output_type": "display_data"
    },
    {
     "data": {
      "application/vnd.jupyter.widget-view+json": {
       "model_id": "b63130ccbeac42839b4384f73f1458ea",
       "version_major": 2,
       "version_minor": 0
      },
      "text/plain": [
       "VBox(children=(Output(), RadioButtons(options=(('stark', 0), ('schwach', 1)), value=0), Button(description='Üb…"
      ]
     },
     "metadata": {},
     "output_type": "display_data"
    }
   ],
   "source": [
    "from fragen import *\n",
    "\n",
    "frage10A()"
   ]
  },
  {
   "cell_type": "markdown",
   "metadata": {},
   "source": [
    "2. Bestimmen Sie Form, Richtung und Stärke.\n",
    "\n",
    "<img src=\"../Images/10_SP_B.png\" width=300>"
   ]
  },
  {
   "cell_type": "code",
   "execution_count": 2,
   "metadata": {},
   "outputs": [
    {
     "data": {
      "application/vnd.jupyter.widget-view+json": {
       "model_id": "1b5ecb2f3a9c494b81ef34ff74b4e265",
       "version_major": 2,
       "version_minor": 0
      },
      "text/plain": [
       "VBox(children=(Output(), RadioButtons(options=(('linear', 0), ('nicht-linear', 1), ('keine', 2)), value=0), Bu…"
      ]
     },
     "metadata": {},
     "output_type": "display_data"
    },
    {
     "data": {
      "application/vnd.jupyter.widget-view+json": {
       "model_id": "30b2af222f00417aa037250c9573b199",
       "version_major": 2,
       "version_minor": 0
      },
      "text/plain": [
       "VBox(children=(Output(), RadioButtons(options=(('steigend', 0), ('fallend', 1), ('keine', 2)), value=0), Butto…"
      ]
     },
     "metadata": {},
     "output_type": "display_data"
    },
    {
     "data": {
      "application/vnd.jupyter.widget-view+json": {
       "model_id": "bd6a3f09ab35455f9be4aae62acf896d",
       "version_major": 2,
       "version_minor": 0
      },
      "text/plain": [
       "VBox(children=(Output(), RadioButtons(options=(('stark', 0), ('schwach', 1)), value=0), Button(description='Üb…"
      ]
     },
     "metadata": {},
     "output_type": "display_data"
    }
   ],
   "source": [
    "frage10B()"
   ]
  },
  {
   "cell_type": "markdown",
   "metadata": {},
   "source": [
    "3. Bestimmen Sie Form, Richtung und Stärke.\n",
    "\n",
    "<img src=\"../Images/10_SP_C.png\" width=300>"
   ]
  },
  {
   "cell_type": "code",
   "execution_count": 3,
   "metadata": {},
   "outputs": [
    {
     "data": {
      "application/vnd.jupyter.widget-view+json": {
       "model_id": "f78c099ecc484e0ab52e74f392621b11",
       "version_major": 2,
       "version_minor": 0
      },
      "text/plain": [
       "VBox(children=(Output(), RadioButtons(options=(('linear', 0), ('nicht-linear', 1), ('keine', 2)), value=0), Bu…"
      ]
     },
     "metadata": {},
     "output_type": "display_data"
    },
    {
     "data": {
      "application/vnd.jupyter.widget-view+json": {
       "model_id": "0de095c12e434829a27f6ae3cb37ee95",
       "version_major": 2,
       "version_minor": 0
      },
      "text/plain": [
       "VBox(children=(Output(), RadioButtons(options=(('steigend', 0), ('fallend', 1), ('keine', 2)), value=0), Butto…"
      ]
     },
     "metadata": {},
     "output_type": "display_data"
    },
    {
     "data": {
      "application/vnd.jupyter.widget-view+json": {
       "model_id": "408c44930c814927b3ac5271e818061a",
       "version_major": 2,
       "version_minor": 0
      },
      "text/plain": [
       "VBox(children=(Output(), RadioButtons(options=(('stark', 0), ('schwach', 1)), value=0), Button(description='Üb…"
      ]
     },
     "metadata": {},
     "output_type": "display_data"
    }
   ],
   "source": [
    "frage10C()"
   ]
  },
  {
   "cell_type": "markdown",
   "metadata": {},
   "source": [
    "4. Bestimmen Sie Form, Richtung und Stärke.\n",
    "\n",
    "<img src=\"../Images/10_SP_D.png\" width=300>"
   ]
  },
  {
   "cell_type": "code",
   "execution_count": 4,
   "metadata": {},
   "outputs": [
    {
     "data": {
      "application/vnd.jupyter.widget-view+json": {
       "model_id": "2951ecdf5600427f8f8317d6a549f4e1",
       "version_major": 2,
       "version_minor": 0
      },
      "text/plain": [
       "VBox(children=(Output(), RadioButtons(options=(('linear', 0), ('nicht-linear', 1), ('keine', 2)), value=0), Bu…"
      ]
     },
     "metadata": {},
     "output_type": "display_data"
    },
    {
     "data": {
      "application/vnd.jupyter.widget-view+json": {
       "model_id": "4bb6fa7273bb481d933f21b741ebd1f2",
       "version_major": 2,
       "version_minor": 0
      },
      "text/plain": [
       "VBox(children=(Output(), RadioButtons(options=(('steigend', 0), ('fallend', 1), ('keine', 2)), value=0), Butto…"
      ]
     },
     "metadata": {},
     "output_type": "display_data"
    },
    {
     "data": {
      "application/vnd.jupyter.widget-view+json": {
       "model_id": "9c491d170cc34a0ebef813ba85e3db10",
       "version_major": 2,
       "version_minor": 0
      },
      "text/plain": [
       "VBox(children=(Output(), RadioButtons(options=(('stark', 0), ('schwach', 1)), value=0), Button(description='Üb…"
      ]
     },
     "metadata": {},
     "output_type": "display_data"
    }
   ],
   "source": [
    "frage10D()\n"
   ]
  },
  {
   "cell_type": "markdown",
   "metadata": {},
   "source": [
    "5. Bestimmen Sie Form, Richtung und Stärke.\n",
    "\n",
    "<img src=\"../Images/10_SP_E.png\" width=300>"
   ]
  },
  {
   "cell_type": "code",
   "execution_count": 5,
   "metadata": {},
   "outputs": [
    {
     "data": {
      "application/vnd.jupyter.widget-view+json": {
       "model_id": "8f2134d5369f4c8a8cdb7e1e6b357edd",
       "version_major": 2,
       "version_minor": 0
      },
      "text/plain": [
       "VBox(children=(Output(), RadioButtons(options=(('linear', 0), ('nicht-linear', 1), ('keine', 2)), value=0), Bu…"
      ]
     },
     "metadata": {},
     "output_type": "display_data"
    },
    {
     "data": {
      "application/vnd.jupyter.widget-view+json": {
       "model_id": "7664e2a754604be5bfcef4098f7c5502",
       "version_major": 2,
       "version_minor": 0
      },
      "text/plain": [
       "VBox(children=(Output(), RadioButtons(options=(('steigend', 0), ('fallend', 1), ('keine', 2)), value=0), Butto…"
      ]
     },
     "metadata": {},
     "output_type": "display_data"
    },
    {
     "data": {
      "application/vnd.jupyter.widget-view+json": {
       "model_id": "46ed06d6b7f948759a90e811401ef5d7",
       "version_major": 2,
       "version_minor": 0
      },
      "text/plain": [
       "VBox(children=(Output(), RadioButtons(options=(('stark', 0), ('schwach', 1)), value=0), Button(description='Üb…"
      ]
     },
     "metadata": {},
     "output_type": "display_data"
    }
   ],
   "source": [
    "frage10E()\n"
   ]
  },
  {
   "cell_type": "markdown",
   "metadata": {},
   "source": [
    "6. Bestimmen Sie Form, Richtung und Stärke.\n",
    "\n",
    "<img src=\"../Images/10_SP_F.png\" width=300>"
   ]
  },
  {
   "cell_type": "code",
   "execution_count": 6,
   "metadata": {},
   "outputs": [
    {
     "data": {
      "application/vnd.jupyter.widget-view+json": {
       "model_id": "e9d390e55e454f8b9b7a99a4f2b73443",
       "version_major": 2,
       "version_minor": 0
      },
      "text/plain": [
       "VBox(children=(Output(), RadioButtons(options=(('linear', 0), ('nicht-linear', 1), ('keine', 2)), value=0), Bu…"
      ]
     },
     "metadata": {},
     "output_type": "display_data"
    },
    {
     "data": {
      "application/vnd.jupyter.widget-view+json": {
       "model_id": "ea76d283971540b2aa961d640262450d",
       "version_major": 2,
       "version_minor": 0
      },
      "text/plain": [
       "VBox(children=(Output(), RadioButtons(options=(('steigend', 0), ('fallend', 1), ('keine', 2)), value=0), Butto…"
      ]
     },
     "metadata": {},
     "output_type": "display_data"
    },
    {
     "data": {
      "application/vnd.jupyter.widget-view+json": {
       "model_id": "60bc1311e19745e0a6971cac13170a5a",
       "version_major": 2,
       "version_minor": 0
      },
      "text/plain": [
       "VBox(children=(Output(), RadioButtons(options=(('stark', 0), ('schwach', 1)), value=0), Button(description='Üb…"
      ]
     },
     "metadata": {},
     "output_type": "display_data"
    }
   ],
   "source": [
    "frage10F()\n"
   ]
  },
  {
   "cell_type": "markdown",
   "metadata": {},
   "source": [
    "Data Scientists benutzen nicht nur Tabellen mit Zahlen und Computerprogramme sondern auch ihre Augen. Es macht keinen Sinn nach einer Korrelation zu suchen, wenn kein linearer Zusammenhang besteht. Es ist immer eine gute Strategie bei einem neuen Datensatz zuerst einmal ein paar aussagekräftige Visulaisierungen zu erstellen und erst danach etwas auszurechnen."
   ]
  },
  {
   "cell_type": "markdown",
   "metadata": {},
   "source": [
    "# Korrelationen haben eine Richtung und eine Stärke\n",
    "\n",
    "Wenn eine lineare Beziehung vorliegt, so können Data Scientist eine Grösse namens **Korrelation** oder **Korrelationskoeffizient** (manchmal auch $r$-Wert genenannt) berechnen, welcher sowohl die Stärke als auch die Richtung des Zusammenhangs angibt.\n",
    "\n",
    "Die **Richtung** einer linearen Bezihung ist entweder positiv oder negativ.\n",
    "\n",
    "* Eine lineare Beziehung zwischen zwei quantitativen Variablen ist **positiv**, wenn die Punktewolke im Streudiagramm nach oben zeigt: Zu kleinen $x$-Werten gehören kleine $y$-Werte, zu grossen $x$-Werten gehören grosse $y$-Werte. Die unsichtbare Gerade, die den linearen Zusammenhang beschreibt, steigt.\n",
    "* Eine lineare Beziehung zwischen zwei quantitativen Variablen ist **negativ**, wenn die Punktewolke im Streudiagramm nach unten zeigt: Zu kleinen $x$-Werten gehören grosse $y$-Werte, zu grossen $x$-Werten gehören kleine $y$-Werte. Die Gerade, die den linearen Zusammenhang beschreibt, fällt.\n",
    "\n",
    "* Positive Zusammenhänge kommen in der Natur tendenziell häufiger vor. Zum Beispiel: \"Je älter ein Tier ist, desto mehr wiegt es\".\n",
    "* Aber auch negative Zusammenhänge kommen in der Natur vor. Zum Beispiel: \"Je älter ein Kind ist, desto weniger neue Wörter lernt es pro Tag\"."
   ]
  },
  {
   "cell_type": "markdown",
   "metadata": {},
   "source": [
    "Die **Stärke** gibt an, wie sehr die beiden Variablen korrelieren. Die Frage ist, wie gut mit einem bestimmten $x$-Wert der $y$-Wert vorhergesagt werden kann.\n",
    "\n",
    "* Eine Beziehung zwischen zwei Variablen ist **stark**, wenn die Kenntnis eines $x$-Wertes eines Datenpunkt uns eine gute Idee für den $y$-Wert gibt. Wenn zum Beispiel das Alter eine:s Schüler:in die Informatikkenntnisse voraussagen lässt. <br>\n",
    "Eine starke lineare Beziehung bedeutet, dass die Punkte alle nah an einer unsichtbaren Geraden liegen.\n",
    "* Eine Beziehung zwischen zwei Variablen ist **schwach**, wenn die Kenntnis eines $x$-Wertes kaum einen Schluss auf den $y$-Wert zulässt. Zum Beipiel lässt sich aufgrund des Alters eine:s Schüler:in kaum etwas über die Anzahl Geschwister aussagen. <br>\n",
    "Eine schwache lineare Beziehung bedeutet, dass die Punkte weit weg von einer unsichtbaren Geraden liegen. Die Punkte im Streudiagramm sind weit gestreut."
   ]
  },
  {
   "cell_type": "markdown",
   "metadata": {},
   "source": [
    "Der Korrelationskoeffizient $r$ ist eine reelle Zahl zwischen -1 und 1. \n",
    "\n",
    "* Ist r **positiv**, so ist auch die Richtung des **Zusammenhangs positiv**.\n",
    "* Ist r **negativ**, so ist auch die Richtung des **Zusammenhangs negativ**.\n",
    "* Die **Stärke** des Zusammenhangs entspricht dem **Abstand zur Null** (bzw. dem Betrag von $r$). Ein $r$-Wert von 0 bedeutet, dass gar kein linearer Zusammenhang besteht, ein $r$-Wert nahe bei -1 oder 1 lässt auf einen starken linearen Zusammenhang schliessen.\n",
    "* Ein $r$-Wert ab ca. $\\pm 0.65$ oder $\\pm 0.70$ wird typischwerweise als **starke Korrelation** bezeichnet.\n",
    "* Ein $r$-Wert zwischen $\\pm 0.35$ oder $\\pm 0.65$ wird als **moderate Korrelation** bezeichnet.\n",
    "* Ein $r$-Wert zwischen ca. $-0.35$ und $0.35$ wird als **schwache Korrelation** bezeichnet.\n",
    "* Diese Einteilung hängt allerdings vom Kontext ab. Je nach Konvext gilt schon ein $r$-Wert von 0.5 als aussergewönlich strake Korrelation.\n"
   ]
  },
  {
   "cell_type": "markdown",
   "metadata": {},
   "source": [
    "**Gruppenarbeit:** Ist die Form linear oder nicht? Wenn ja, geben Sie das Vorzeichen von $r$ an uns schätzen Sie $r$."
   ]
  },
  {
   "cell_type": "markdown",
   "metadata": {},
   "source": [
    "1. Streudiagramm: \n",
    "\n",
    "<img src=\"../Images/10_r_A.png\" width=300>"
   ]
  },
  {
   "cell_type": "markdown",
   "metadata": {},
   "source": [
    "Linear oder nicht? "
   ]
  },
  {
   "cell_type": "markdown",
   "metadata": {},
   "source": [
    "*Linear*"
   ]
  },
  {
   "cell_type": "markdown",
   "metadata": {},
   "source": [
    "Vorzeichen von $r$ (positiv oder negativ)?"
   ]
  },
  {
   "cell_type": "markdown",
   "metadata": {},
   "source": [
    "*Negativ*"
   ]
  },
  {
   "cell_type": "markdown",
   "metadata": {},
   "source": [
    "Schätzen Sie den Korrelationskoeffizient $r$."
   ]
  },
  {
   "cell_type": "markdown",
   "metadata": {},
   "source": [
    "-0.626"
   ]
  },
  {
   "cell_type": "markdown",
   "metadata": {},
   "source": [
    "2. Streudiagramm: \n",
    "\n",
    "<img src=\"../Images/10_r_B.png\" width=300>"
   ]
  },
  {
   "cell_type": "markdown",
   "metadata": {},
   "source": [
    "Linear oder nicht? "
   ]
  },
  {
   "cell_type": "markdown",
   "metadata": {},
   "source": [
    "*Linear*"
   ]
  },
  {
   "cell_type": "markdown",
   "metadata": {},
   "source": [
    "Vorzeichen von $r$ (positiv oder negativ)?"
   ]
  },
  {
   "cell_type": "markdown",
   "metadata": {},
   "source": [
    "*Negativ*"
   ]
  },
  {
   "cell_type": "markdown",
   "metadata": {},
   "source": [
    "-0.988"
   ]
  },
  {
   "cell_type": "markdown",
   "metadata": {},
   "source": [
    "#Hier kommt Ihre Antwort hin."
   ]
  },
  {
   "cell_type": "markdown",
   "metadata": {},
   "source": [
    "3. Streudiagramm: \n",
    "\n",
    "<img src=\"../Images/10_r_C.png\" width=300>"
   ]
  },
  {
   "cell_type": "markdown",
   "metadata": {},
   "source": [
    "Linear oder nicht? "
   ]
  },
  {
   "cell_type": "markdown",
   "metadata": {},
   "source": [
    "*Nicht linear*"
   ]
  },
  {
   "cell_type": "markdown",
   "metadata": {},
   "source": [
    "Vorzeichen von $r$ (positiv oder negativ)?"
   ]
  },
  {
   "cell_type": "markdown",
   "metadata": {},
   "source": [
    "*Nicht sinnvoll*"
   ]
  },
  {
   "cell_type": "markdown",
   "metadata": {},
   "source": [
    "Schätzen Sie den Korrelationskoeffizient $r$."
   ]
  },
  {
   "cell_type": "markdown",
   "metadata": {},
   "source": [
    "*Wenig sinnvoll (nahe bei 0)*"
   ]
  },
  {
   "cell_type": "markdown",
   "metadata": {},
   "source": [
    "4. Streudiagramm: \n",
    "\n",
    "<img src=\"../Images/10_r_D.png\" width=300>"
   ]
  },
  {
   "cell_type": "markdown",
   "metadata": {},
   "source": [
    "Linear oder nicht? "
   ]
  },
  {
   "cell_type": "markdown",
   "metadata": {},
   "source": [
    "*Linear*"
   ]
  },
  {
   "cell_type": "markdown",
   "metadata": {},
   "source": [
    "Vorzeichen von $r$ (positiv oder negativ)?"
   ]
  },
  {
   "cell_type": "markdown",
   "metadata": {},
   "source": [
    "*Positiv*"
   ]
  },
  {
   "cell_type": "markdown",
   "metadata": {},
   "source": [
    "Schätzen Sie den Korrelationskoeffizient $r$."
   ]
  },
  {
   "cell_type": "markdown",
   "metadata": {},
   "source": [
    "0.396"
   ]
  },
  {
   "cell_type": "markdown",
   "metadata": {},
   "source": [
    "5. Streudiagramm: \n",
    "\n",
    "<img src=\"../Images/10_r_E.png\" width=300>"
   ]
  },
  {
   "cell_type": "markdown",
   "metadata": {},
   "source": [
    "Linear oder nicht? "
   ]
  },
  {
   "cell_type": "markdown",
   "metadata": {},
   "source": [
    "*Linear*"
   ]
  },
  {
   "cell_type": "markdown",
   "metadata": {},
   "source": [
    "Vorzeichen von $r$ (positiv oder negativ)?"
   ]
  },
  {
   "cell_type": "markdown",
   "metadata": {},
   "source": [
    "*Positiv*"
   ]
  },
  {
   "cell_type": "markdown",
   "metadata": {},
   "source": [
    "Schätzen Sie den Korrelationskoeffizient $r$."
   ]
  },
  {
   "cell_type": "markdown",
   "metadata": {},
   "source": [
    "0.739"
   ]
  },
  {
   "cell_type": "markdown",
   "metadata": {},
   "source": [
    "6. Streudiagramm: \n",
    "\n",
    "<img src=\"../Images/10_r_F.png\" width=300>"
   ]
  },
  {
   "cell_type": "markdown",
   "metadata": {},
   "source": [
    "Linear oder nicht? "
   ]
  },
  {
   "cell_type": "markdown",
   "metadata": {},
   "source": [
    "*Nicht linear*"
   ]
  },
  {
   "cell_type": "markdown",
   "metadata": {},
   "source": [
    "Vorzeichen von $r$ (positiv oder negativ)?"
   ]
  },
  {
   "cell_type": "markdown",
   "metadata": {},
   "source": [
    "*Nicht sinnvoll*"
   ]
  },
  {
   "cell_type": "markdown",
   "metadata": {},
   "source": [
    "Schätzen Sie den Korrelationskoeffizient $r$."
   ]
  },
  {
   "cell_type": "markdown",
   "metadata": {},
   "source": [
    "*Wenig sinnvoll (nahe bei 0)*"
   ]
  },
  {
   "cell_type": "markdown",
   "metadata": {},
   "source": [
    "**Einzelarbeit:** In der folgenden Aufgabe wird wieder der Tierdatensatz (animal_table) betrachtet."
   ]
  },
  {
   "cell_type": "code",
   "execution_count": 7,
   "metadata": {},
   "outputs": [],
   "source": [
    "import pandas as pd \n",
    "from charts import histogram\n",
    "datei_name = \"animal_dataset_bc.csv\"\n",
    "animal_table = pd.read_csv(datei_name,\n",
    "                        header=0,\n",
    "                        names=[\"Name\", \"Spezies\", \"Geschlecht\", \"Alter\", \"Steril\", \"Beine\", \"Gewicht\", \"Wochen\"], \n",
    "                        index_col=0)"
   ]
  },
  {
   "cell_type": "markdown",
   "metadata": {},
   "source": [
    "1. Erstellen Sie ein Streudiagramm mit \"Gewicht\" als $x$-Werte und \"Wochen\" als $y$-Werte."
   ]
  },
  {
   "cell_type": "code",
   "execution_count": 10,
   "metadata": {},
   "outputs": [
    {
     "data": {
      "image/png": "[encoded data removed]",
      "text/plain": [
       "<Figure size 432x288 with 1 Axes>"
      ]
     },
     "metadata": {
      "needs_background": "light"
     },
     "output_type": "display_data"
    }
   ],
   "source": [
    "# Lösung\n",
    "\n",
    "from charts import scatter_plot\n",
    "scatter_plot(animal_table, \"Gewicht\", \"Wochen\")"
   ]
  },
  {
   "cell_type": "markdown",
   "metadata": {},
   "source": [
    "2. Welche Form hat die Punktwolche? Ist sie linear?"
   ]
  },
  {
   "cell_type": "markdown",
   "metadata": {},
   "source": [
    "*Form: Linear*"
   ]
  },
  {
   "cell_type": "markdown",
   "metadata": {},
   "source": [
    "3. Welche Richtung hat die Korrelation? Steigend oder Fallend?"
   ]
  },
  {
   "cell_type": "markdown",
   "metadata": {},
   "source": [
    "*Richtung: Steigend*"
   ]
  },
  {
   "cell_type": "markdown",
   "metadata": {},
   "source": [
    "4. Welche Stärke hat die Korrelation? Schätzen Sie."
   ]
  },
  {
   "cell_type": "markdown",
   "metadata": {},
   "source": [
    "*Korrekte Lösung siehe unten.*"
   ]
  },
  {
   "cell_type": "markdown",
   "metadata": {},
   "source": [
    "5. Ist der $r$-Wert positiv oder negativ?"
   ]
  },
  {
   "cell_type": "markdown",
   "metadata": {},
   "source": [
    "*$r$ ist negativ.*"
   ]
  },
  {
   "cell_type": "markdown",
   "metadata": {},
   "source": [
    "6. So können Sie den $r$-Wert von Python berechnen lassen."
   ]
  },
  {
   "cell_type": "code",
   "execution_count": 14,
   "metadata": {},
   "outputs": [
    {
     "data": {
      "text/plain": [
       "0.648176449402253"
      ]
     },
     "execution_count": 14,
     "metadata": {},
     "output_type": "execute_result"
    }
   ],
   "source": [
    "from charts import r_value\n",
    "\n",
    "r_value(animal_table, \"Gewicht\", \"Wochen\")"
   ]
  },
  {
   "cell_type": "markdown",
   "metadata": {},
   "source": [
    "*Hinweis:* Die Funktion r_value erhält eine Tabelle und die Namen von zwei Spalten als Argumente und gibt eine Zahl (den Korrelationskoeffizienten $r$) zurück."
   ]
  },
  {
   "cell_type": "markdown",
   "metadata": {},
   "source": [
    "Stimmen Ihre Antworten damit übererein?"
   ]
  },
  {
   "cell_type": "markdown",
   "metadata": {},
   "source": [
    "7. Als nächstes soll der Zusammmenhang zwischen \"Alter\" und \"Gewicht\" untersucht werden."
   ]
  },
  {
   "cell_type": "code",
   "execution_count": 13,
   "metadata": {},
   "outputs": [
    {
     "data": {
      "image/png": "[encoded data removed]",
      "text/plain": [
       "<Figure size 432x288 with 1 Axes>"
      ]
     },
     "metadata": {
      "needs_background": "light"
     },
     "output_type": "display_data"
    }
   ],
   "source": [
    "from charts import scatter_plot\n",
    "scatter_plot(animal_table, \"Alter\", \"Gewicht\")"
   ]
  },
  {
   "cell_type": "markdown",
   "metadata": {},
   "source": [
    "Bestimmen Sie die Form (linear, nicht linear), die Richtung und die Stärke der Korrelation.\n",
    "Berechnen Sie dazu noch nichts."
   ]
  },
  {
   "cell_type": "markdown",
   "metadata": {},
   "source": [
    "* Form: *linear*\n",
    "\n",
    "* Richtung: *positiv*\n",
    "\n",
    "* Stärke: *moderat*"
   ]
  },
  {
   "cell_type": "markdown",
   "metadata": {},
   "source": [
    "Schätzen Sie den Korrelationskoffizienten $r$."
   ]
  },
  {
   "cell_type": "markdown",
   "metadata": {},
   "source": [
    "$r \\approx 0.5$ *(exakte Antwort siehe unten)*"
   ]
  },
  {
   "cell_type": "markdown",
   "metadata": {},
   "source": [
    "Bestimmen Sie den Korrelationskoeffizienten $r$ mit Python."
   ]
  },
  {
   "cell_type": "code",
   "execution_count": 18,
   "metadata": {},
   "outputs": [
    {
     "data": {
      "text/plain": [
       "0.49230955452398856"
      ]
     },
     "execution_count": 18,
     "metadata": {},
     "output_type": "execute_result"
    }
   ],
   "source": [
    "#Lösung\n",
    "r_value(animal_table, \"Alter\", \"Gewicht\")"
   ]
  },
  {
   "cell_type": "markdown",
   "metadata": {},
   "source": [
    "**Zusätzliche Aufgabe:** Spielen Sie das folgende Spiel: http://guessthecorrelation.com/ <br>\n",
    "Bei diesem müssen Korrelationskoeffizienten bei gegebenen Streudiagrammern erraten werden."
   ]
  },
  {
   "cell_type": "markdown",
   "metadata": {},
   "source": [
    "**Abschlussfragen:**\n",
    "\n",
    "1. Was ist der Unterschied zwischen einem **schwachen** und einem **negativen** Zusammenhang? "
   ]
  },
  {
   "cell_type": "markdown",
   "metadata": {},
   "source": [
    "*Bei einem schwachen Zusammenhang sind die Punkte im Streudiagramm weit gestreut, bei einem negativen Zusammenhang fällt die Punktewolke.*\n",
    "*Bei einem schwachen Zusammenhang lässt sich aus einem $x$-Wert kein $y$-Wert vorhersagen, bei einem negativen Zusammenhang lässt ein kleiner $x$-Wert auf einen grossen $y$-Wert schliessen und umgekehrt.*"
   ]
  },
  {
   "cell_type": "markdown",
   "metadata": {},
   "source": [
    "2. Was ist der Unterschied zwischen einem **starken** und einem **positiven** Zusammenhang? "
   ]
  },
  {
   "cell_type": "markdown",
   "metadata": {},
   "source": [
    "*Bei einem starken Zusammenhang sind die Punkte im Streudiagramm alle nah einer unsichtabren Geraden, bei einem positiven Zusammenhang steigt die Punktewolke.*\n",
    "*Bei einem schwachen Zusammenhang lässt sich aus einem $x$-Wert relativ gut ein $y$-Wert vorhersagen, bei einem positiven Zusammenhang lässt ein kleiner $x$-Wert auf einen kleinen $y$-Wert schliessen und ein grosser $x$-Wert auf einen grossen $y$-Wert.*"
   ]
  },
  {
   "cell_type": "markdown",
   "metadata": {},
   "source": [
    "3. Wenn in einer Stichprobe ein starker Zusammenhang gefunden werden kann, muss dieser dann für die ganze Population gelten?"
   ]
  },
  {
   "cell_type": "markdown",
   "metadata": {},
   "source": [
    "*Nein. Zum Beispiel gilt für eine einzelne Tierart wohl ein starker Zusammenhang zwischen \"Alter\" und \"Gewicht\", nicht aber für den ganzen Tierdatensatz.*"
   ]
  },
  {
   "cell_type": "markdown",
   "metadata": {},
   "source": [
    "**Achtung:** Aufgrund einer starken Korrelation kann nicht auf einen kausalen Zusammenhang geschlossen werden.\n",
    "\n",
    "Es ist einfach, überzeugt zu sein, dass aufgrund eines grossen $r$-Wertes geschlossen werden kann, dass die $x$-Variable die $y$-Variable kausal impliziert. \n",
    "\n",
    "Dies muss aber nicht der Fall sein. Es kann auch eine sogenannte **Scheinkorrelation** vorliegen. Oft hängen die beiden Variablen mit einer dritten Variabe zusammen.\n",
    "\n",
    "Beispiele:\n",
    "* Untersuchungen zeigen, dass es eine starke Korrelation zwischen der Schuhgrösse und dem Verdienst gibt. Es ist aber nicht so, dass Grosse Schuhe irgendwie zu besseren Arbeitsleistungen führen würden. Die starke Korrelation kommt zustande, weil Männer meist grössere Schuhe tragen und (leider) immer noch klar besser verdienen.\n",
    "* In einem gewissen psychologischen Test zeigt sich, dass die Zeit, die ein:e Student:in mit Lernen verbringt stark negativ mit dem Resultat korreliert. Sollte also aufs Lernen verzichtet werden? Die Antwort ist natürlich \"nein\". Der Zusammenhang besteht darin, dass Student:innen, die Mühe im Studium haben, mehr lernen müssen aber oft auch schlechtere Noten haben. Würden aber diese weniger lernen, wären die Resultate noch schlechter.\n",
    "\n",
    "Weitere Beispiele für Scheinkorrelationen finden Sie hier:\n",
    "* https://blog.recrutainment.de/2018/12/07/komische-scheinkorrelationen-und-das-problem-mit-der-signifikanz-bei-big-data-ja-das-hat-was-viel-mit-recruiting-zu-tun/\n",
    "* https://scheinkorrelation.jimdofree.com/\n"
   ]
  },
  {
   "cell_type": "markdown",
   "metadata": {},
   "source": [
    "## Korrelation bei Ihrem Datensatz\n",
    "\n",
    "*Einzelarbeit:* Betrachten Sie nun Ihren Datensatz. \n",
    "1. Überlegen Sie sich ein paar Korrelationen, die in Ihrem Datensatz auftreten könnten. "
   ]
  },
  {
   "cell_type": "markdown",
   "metadata": {},
   "source": [
    "#Hier kommen Ihre Überlegungen hin."
   ]
  },
  {
   "cell_type": "markdown",
   "metadata": {},
   "source": [
    "2. Wählen Sie nun eine der obigen Korrelationen aus. Überlegen Sie sich dort auch, ob diese stark oder schwach bzw. positiv oder negativ sein könnten."
   ]
  },
  {
   "cell_type": "markdown",
   "metadata": {},
   "source": [
    "Korrelation zwischen den folgenden Variablen: #Hier kommt zwei Variablen hin."
   ]
  },
  {
   "cell_type": "markdown",
   "metadata": {},
   "source": [
    "Stärke: #stark oder schwach"
   ]
  },
  {
   "cell_type": "markdown",
   "metadata": {},
   "source": [
    "Richtung: #positiv oder negativ."
   ]
  },
  {
   "cell_type": "markdown",
   "metadata": {},
   "source": [
    "3. Zeichnen Sie nun das Streudiagramm und berechnen Sie die Korrelationskoeffizienten."
   ]
  },
  {
   "cell_type": "code",
   "execution_count": 1,
   "metadata": {},
   "outputs": [],
   "source": [
    "# Hier kommt Ihr Code hin."
   ]
  },
  {
   "cell_type": "markdown",
   "metadata": {},
   "source": [
    "4. Was können Sie aus dem $r$-Wert schliessen?"
   ]
  },
  {
   "cell_type": "markdown",
   "metadata": {},
   "source": [
    "#Hier kommt Ihre Antwort hin."
   ]
  },
  {
   "cell_type": "code",
   "execution_count": 8,
   "metadata": {},
   "outputs": [],
   "source": [
    "# Hier kommt Ihr Code hin."
   ]
  },
  {
   "cell_type": "markdown",
   "metadata": {},
   "source": [
    "5. Könnte die Korrelation stärker sein, wenn Sie nur eine Stichprobe/Teilmenge anschauen würden. Wenn ja, welche?"
   ]
  },
  {
   "cell_type": "markdown",
   "metadata": {},
   "source": [
    "#Hier kommt Ihre Lösung hin."
   ]
  },
  {
   "cell_type": "markdown",
   "metadata": {},
   "source": [
    "6. Könnte es sich um eine Scheinkorrelation handeln? Wenn ja, wie könnten Sie diese erklären?"
   ]
  },
  {
   "cell_type": "markdown",
   "metadata": {},
   "source": [
    "#Hier kommt Ihre Antwort hin."
   ]
  },
  {
   "cell_type": "markdown",
   "metadata": {},
   "source": [
    "7. Untersuchen Sie auf gleich Weise weitere Korrelationen aus 1."
   ]
  },
  {
   "cell_type": "markdown",
   "metadata": {},
   "source": [
    "#Her kommen Ihre Überlegungen hin."
   ]
  },
  {
   "cell_type": "code",
   "execution_count": null,
   "metadata": {},
   "outputs": [],
   "source": [
    "#Hier kommt Ihr Code hin."
   ]
  },
  {
   "cell_type": "markdown",
   "metadata": {},
   "source": [
    "**Zusätzliche Aufgaben:**\n",
    "\n",
    "Gegeben sind fünf Streudiagramme $A - E$:\n",
    "\n",
    "<img src=\"../Images/10_rz_A.png\" width=300>\n",
    "<img src=\"../Images/10_rz_B.png\" width=300>\n",
    "<img src=\"../Images/10_rz_C.png\" width=300>\n",
    "<img src=\"../Images/10_rz_D.png\" width=300>\n",
    "<img src=\"../Images/10_rz_E.png\" width=300>\n",
    "\n",
    "Zudem sind fünf Aussagen gegeben:\n",
    "\n",
    "1. Der Datensatz hat eine moderate negative Korrelation.\n",
    "2. Der Datensatz ist nicht-linear.\n",
    "3. Es hat eine Korrelation nahe bei 0 in diesem Datensatz.\n",
    "4. Es gibt eine starke positive positive Korrelation in diesem Datensatz.\n",
    "5. Es hat eine starke negative Korrelation in disem Datensatz.\n",
    "\n",
    "Welche Aussage gehört zu welchem Streudiagramm?\n"
   ]
  },
  {
   "cell_type": "markdown",
   "metadata": {},
   "source": [
    "* Aussage 1: D\n",
    "* Aussage 2: C\n",
    "* Aussage 3: E\n",
    "* Aussage 4: B\n",
    "* Aussage 5: A"
   ]
  }
 ],
 "metadata": {
  "interpreter": {
   "hash": "26130839a7e87fd59e038942810dbb4909e5232b32b1ad521e6a6bc3043702c6"
  },
  "kernelspec": {
   "display_name": "Python 3.8.11 64-bit ('base': conda)",
   "name": "python3"
  },
  "language_info": {
   "codemirror_mode": {
    "name": "ipython",
    "version": 3
   },
   "file_extension": ".py",
   "mimetype": "text/x-python",
   "name": "python",
   "nbconvert_exporter": "python",
   "pygments_lexer": "ipython3",
   "version": "3.8.11"
  },
  "orig_nbformat": 4
 },
 "nbformat": 4,
 "nbformat_minor": 2
}
