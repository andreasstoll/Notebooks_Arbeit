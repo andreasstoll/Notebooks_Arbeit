{
 "cells": [
  {
   "cell_type": "markdown",
   "metadata": {},
   "source": [
    "# Lineare Regression\n",
    "\n",
    "Die Schüler:innen können\n",
    "* eine lineare Regression im Zusammenhang mit dem Tierdatensatz anwenden.\n",
    "* eine lineare Regression benutzen um Zusammenhänge zu quantifizieren."
   ]
  },
  {
   "cell_type": "markdown",
   "metadata": {},
   "source": [
    "## Einstieg in die lineare Regression\n",
    "\n",
    "Gegeben sind zwei Streudiagramme aus dem Tierdatensatz.\n",
    "\n",
    "Streudiagramm 1 (siehe unten):\n",
    "* Erklärende Variable: \"Alter\"\n",
    "* Erklärte Variable: \"Wochen\"\n",
    "\n",
    "Streudiagramm 2 (siehe unten):\n",
    "* Erklärende Variable \"Gewicht\"\n",
    "* Erklärte Variable: \"Wochen\""
   ]
  },
  {
   "cell_type": "code",
   "execution_count": null,
   "metadata": {},
   "outputs": [],
   "source": [
    "import pandas as pd \n",
    "from charts import histogram\n",
    "datei_name = \"animal_dataset_bc.csv\"\n",
    "animal_table = pd.read_csv(datei_name,\n",
    "                        header=0,\n",
    "                        names=[\"Name\", \"Spezies\", \"Geschlecht\", \"Alter\", \"Steril\", \"Beine\", \"Gewicht\", \"Wochen\"], \n",
    "                        index_col=0)"
   ]
  },
  {
   "cell_type": "code",
   "execution_count": null,
   "metadata": {},
   "outputs": [],
   "source": [
    "#Streudiagramm 1:\n",
    "from charts import scatter_plot\n",
    "scatter_plot(animal_table, \"Alter\", \"Wochen\")"
   ]
  },
  {
   "cell_type": "code",
   "execution_count": null,
   "metadata": {},
   "outputs": [],
   "source": [
    "#Streudiagramm 2:\n",
    "scatter_plot(animal_table, \"Gewicht\", \"Wochen\")"
   ]
  },
  {
   "cell_type": "markdown",
   "metadata": {},
   "source": [
    "**Einzelarbeit:** Kann die Anzahl Wochen bis zur Adoption anhand des Alters vorausgesagt werden? Kann sie anhand des Gewichts vorausgesagt werden? Welche Vorhersage ist \"besser\"?"
   ]
  },
  {
   "cell_type": "markdown",
   "metadata": {},
   "source": [
    "#Hier kommt Ihre Antwort hin."
   ]
  },
  {
   "cell_type": "code",
   "execution_count": null,
   "metadata": {},
   "outputs": [],
   "source": [
    "#Teil einer Lösung\n",
    "from charts import r_value\n",
    "\n",
    "print(r_value(animal_table, \"Alter\", \"Wochen\"))\n",
    "print(r_value(animal_table, \"Gewicht\", \"Wochen\"))\n",
    "\n",
    "# Das Gewicht scheint die Wochen bis zur Adoption besser vorauszusagen, \n",
    "# zumindest die Stärke das linearen Zusammenhangs (der Korrelationskoeffizient r) ist grösser."
   ]
  },
  {
   "cell_type": "markdown",
   "metadata": {},
   "source": [
    "Die Frage ist also, ob aufgrund des Gewichts eines Tieres die Zeit bis zur Adoption vorausgesagt werden kann. Das Streudiagramm scheint nahe zu legen, dass leichtere Tiere schnelle adoptiert werden und schwerere Tiere langsamer. Dies ist alles aber sehr unpräzise. Wäre es möglich eine exaktere Vorhersage zu machen?\n",
    "\n",
    "Benötigt würde eine Gerade, welche die Punkte des Streudiagramms bestmöglich beschreibt, also eine Gerade, welche im Zentrum der Punktewolke ist. \n",
    "Jeder Punkt zieht an dieser Gerade, Punkte oberhalb der Gerade ziehen diese nach oben, Punkte unterhalb der Linie ziehen sie nach unten. Je weiter ein Punkt entfernt ist, deso mehr zieht er. Eine solche Gerade wird **Regressionsgerade** genannt. Diese Gerade kann als Graph einer linearen Funktion aufgefasst werden, ein **linearer Prädiktor**.\n",
    "\n",
    "Sind $x$-Werte bekannt, so kann mit Hilfe dieser linearen Funktion ein dazugehörender $y$-Wert vorausgesagt werden.\n",
    "\n",
    "Was aber ist die beste solche Gerade? Mit Hilfe der Mathematik kann eine Gerade bestimmt werden, die bestmöglich zu den Punkten passt. Die statistische Methode eine lineare Beziehung in einem Datensatz zu bestimmen wird **lineare Regression** genannt. Die lineare Regression ist die Mathematik, welche zu einer bestmöglich passenden Gerade in einem Datensatz führt."
   ]
  },
  {
   "cell_type": "markdown",
   "metadata": {},
   "source": [
    "**Einzelarbeit:** Betrachten Sie das folgende Geogebra-File: https://www.geogebra.org/m/ZcVIxKtF."
   ]
  },
  {
   "cell_type": "markdown",
   "metadata": {},
   "source": [
    "1. Bewegen Sie den blauen Punkt $P$ mit dem Mauscursor. Beachten Sie, wie sich der Korrelationskoeffizient $r$ und die Gleichung der Refressionsgerade verändert."
   ]
  },
  {
   "cell_type": "markdown",
   "metadata": {},
   "source": [
    "2. Welches ist der grösste $r$-Wert, den Sie mit einer geschickten Verschiebung vom Punkt $P$ erreichen?"
   ]
  },
  {
   "cell_type": "markdown",
   "metadata": {},
   "source": [
    "*Ohne Lösung*"
   ]
  },
  {
   "cell_type": "markdown",
   "metadata": {},
   "source": [
    "3. Können Sie den Punkt $P$ so verschieben, dass $r$ negativ wird? Wenn ja, wie gross ist $r$?"
   ]
  },
  {
   "cell_type": "markdown",
   "metadata": {},
   "source": [
    "*Ja, ist möglich, z.B. wenn $P(29|0)$ gewählt wird.*"
   ]
  },
  {
   "cell_type": "markdown",
   "metadata": {},
   "source": [
    "4. Wohin könnnen Sie den Punkt $P$ schieben, damit er am besten zu den anderen Punkten passt? Was passiert mit $r$ und der Geradengleichung?"
   ]
  },
  {
   "cell_type": "markdown",
   "metadata": {},
   "source": [
    "*$P$ muss so verschoben werden, dass er möglichst auf der Geraden liegt und die Gerade möglichst nah bei den anderen Punkten vorbei geht. $r$ nähert sich dann dem Wert 1 an.*"
   ]
  },
  {
   "cell_type": "markdown",
   "metadata": {},
   "source": [
    "5. Wohin könnnen Sie den Punkt $P$ schieben, damit er am schlechtesten zu den anderen Punkten passt? Was passiert mit $r$ und der Geradengleichung?"
   ]
  },
  {
   "cell_type": "markdown",
   "metadata": {},
   "source": [
    "Wird ein Punkt in der Nähe von $(0|13)$ gewählt wird $r$ null."
   ]
  },
  {
   "cell_type": "markdown",
   "metadata": {},
   "source": [
    "6. Kann die Regressionsgerade ganz über oder unter den Punkten liegen? Warum oder warum nicht?"
   ]
  },
  {
   "cell_type": "markdown",
   "metadata": {},
   "source": [
    "*Nein, kann sie nicht. Sonst gäbe es eine besser passende Gerade weiter unten oder weiter oben (innerhalb der Punktewolke).*"
   ]
  },
  {
   "cell_type": "markdown",
   "metadata": {},
   "source": [
    "7. Kann es sein, dass mehr Punkte über der Geraden als unter der Geraden liegen?"
   ]
  },
  {
   "cell_type": "markdown",
   "metadata": {},
   "source": [
    "*Ja, das kann sein. Da Punkte, welche weit von der Geraden entfernt liegen, mehr an dieser \"zerren\" kann es z.B. sein, dass auf einer Seite zwar weniger Punkte liegen, diese aber weiter von der Geraden entfernt sind.*"
   ]
  },
  {
   "cell_type": "markdown",
   "metadata": {},
   "source": [
    "**Einzelarbeit**: Betrachten Sie die folgenden Streudiagramme. Was können Sie über die Regressionsgerade aussagen?\n",
    "Steigt diese oder fällt sie? Wie stark ist der Zusammenhang zwischen den beiden Variablen? Wie gross ist ungefähr der Korrelationskoeffizient $r$?\n",
    "\n",
    "1. Streudiagramm A.\n",
    "\n",
    "<img src=\"../Images/11_SP_A.png\" width=300>"
   ]
  },
  {
   "cell_type": "code",
   "execution_count": null,
   "metadata": {},
   "outputs": [],
   "source": [
    "from fragen import *\n",
    "\n",
    "frage11A()"
   ]
  },
  {
   "cell_type": "markdown",
   "metadata": {},
   "source": [
    "2. Streudiagramm B.\n",
    "\n",
    "<img src=\"../Images/11_SP_B.png\" width=300>"
   ]
  },
  {
   "cell_type": "code",
   "execution_count": null,
   "metadata": {},
   "outputs": [],
   "source": [
    "frage11B()"
   ]
  },
  {
   "cell_type": "markdown",
   "metadata": {},
   "source": [
    "3. Streudiagramm C.\n",
    "\n",
    "<img src=\"../Images/11_SP_B.png\" width=300>"
   ]
  },
  {
   "cell_type": "code",
   "execution_count": null,
   "metadata": {},
   "outputs": [],
   "source": [
    "frage11C()"
   ]
  },
  {
   "cell_type": "markdown",
   "metadata": {},
   "source": [
    "4. Streudiagramm D.\n",
    "\n",
    "<img src=\"../Images/11_SP_D.png\" width=300>"
   ]
  },
  {
   "cell_type": "code",
   "execution_count": null,
   "metadata": {},
   "outputs": [],
   "source": [
    "frage11D()"
   ]
  },
  {
   "cell_type": "markdown",
   "metadata": {},
   "source": [
    "## Lineare Regression mit Python\n",
    "\n",
    "Mit der Funktion lr_plot kann eine Darstellung erstellt werden, welche folgendes enthält:\n",
    "1. ein Streudiagramm\n",
    "2. die Regressiongerade\n",
    "3. die Funktionsgleichung der Regressionsgeraden\n",
    "4. den Korrelationskoeffizienten $r$\n",
    "\n",
    "Die Funktion lr_plot erhält als Argumente eine Tabelle und zwei Spaltennamen. Der Namen der ersten Spalte wird als $x$-Koordinate verwendet (erklärende Variable), der der zweiten Spalte als $y$-Koordinate (erklärte Variable).\n",
    "\n",
    "Das Ziel ist es es $x$-Werte zu benutzen, um die entsprechenden $y$-Werte vorherzusagen.\n",
    "\n",
    "So gibt lr_plot(animal_table, \"Alter\", \"Wochen\") die folgende Abbildung aus:"
   ]
  },
  {
   "cell_type": "code",
   "execution_count": null,
   "metadata": {},
   "outputs": [],
   "source": [
    "from charts import lr_plot\n",
    "\n",
    "lr_plot(animal_table, \"Alter\", \"Wochen\")"
   ]
  },
  {
   "cell_type": "markdown",
   "metadata": {},
   "source": [
    "Die Gerade in blau ist die Regressionsgerade. Dies ist die Gerade, die die Daten am besten beschreibt.\n",
    "\n",
    "Oft wird die Funktionsgleichung der Geraden angegeben. Funktionsgleichungen von linearen Funktionen haben immer die Form $f(x) = m \\cdot x + q$, dabei ist $m$ die Steigung und $q$ der $y$-Achsenabschnitt. Im Beispiel oben lautet die Steigung $m=0.789$ und der $y$-Achsenabschnitt $q=2.309$. \n",
    "\n",
    "Die Steigung von 0.789 kann so interpretiert werden, dass jedes zusätzliche Jahr eine Tiers die Wartedauer bis zur Adoption um 0.789 Wochen verlängert. \n",
    "\n",
    "Der $y$-Achsenabschnitt von 2.309 bedeutet, dass ein Baby-Tier, dessen Alter in der Nähe von 0 ist, gut 2 Wochen warten muss, bis es adoptiert wird.\n",
    "\n",
    "Durch das Einsetzen eines Tieralters für $x$ kann nun eine Vorhersage für die Wartedauer bis zur Adoption $y$ gemacht werden. \n",
    "\n",
    "Hier soll vorhergesagt werden, wie lange ein 5-jähriges Tier warten muss:"
   ]
  },
  {
   "cell_type": "code",
   "execution_count": null,
   "metadata": {},
   "outputs": [],
   "source": [
    "0.789*5+2.309"
   ]
  },
  {
   "cell_type": "markdown",
   "metadata": {},
   "source": [
    "Bei einem 5-jährigen Tier muss also mit einer Wartedauer von gut 6 Wochen gerechnet werden. Dabei wurde in die Funktionsgleichung $$f(x) = 0.789 \\cdot x + 2.309$$ $x=5$ eingesetzt: $6.25=0.789 \\cdot 5 + 2.309$. \n",
    "\n",
    "Der $y$-Wert von 6.25 entspricht genau dem $y$-Wert bei der Regressionsgeraden an der Stelle $x=5$.\n",
    "\n",
    "<img src=\"../Images/11_predict.png\" width=400>\n",
    "\n",
    "Der $r$-Wert ist $r=+0.448$. Das Vorzeichen ist positiv, das heisst die Punktwolke und somit auch die Regressionsgerade, welche die Punktewolke bestmöglich beschreibt, steigen. Da $r \\approx 0.5$ liegt eine moderate Korrelation vor. Dies stimmt mit der Tatsache überein, dass die Punkte im Streudiagramm weder besonders nah an der Regressionsgeraden sind noch irgendwie zufällig verteilt sind."
   ]
  },
  {
   "cell_type": "markdown",
   "metadata": {},
   "source": [
    "**Einzelarbeit:**\n",
    "\n",
    "1. Wenn ein Tier 7 Jahre alt wäre. Wie lange müsste dieses nach unserer Vorhersage auf die Adoption warten?"
   ]
  },
  {
   "cell_type": "code",
   "execution_count": null,
   "metadata": {},
   "outputs": [],
   "source": [
    "#Lösung\n",
    "\n",
    "0.789*7+2.309\n",
    "\n",
    "#Das Tier müsste etw 7.8 Jahre auf die Adoption warten."
   ]
  },
  {
   "cell_type": "markdown",
   "metadata": {},
   "source": [
    "2. Erstellen Sie einen neuen lr_plot, bei welchem Sie das Gewicht als erklärende Variable und die Wochen als erklärte Variable verwenden."
   ]
  },
  {
   "cell_type": "code",
   "execution_count": null,
   "metadata": {},
   "outputs": [],
   "source": [
    "#Lösung\n",
    "\n",
    "lr_plot(animal_table, \"Gewicht\", \"Wochen\")"
   ]
  },
  {
   "cell_type": "markdown",
   "metadata": {},
   "source": [
    "3. Wenn ein Tier 21 Pfund wiegt, wie lange müsste es nach der obigen Vorhersage auf eine Adoption warten?"
   ]
  },
  {
   "cell_type": "code",
   "execution_count": null,
   "metadata": {},
   "outputs": [],
   "source": [
    "# Lösung\n",
    "\n",
    "0.083*21+2.461\n",
    "\n",
    "#Ca. 4.2 Wochen."
   ]
  },
  {
   "cell_type": "markdown",
   "metadata": {},
   "source": [
    "3. Wenn ein Tier 0.1 Pfund wiegt, wie lange müsste es nach der obigen Vorhersage auf eine Adoption warten?"
   ]
  },
  {
   "cell_type": "code",
   "execution_count": null,
   "metadata": {},
   "outputs": [],
   "source": [
    "# Lösung\n",
    "\n",
    "0.083*0.1+2.461\n",
    "\n",
    "#Ca. 2.5 Wochen (dies entspricht etwa dem y-Achsenabschnitt)."
   ]
  },
  {
   "cell_type": "markdown",
   "metadata": {},
   "source": [
    "4. Wie viel länger muss ein Tier pro zusätzlichem Pfund Gewicht auf die Adoption warten?"
   ]
  },
  {
   "cell_type": "markdown",
   "metadata": {},
   "source": [
    "*Etwa 0.083 Wochen (dies entspricht der Steigung $m$)*"
   ]
  },
  {
   "cell_type": "markdown",
   "metadata": {},
   "source": [
    "5. Erstellen Sie einen lr_plot für \"Alter\" vs \"Gewicht\" allerdings nur für Katzen."
   ]
  },
  {
   "cell_type": "code",
   "execution_count": null,
   "metadata": {},
   "outputs": [],
   "source": [
    "#Lösung\n",
    "\n",
    "katzen = animal_table[animal_table.Spezies == \"Katze\"]\n",
    "lr_plot(katzen, \"Gewicht\", \"Wochen\")"
   ]
  },
  {
   "cell_type": "markdown",
   "metadata": {},
   "source": [
    "6. Wie interpretieren Sie die obige Darstellung? "
   ]
  },
  {
   "cell_type": "markdown",
   "metadata": {},
   "source": [
    "*Bei Katzen gibt es nur einen schwachen Zusammenhang zwischen dem Gewicht und den Anzahl Wochen. Es ist keine sinnvolle Voraussage möglich.*"
   ]
  },
  {
   "cell_type": "markdown",
   "metadata": {},
   "source": [
    "7. Wählen Sie zwei weitere Variablen aus und zeichnen Sie den entsprechenden lr_plot. Interpretieren Sie diesen."
   ]
  },
  {
   "cell_type": "code",
   "execution_count": null,
   "metadata": {},
   "outputs": [],
   "source": [
    "# Hier kommt Ihr Code hin."
   ]
  },
  {
   "cell_type": "markdown",
   "metadata": {},
   "source": [
    "**Wichtiger Hinweis:**\n",
    "Ein linearer Prädiktor macht nur Sinn innerhalb des untersuchten Bereichs. So macht es wenig Sinn mit Hilfe einer linearen Regression bei einem Datensatz von Erwachsenen, welche die Grösse aus dem Gewicht vorherzusagen versucht, etwas über Kinder im Wachstum vorherzusagen.\n",
    "\n",
    "Statistische Modelle sind wirklich nur Modelle aus einem beschränkten Datensatz. Sie können zwar innerhalb des untersuchten Bereichs nützliche Resultate generieren, darüber hinaus versprechen sie aber keine sinnvollen Vorhersagen zu liefern.  "
   ]
  },
  {
   "cell_type": "markdown",
   "metadata": {},
   "source": [
    "## Streudiagramme mit Regressionsgerade interpretieren\n",
    "\n",
    "Hier sei noch einmal die Darstellung Gewicht vs. Wochen gegeben."
   ]
  },
  {
   "cell_type": "code",
   "execution_count": null,
   "metadata": {},
   "outputs": [],
   "source": [
    "lr_plot(animal_table, \"Gewicht\", \"Wochen\")"
   ]
  },
  {
   "cell_type": "markdown",
   "metadata": {},
   "source": [
    "Wie genau kann dies interpretiert werden? Was bedeutet es zum Beispiel wenn ein Punkt über der Geraden liegt? Was, wenn er unter der Geraden liegt?"
   ]
  },
  {
   "cell_type": "markdown",
   "metadata": {},
   "source": [
    "**Einzelarbeit.** Gegeben sind jeweils eine Beschreibung, die Gleichung der Regressionsgeraden und der Korrelationskoeffizient.\n",
    "\n",
    "1. *Beschreibung:* Pro Film, welcher im Marvel Universum (MCU) pro Jahr veröffentlich wird, soll die durchschnittlich konsumierte Zuckermenge pro Person vorhergesagt werden. <br><br>\n",
    "*Regressionsgerade:* $f(x)=-3.19x+12$ <br><br>\n",
    "*Korrelationskoeffizient:* $r=-0.05$"
   ]
  },
  {
   "cell_type": "code",
   "execution_count": null,
   "metadata": {},
   "outputs": [],
   "source": [
    "from fragen import frage11lra\n",
    "\n",
    "frage11lra()"
   ]
  },
  {
   "cell_type": "markdown",
   "metadata": {},
   "source": [
    "2. *Beschreibung:* Der Zusammenhang zwischen Schuhgrösse und Körpergrösse soll untersucht werden. <br><br>\n",
    "*Regressionsgerade:* $f(x)=1.65x+54$ <br><br>\n",
    "*Korrelationskoeffizient:* $r=0.89$"
   ]
  },
  {
   "cell_type": "code",
   "execution_count": null,
   "metadata": {},
   "outputs": [],
   "source": [
    "from fragen import frage11lrb\n",
    "\n",
    "frage11lrb()"
   ]
  },
  {
   "cell_type": "markdown",
   "metadata": {},
   "source": [
    "3. *Beschreibung:* Es soll ein Zusammenhang zwischen der Anzahl Uber-Fahrer in einer Stadt und der Anzahl Babys untersucht werden. <br><br>\n",
    "*Regressionsgerade:* $f(x)=-15.3x+1150$ <br><br>\n",
    "*Korrelationskoeffizient:* $r=-0.01$"
   ]
  },
  {
   "cell_type": "code",
   "execution_count": null,
   "metadata": {},
   "outputs": [],
   "source": [
    "from fragen import frage11lrc\n",
    "\n",
    "frage11lrc()"
   ]
  },
  {
   "cell_type": "markdown",
   "metadata": {},
   "source": [
    "4. *Beschreibung:* Betrachtet wird die Beziehung zwischen den verpassten Schulwochen und dem Notendurchschnitt an einem Gymnasium. <br><br>\n",
    "*Regressionsgerade:* $f(x)=-0.26x+6.34$ <br><br>\n",
    "*Korrelationskoeffizient:* $r=-0.61$"
   ]
  },
  {
   "cell_type": "code",
   "execution_count": null,
   "metadata": {},
   "outputs": [],
   "source": [
    "from fragen import frage11lrd\n",
    "\n",
    "frage11lrd()"
   ]
  },
  {
   "cell_type": "markdown",
   "metadata": {},
   "source": [
    "5. *Beschreibung:* Es gibt einen Zusammenhang zwischen der Anzahl Streaming-Videos, die jemand schaut, und dem Gewicht in kg. <br><br>\n",
    "*Regressionsgerade:* $f(x)=1.6x+62$ <br><br>\n",
    "*Korrelationskoeffizient:* $r=0.12$"
   ]
  },
  {
   "cell_type": "markdown",
   "metadata": {},
   "source": [
    "Wie schwer ist - gemäss der Vorhersage - jemand, welche:r keine Streaming-Videos anschaut?"
   ]
  },
  {
   "cell_type": "markdown",
   "metadata": {},
   "source": [
    "*62 kg*"
   ]
  },
  {
   "cell_type": "markdown",
   "metadata": {},
   "source": [
    "Wie viel nimmt das Gewicht pro geschautem Video zu?"
   ]
  },
  {
   "cell_type": "markdown",
   "metadata": {},
   "source": [
    "*1.6kg*"
   ]
  },
  {
   "cell_type": "markdown",
   "metadata": {},
   "source": [
    "**Gruppenarbeit:** Hier soll wieder der Tierdatensatz untersucht werden. Dabei soll allerdings nur die Teilmenge der Hunde betrachtet werden."
   ]
  },
  {
   "cell_type": "code",
   "execution_count": null,
   "metadata": {},
   "outputs": [],
   "source": [
    "hunde = animal_table[animal_table.Spezies == \"Hund\"]\n",
    "hunde"
   ]
  },
  {
   "cell_type": "markdown",
   "metadata": {},
   "source": [
    "1. Erstellen Sie einen lr_plot, welcher den Zusammenhang zwischen dem Alter und dem Gewicht (in Pfund) untersucht."
   ]
  },
  {
   "cell_type": "code",
   "execution_count": null,
   "metadata": {},
   "outputs": [],
   "source": [
    "# Lösung\n",
    "\n",
    "lr_plot(hunde, \"Alter\", \"Gewicht\")"
   ]
  },
  {
   "cell_type": "markdown",
   "metadata": {},
   "source": [
    "2. Ist die Korrelation stark, moderat oder schwach?"
   ]
  },
  {
   "cell_type": "markdown",
   "metadata": {},
   "source": [
    "*stark*"
   ]
  },
  {
   "cell_type": "markdown",
   "metadata": {},
   "source": [
    "3. Ist die Korrelation positiv oder negativ?"
   ]
  },
  {
   "cell_type": "markdown",
   "metadata": {},
   "source": [
    "*positiv*"
   ]
  },
  {
   "cell_type": "markdown",
   "metadata": {},
   "source": [
    "4. Wie schwer ist - laut Modell - ein neugeborener Hund."
   ]
  },
  {
   "cell_type": "markdown",
   "metadata": {},
   "source": [
    "*ca. 16.8 Pfung ($y$-Achsenabschnitt $q$)*"
   ]
  },
  {
   "cell_type": "markdown",
   "metadata": {},
   "source": [
    "5. Wie viele Pfund nimmt ein Hund gemäss Voraussage pro Jahr zu."
   ]
  },
  {
   "cell_type": "markdown",
   "metadata": {},
   "source": [
    "*ca. 12.1 Pfund (Steigung $m$)*"
   ]
  },
  {
   "cell_type": "markdown",
   "metadata": {},
   "source": [
    "6. Machen Sie weitere ähnliche Untersuchungen beim Tierdatensatz."
   ]
  },
  {
   "cell_type": "code",
   "execution_count": null,
   "metadata": {},
   "outputs": [],
   "source": [
    "#Hier kommt Ihr Code hin."
   ]
  },
  {
   "cell_type": "markdown",
   "metadata": {},
   "source": [
    "#Hier kommt Ihre Antwort hin."
   ]
  },
  {
   "cell_type": "markdown",
   "metadata": {},
   "source": [
    "## Lineare Regression bei Ihrem Datensatz\n",
    "\n",
    "*Einzelarbeit:* Betrachten Sie nun Ihren Datensatz. \n",
    "1. Wie lautet der Name Ihres Datensatzes?"
   ]
  },
  {
   "cell_type": "markdown",
   "metadata": {},
   "source": [
    "#Hier kommt der Name Ihres Datensatzes hin."
   ]
  },
  {
   "cell_type": "markdown",
   "metadata": {},
   "source": [
    "2. Wählen Sie zwei Variablen aus, die Sie schon im Kapitel \"Regression\" untersucht haben."
   ]
  },
  {
   "cell_type": "markdown",
   "metadata": {},
   "source": [
    "#Ihre beiden Variablen."
   ]
  },
  {
   "cell_type": "markdown",
   "metadata": {},
   "source": [
    "3. Zeichnen Sie den lr_plot."
   ]
  },
  {
   "cell_type": "code",
   "execution_count": null,
   "metadata": {},
   "outputs": [],
   "source": [
    "#Hier kommt Ihr Code hin."
   ]
  },
  {
   "cell_type": "markdown",
   "metadata": {},
   "source": [
    "4. Ist die Korrelation stark, moderat oder schwach?"
   ]
  },
  {
   "cell_type": "markdown",
   "metadata": {},
   "source": [
    "#Hier kommt Ihre Antwort hin."
   ]
  },
  {
   "cell_type": "markdown",
   "metadata": {},
   "source": [
    "5. Welche Zunahme in $y$-Richtung hat die Zunahme einer Einheit in $x$-Richtung gemäss Ihrem Modell zur Folge?"
   ]
  },
  {
   "cell_type": "markdown",
   "metadata": {},
   "source": [
    "#Hier kommt Ihre Antwort hin."
   ]
  },
  {
   "cell_type": "markdown",
   "metadata": {},
   "source": [
    "6. Untersuchen Sie einen zweiten Zusammenhang wie in den Aufgaben 2 bis 5."
   ]
  },
  {
   "cell_type": "markdown",
   "metadata": {},
   "source": [
    "#Hier kommt Ihre Antwort hin."
   ]
  },
  {
   "cell_type": "markdown",
   "metadata": {},
   "source": [
    "**Zusatzaufgabe:** Beeinfluss die Anzahl Kaffetassen, die jemand pro Tag trinkt, die Schlafmenge? \n",
    "17 Leute wurden zu Ihrem Kaffeekonsum und Ihren Schlafgewohnheiten befragt:\n"
   ]
  },
  {
   "cell_type": "code",
   "execution_count": null,
   "metadata": {},
   "outputs": [],
   "source": [
    "data = {\"Anzahl Kaffeetassen pro Tag\": [3,0,8,1,1,2,1,0,2,1,3,4,0,5,1,2,1],\n",
    "        \"Schlaf in Minuten\": [400,480,310,300,390,360,410,500,390,480,360,430,450,240,420,380,480]}\n",
    "        \n",
    "coffee_table = pd.DataFrame(data)\n",
    "\n",
    "coffee_table"
   ]
  },
  {
   "cell_type": "markdown",
   "metadata": {},
   "source": [
    "Beschreiben Sie den Zusammenhang zwischen Kaffeekonsum und Schlafverhalten anhand des obigen Datensatzes."
   ]
  },
  {
   "cell_type": "markdown",
   "metadata": {},
   "source": [
    "*Die Korrelation ist moderat und negativ. Pro Kaffeetasse nimmt der Schlaf um ca. 22 Minuten ab. Wer keinen Kaffee trinkt, schläft ungefähr 445 Minuten (7.4 Stunden).*"
   ]
  },
  {
   "cell_type": "code",
   "execution_count": null,
   "metadata": {},
   "outputs": [],
   "source": [
    "# Mögliche Lösung\n",
    "lr_plot(coffee_table, \"Anzahl Kaffeetassen pro Tag\", \"Schlaf in Minuten\")"
   ]
  },
  {
   "cell_type": "markdown",
   "metadata": {},
   "source": [
    "**Zusatzaufgabe:** Sammeln Sie Daten bei Ihren Sitznachbarn zu einem Thema das Sie interessiert. Beschreiben Sie die entsprechende Beziehung."
   ]
  },
  {
   "cell_type": "code",
   "execution_count": null,
   "metadata": {},
   "outputs": [],
   "source": [
    "# Hier kommt Ihr Code hin."
   ]
  },
  {
   "cell_type": "markdown",
   "metadata": {},
   "source": [
    "#Hier kommt Ihre Beschreibung hin."
   ]
  }
 ],
 "metadata": {
  "interpreter": {
   "hash": "06857816d295f49859cc9b744cb5307f357aa28072ae1f3fa176dda7f6176408"
  },
  "kernelspec": {
   "display_name": "Python 3.8.11 ('base')",
   "language": "python",
   "name": "python3"
  },
  "language_info": {
   "codemirror_mode": {
    "name": "ipython",
    "version": 3
   },
   "file_extension": ".py",
   "mimetype": "text/x-python",
   "name": "python",
   "nbconvert_exporter": "python",
   "pygments_lexer": "ipython3",
   "version": "3.8.11"
  },
  "orig_nbformat": 4
 },
 "nbformat": 4,
 "nbformat_minor": 2
}
