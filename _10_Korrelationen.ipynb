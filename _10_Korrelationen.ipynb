{
 "cells": [
  {
   "cell_type": "markdown",
   "metadata": {},
   "source": [
    "## Korrelationen\n",
    "\n",
    "## Lernziele\n",
    "\n",
    "Die Schüler:innen können\n",
    "* bestätigen, dass ein Streudiagramm linear aussieht.\n",
    "* verstehen, wie die Korrelation eine Richtung bei einem linearen Zusammenhang angibt.\n",
    "* verstehen, wie die Korrelation die Stärke eines Zusammenhangs misst."
   ]
  },
  {
   "cell_type": "markdown",
   "metadata": {},
   "source": [
    "## Zusammenhänge haben eine Form\n",
    "\n",
    "Im Kapitel \"Streudiagramme\" wurde der Zusammenhang zwischen zwei Variablen untersucht. Welche Form hat aber ein solcher Zusammenhang.\n",
    "\n",
    "Wenn die entsprechende Punktewolche im Streudiagramm im Wesentlichen einer Geraden folgt, handelt es sich um eine **lineare Beziehung** bzwischen den beiden Variablen bzw. einen linearen Zusammenhang.\n",
    "\n",
    "**Einzelarbeit:** Manchmal liegt zwischen zwei Variablen eine lineare Beziehung vor, manchmal eine nicht-lineare Beziehung (zum Beispiel eine quadratische oder trigonometrische). Oft gibt es aber auch gar keine Struktur und die Punktewolke hat keine Form.\n",
    "\n",
    "Bestimmen Sie jeweils die Form, die Richtung und die Stärke der Beziehung.\n",
    "\n",
    "*Hinweis:* Wenn die Form nicht linear ist, macht es oft keinen Sinn von einer Richtung zu sprechen, da die Kurve steigen und fallen kann."
   ]
  },
  {
   "cell_type": "markdown",
   "metadata": {},
   "source": [
    "1. Bestimmen Sie Form, Richtung und Stärke.\n",
    "\n",
    "<img src=\"Images/10_SP_A.png\" width=300>"
   ]
  },
  {
   "cell_type": "code",
   "execution_count": 1,
   "metadata": {},
   "outputs": [
    {
     "data": {
      "application/vnd.jupyter.widget-view+json": {
       "model_id": "3472d28d25724afd9ad8fc752e96285f",
       "version_major": 2,
       "version_minor": 0
      },
      "text/plain": [
       "VBox(children=(Output(), RadioButtons(options=(('linear', 0), ('nicht-linear', 1), ('keine', 2)), value=0), Bu…"
      ]
     },
     "metadata": {},
     "output_type": "display_data"
    },
    {
     "data": {
      "application/vnd.jupyter.widget-view+json": {
       "model_id": "ac1bd4aaa93949c8a9638065f15296bd",
       "version_major": 2,
       "version_minor": 0
      },
      "text/plain": [
       "VBox(children=(Output(), RadioButtons(options=(('steigend', 0), ('fallend', 1), ('keine', 2)), value=0), Butto…"
      ]
     },
     "metadata": {},
     "output_type": "display_data"
    },
    {
     "data": {
      "application/vnd.jupyter.widget-view+json": {
       "model_id": "a94c7990a6b447d58ac8ca9df07fb321",
       "version_major": 2,
       "version_minor": 0
      },
      "text/plain": [
       "VBox(children=(Output(), RadioButtons(options=(('stark', 0), ('schwach', 1)), value=0), Button(description='Üb…"
      ]
     },
     "metadata": {},
     "output_type": "display_data"
    }
   ],
   "source": [
    "from fragen import *\n",
    "\n",
    "frage10A()"
   ]
  },
  {
   "cell_type": "markdown",
   "metadata": {},
   "source": [
    "2. Bestimmen Sie Form, Richtung und Stärke.\n",
    "\n",
    "<img src=\"Images/10_SP_B.png\" width=300>"
   ]
  },
  {
   "cell_type": "code",
   "execution_count": 2,
   "metadata": {},
   "outputs": [
    {
     "data": {
      "application/vnd.jupyter.widget-view+json": {
       "model_id": "cb09233be6cf4a8aac57b23c834ba4fd",
       "version_major": 2,
       "version_minor": 0
      },
      "text/plain": [
       "VBox(children=(Output(), RadioButtons(options=(('linear', 0), ('nicht-linear', 1), ('keine', 2)), value=0), Bu…"
      ]
     },
     "metadata": {},
     "output_type": "display_data"
    },
    {
     "data": {
      "application/vnd.jupyter.widget-view+json": {
       "model_id": "748447a20bb3471ba851e8df0735f870",
       "version_major": 2,
       "version_minor": 0
      },
      "text/plain": [
       "VBox(children=(Output(), RadioButtons(options=(('steigend', 0), ('fallend', 1), ('keine', 2)), value=0), Butto…"
      ]
     },
     "metadata": {},
     "output_type": "display_data"
    },
    {
     "data": {
      "application/vnd.jupyter.widget-view+json": {
       "model_id": "ada683003c304ea5bb408d8bd0601340",
       "version_major": 2,
       "version_minor": 0
      },
      "text/plain": [
       "VBox(children=(Output(), RadioButtons(options=(('stark', 0), ('schwach', 1)), value=0), Button(description='Üb…"
      ]
     },
     "metadata": {},
     "output_type": "display_data"
    }
   ],
   "source": [
    "frage10B()"
   ]
  },
  {
   "cell_type": "markdown",
   "metadata": {},
   "source": [
    "3. Bestimmen Sie Form, Richtung und Stärke.\n",
    "\n",
    "<img src=\"Images/10_SP_C.png\" width=300>"
   ]
  },
  {
   "cell_type": "code",
   "execution_count": 3,
   "metadata": {},
   "outputs": [
    {
     "data": {
      "application/vnd.jupyter.widget-view+json": {
       "model_id": "bb4c2cefeda44f96be32f907b09a2083",
       "version_major": 2,
       "version_minor": 0
      },
      "text/plain": [
       "VBox(children=(Output(), RadioButtons(options=(('linear', 0), ('nicht-linear', 1), ('keine', 2)), value=0), Bu…"
      ]
     },
     "metadata": {},
     "output_type": "display_data"
    },
    {
     "data": {
      "application/vnd.jupyter.widget-view+json": {
       "model_id": "9c8ca7d0cc1d40759e62f9f8f2621f74",
       "version_major": 2,
       "version_minor": 0
      },
      "text/plain": [
       "VBox(children=(Output(), RadioButtons(options=(('steigend', 0), ('fallend', 1), ('keine', 2)), value=0), Butto…"
      ]
     },
     "metadata": {},
     "output_type": "display_data"
    },
    {
     "data": {
      "application/vnd.jupyter.widget-view+json": {
       "model_id": "55e4a9423fad439cab35b68505eb989b",
       "version_major": 2,
       "version_minor": 0
      },
      "text/plain": [
       "VBox(children=(Output(), RadioButtons(options=(('stark', 0), ('schwach', 1)), value=0), Button(description='Üb…"
      ]
     },
     "metadata": {},
     "output_type": "display_data"
    }
   ],
   "source": [
    "frage10C()"
   ]
  },
  {
   "cell_type": "markdown",
   "metadata": {},
   "source": [
    "4. Bestimmen Sie Form, Richtung und Stärke.\n",
    "\n",
    "<img src=\"Images/10_SP_D.png\" width=300>"
   ]
  },
  {
   "cell_type": "code",
   "execution_count": 4,
   "metadata": {},
   "outputs": [
    {
     "data": {
      "application/vnd.jupyter.widget-view+json": {
       "model_id": "b7429b7911ab4940a0c9053737d93367",
       "version_major": 2,
       "version_minor": 0
      },
      "text/plain": [
       "VBox(children=(Output(), RadioButtons(options=(('linear', 0), ('nicht-linear', 1), ('keine', 2)), value=0), Bu…"
      ]
     },
     "metadata": {},
     "output_type": "display_data"
    },
    {
     "data": {
      "application/vnd.jupyter.widget-view+json": {
       "model_id": "4255b2f400e5427d8c0edbe6cd29c1fd",
       "version_major": 2,
       "version_minor": 0
      },
      "text/plain": [
       "VBox(children=(Output(), RadioButtons(options=(('steigend', 0), ('fallend', 1), ('keine', 2)), value=0), Butto…"
      ]
     },
     "metadata": {},
     "output_type": "display_data"
    },
    {
     "data": {
      "application/vnd.jupyter.widget-view+json": {
       "model_id": "cb9b171e53a84d898818d3fd5574ec71",
       "version_major": 2,
       "version_minor": 0
      },
      "text/plain": [
       "VBox(children=(Output(), RadioButtons(options=(('stark', 0), ('schwach', 1)), value=0), Button(description='Üb…"
      ]
     },
     "metadata": {},
     "output_type": "display_data"
    }
   ],
   "source": [
    "frage10D()\n"
   ]
  },
  {
   "cell_type": "markdown",
   "metadata": {},
   "source": [
    "5. Bestimmen Sie Form, Richtung und Stärke.\n",
    "\n",
    "<img src=\"Images/10_SP_E.png\" width=300>"
   ]
  },
  {
   "cell_type": "code",
   "execution_count": 5,
   "metadata": {},
   "outputs": [
    {
     "data": {
      "application/vnd.jupyter.widget-view+json": {
       "model_id": "0ed4c514cc75439db455af23ad477e5e",
       "version_major": 2,
       "version_minor": 0
      },
      "text/plain": [
       "VBox(children=(Output(), RadioButtons(options=(('linear', 0), ('nicht-linear', 1), ('keine', 2)), value=0), Bu…"
      ]
     },
     "metadata": {},
     "output_type": "display_data"
    },
    {
     "data": {
      "application/vnd.jupyter.widget-view+json": {
       "model_id": "e357916a19c942269f3faeda7d5500c0",
       "version_major": 2,
       "version_minor": 0
      },
      "text/plain": [
       "VBox(children=(Output(), RadioButtons(options=(('steigend', 0), ('fallend', 1), ('keine', 2)), value=0), Butto…"
      ]
     },
     "metadata": {},
     "output_type": "display_data"
    },
    {
     "data": {
      "application/vnd.jupyter.widget-view+json": {
       "model_id": "8fc1d8744f8c4f3c9fdc25d981588fa5",
       "version_major": 2,
       "version_minor": 0
      },
      "text/plain": [
       "VBox(children=(Output(), RadioButtons(options=(('stark', 0), ('schwach', 1)), value=0), Button(description='Üb…"
      ]
     },
     "metadata": {},
     "output_type": "display_data"
    }
   ],
   "source": [
    "frage10E()\n"
   ]
  },
  {
   "cell_type": "markdown",
   "metadata": {},
   "source": [
    "6. Bestimmen Sie Form, Richtung und Stärke.\n",
    "\n",
    "<img src=\"Images/10_SP_F.png\" width=300>"
   ]
  },
  {
   "cell_type": "code",
   "execution_count": 6,
   "metadata": {},
   "outputs": [
    {
     "data": {
      "application/vnd.jupyter.widget-view+json": {
       "model_id": "fc4e9176d66e4334803355cfeb736d05",
       "version_major": 2,
       "version_minor": 0
      },
      "text/plain": [
       "VBox(children=(Output(), RadioButtons(options=(('linear', 0), ('nicht-linear', 1), ('keine', 2)), value=0), Bu…"
      ]
     },
     "metadata": {},
     "output_type": "display_data"
    },
    {
     "data": {
      "application/vnd.jupyter.widget-view+json": {
       "model_id": "fb750b65150948c9b9c9d83ef632f85b",
       "version_major": 2,
       "version_minor": 0
      },
      "text/plain": [
       "VBox(children=(Output(), RadioButtons(options=(('steigend', 0), ('fallend', 1), ('keine', 2)), value=0), Butto…"
      ]
     },
     "metadata": {},
     "output_type": "display_data"
    },
    {
     "data": {
      "application/vnd.jupyter.widget-view+json": {
       "model_id": "4353c98d66e24a809c43d8a15567dbf7",
       "version_major": 2,
       "version_minor": 0
      },
      "text/plain": [
       "VBox(children=(Output(), RadioButtons(options=(('stark', 0), ('schwach', 1)), value=0), Button(description='Üb…"
      ]
     },
     "metadata": {},
     "output_type": "display_data"
    }
   ],
   "source": [
    "frage10F()\n"
   ]
  },
  {
   "cell_type": "markdown",
   "metadata": {},
   "source": [
    "Data Scientists benutzen nicht nur Tabellen mit Zahlen und Computerprogramme sondern auch ihre Augen. Es macht keinen Sinn nach einer Korrelation zu suchen, wenn kein linearer Zusammenhang besteht. Es ist eine gute Strategie bei einem neuen Datensatz zuerst einmal ein paar aussagekräftige Visulaisierungen zu erstellen und erst danach etwas auszurechnen."
   ]
  },
  {
   "cell_type": "markdown",
   "metadata": {},
   "source": [
    "# Korrelationen haben eine Richtung und eine Stärke\n",
    "\n",
    "Wenn eine lineare Beziehung vorliegt, so können Data Scientist eine Grösse namens **Korrelation** oder **Korrelationskoeffizient** (manchmal auch $r$-Wert genenannt) berechnen, welcher sowohl die Stärke als auch die Richtung des Zusammenhangs angibt.\n",
    "\n",
    "Die **Richtung** einer linearen Bezihung ist entweder positiv oder negativ.\n",
    "\n",
    "* Eine lineare Beziehung zwischen zwei quantitativen Variablen ist **positiv**, wenn die Punktewolke im Streudiagramm nach oben zeigt: Zu kleinen $x$-Werten gehören kleine $y$-Werte, zu grossen $x$-Werten gehören grosse $y$-Werte. Die unsichtbare Gerade, die den linearen Zusammenhang beschreibt, steigt.\n",
    "* Eine lineare Beziehung zwischen zwei quantitativen Variablen ist **negativ**, wenn die Punktewolke im Streudiagramm nach unten zeigt: Zu kleinen $x$-Werten gehören grosse $y$-Werte, zu grossen $x$-Werten gehören kleine $y$-Werte. Die Gerade, die den linearen Zusammenhang beschreibt, fällt.\n",
    "\n",
    "* Positive Zusammenhänge kommen in der Natur tendenziell häufiger vor. Zum Beispiel: \"Je älter ein Tier ist, desto mehr wiegt es\".\n",
    "* Es kommen in der Natur vor. Zum Beispiel: \"Je älter ein Kind ist, desto weniger neue Wörter lernt es pro Tag\"."
   ]
  },
  {
   "cell_type": "markdown",
   "metadata": {},
   "source": [
    "Die **Stärke** gibt an, wie sehr die beiden Variablen korrelieren. Die Frage ist, wie gut mit einem bestimmten $x$-Wert der $y$-Wert vorhergesagt werden kann.\n",
    "\n",
    "* Eine Beziehung zwischen zwei Variablen ist **stark**, wenn die Kenntnis eines $x$-Wertes eines Datenpunkt uns eine gute Idee für den $y$-Wert gibt. Wenn zum Beispiel das Alter eine:s Schüler:in die Informatikkenntnisse voraussagen lässt. <br>\n",
    "Eine starke lineare Beziehung bedeutet, dass die Punkte alle nah an einer unsichtbaren Geraden liegen.\n",
    "* Eine Beziehung zwischen zwei Variablen ist **schwach**, wenn die Kenntnis eines $x$-Wertes kaum einen Schluss auf den $y$-Wert zulässt. Zum Beipiel lässt sich aufgrund des Alters eine:s Schüler:in kaum etwas über die Anzahl Geschwister aussagen. <br>\n",
    "Eine schwache lineare Beziehung bedeutet, dass die Punkte weit weg von einer unsichtbaren Geraden liegen."
   ]
  }
 ],
 "metadata": {
  "interpreter": {
   "hash": "26130839a7e87fd59e038942810dbb4909e5232b32b1ad521e6a6bc3043702c6"
  },
  "kernelspec": {
   "display_name": "Python 3.8.11 64-bit ('base': conda)",
   "name": "python3"
  },
  "language_info": {
   "codemirror_mode": {
    "name": "ipython",
    "version": 3
   },
   "file_extension": ".py",
   "mimetype": "text/x-python",
   "name": "python",
   "nbconvert_exporter": "python",
   "pygments_lexer": "ipython3",
   "version": "3.8.11"
  },
  "orig_nbformat": 4
 },
 "nbformat": 4,
 "nbformat_minor": 2
}
