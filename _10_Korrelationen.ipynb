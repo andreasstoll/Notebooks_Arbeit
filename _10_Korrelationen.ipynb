{
 "cells": [
  {
   "cell_type": "markdown",
   "metadata": {},
   "source": [
    "## Korrelationen\n",
    "\n",
    "## Lernziele\n",
    "\n",
    "Die Schüler:innen können\n",
    "* bestätigen, dass ein Streudiagramm linear aussieht.\n",
    "* verstehen, wie die Korrelation eine Richtung bei einem linearen Zusammenhang angibt.\n",
    "* verstehen, wie die Korrelation die Stärke eines Zusammenhangs misst."
   ]
  },
  {
   "cell_type": "markdown",
   "metadata": {},
   "source": [
    "## Zusammenhänge haben eine Form\n",
    "\n",
    "Im Kapitel \"Streudiagramme\" wurde der Zusammenhang zwischen zwei Variablen untersucht. Welche Form hat aber ein solcher Zusammenhang.\n",
    "\n",
    "Wenn die entsprechende Punktewolche im Streudiagramm im Wesentlichen einer Geraden folgt, handelt es sich um eine **lineare Beziehung** bzwischen den beiden Variablen bzw. einen linearen Zusammenhang.\n",
    "\n",
    "**Einzelarbeit:** Manchmal liegt zwischen zwei Variablen eine lineare Beziehung vor, manchmal eine nicht-lineare Beziehung (zum Beispiel eine quadratische oder trigonometrische). Oft gibt es aber auch gar keine Struktur und die Punktewolke hat keine Form.\n",
    "\n",
    "Bestimmen Sie jeweils die Form, die Richtung und die Stärke der Beziehung.\n",
    "\n",
    "*Hinweis:* Wenn die Form nicht linear ist, macht es oft keinen Sinn von einer Richtung zu sprechen, da die Kurve steigen und fallen kann."
   ]
  },
  {
   "cell_type": "markdown",
   "metadata": {},
   "source": [
    "1. Bestimmen Sie Form, Richtung und Stärke.\n",
    "\n",
    "<img src=\"Images/10_SP_A.png\" width=300>"
   ]
  },
  {
   "cell_type": "code",
   "execution_count": 1,
   "metadata": {},
   "outputs": [
    {
     "data": {
      "application/vnd.jupyter.widget-view+json": {
       "model_id": "ec4f4e73c8524b19b5703e3944d174c7",
       "version_major": 2,
       "version_minor": 0
      },
      "text/plain": [
       "VBox(children=(Output(), RadioButtons(options=(('linear', 0), ('nicht-linear', 1), ('keine', 2)), value=0), Bu…"
      ]
     },
     "metadata": {},
     "output_type": "display_data"
    },
    {
     "data": {
      "application/vnd.jupyter.widget-view+json": {
       "model_id": "c18d30acd72747509b91d9e04684b37c",
       "version_major": 2,
       "version_minor": 0
      },
      "text/plain": [
       "VBox(children=(Output(), RadioButtons(options=(('steigend', 0), ('fallend', 1), ('keine', 2)), value=0), Butto…"
      ]
     },
     "metadata": {},
     "output_type": "display_data"
    },
    {
     "data": {
      "application/vnd.jupyter.widget-view+json": {
       "model_id": "f5bcdf08b8cf418e84a1e87a5c8ecdac",
       "version_major": 2,
       "version_minor": 0
      },
      "text/plain": [
       "VBox(children=(Output(), RadioButtons(options=(('stark', 0), ('schwach', 1)), value=0), Button(description='Üb…"
      ]
     },
     "metadata": {},
     "output_type": "display_data"
    }
   ],
   "source": [
    "from fragen import *\n",
    "\n",
    "frage10A()"
   ]
  },
  {
   "cell_type": "markdown",
   "metadata": {},
   "source": [
    "2. Bestimmen Sie Form, Richtung und Stärke.\n",
    "\n",
    "<img src=\"Images/10_SP_B.png\" width=300>"
   ]
  },
  {
   "cell_type": "code",
   "execution_count": 2,
   "metadata": {},
   "outputs": [
    {
     "data": {
      "application/vnd.jupyter.widget-view+json": {
       "model_id": "7f60d32b3f414bf4a23de8c51c7f71fe",
       "version_major": 2,
       "version_minor": 0
      },
      "text/plain": [
       "VBox(children=(Output(), RadioButtons(options=(('linear', 0), ('nicht-linear', 1), ('keine', 2)), value=0), Bu…"
      ]
     },
     "metadata": {},
     "output_type": "display_data"
    },
    {
     "data": {
      "application/vnd.jupyter.widget-view+json": {
       "model_id": "033c5193f38644c29e1c930662653525",
       "version_major": 2,
       "version_minor": 0
      },
      "text/plain": [
       "VBox(children=(Output(), RadioButtons(options=(('steigend', 0), ('fallend', 1), ('keine', 2)), value=0), Butto…"
      ]
     },
     "metadata": {},
     "output_type": "display_data"
    },
    {
     "data": {
      "application/vnd.jupyter.widget-view+json": {
       "model_id": "055b19eb872243cfb891180f77a9998f",
       "version_major": 2,
       "version_minor": 0
      },
      "text/plain": [
       "VBox(children=(Output(), RadioButtons(options=(('stark', 0), ('schwach', 1)), value=0), Button(description='Üb…"
      ]
     },
     "metadata": {},
     "output_type": "display_data"
    }
   ],
   "source": [
    "frage10B()"
   ]
  },
  {
   "cell_type": "markdown",
   "metadata": {},
   "source": [
    "3. Bestimmen Sie Form, Richtung und Stärke.\n",
    "\n",
    "<img src=\"Images/10_SP_C.png\" width=300>"
   ]
  },
  {
   "cell_type": "code",
   "execution_count": 3,
   "metadata": {},
   "outputs": [
    {
     "data": {
      "application/vnd.jupyter.widget-view+json": {
       "model_id": "104d3e267fcb4f1bb9ad540b83b1dc16",
       "version_major": 2,
       "version_minor": 0
      },
      "text/plain": [
       "VBox(children=(Output(), RadioButtons(options=(('linear', 0), ('nicht-linear', 1), ('keine', 2)), value=0), Bu…"
      ]
     },
     "metadata": {},
     "output_type": "display_data"
    },
    {
     "data": {
      "application/vnd.jupyter.widget-view+json": {
       "model_id": "d0722b0072184ee4a8aa74af683b166e",
       "version_major": 2,
       "version_minor": 0
      },
      "text/plain": [
       "VBox(children=(Output(), RadioButtons(options=(('steigend', 0), ('fallend', 1), ('keine', 2)), value=0), Butto…"
      ]
     },
     "metadata": {},
     "output_type": "display_data"
    },
    {
     "data": {
      "application/vnd.jupyter.widget-view+json": {
       "model_id": "398653106dfa4a499eb35cf244d6800f",
       "version_major": 2,
       "version_minor": 0
      },
      "text/plain": [
       "VBox(children=(Output(), RadioButtons(options=(('stark', 0), ('schwach', 1)), value=0), Button(description='Üb…"
      ]
     },
     "metadata": {},
     "output_type": "display_data"
    }
   ],
   "source": [
    "frage10C()"
   ]
  },
  {
   "cell_type": "markdown",
   "metadata": {},
   "source": [
    "4. Bestimmen Sie Form, Richtung und Stärke.\n",
    "\n",
    "<img src=\"Images/10_SP_D.png\" width=300>"
   ]
  },
  {
   "cell_type": "code",
   "execution_count": 4,
   "metadata": {},
   "outputs": [
    {
     "data": {
      "application/vnd.jupyter.widget-view+json": {
       "model_id": "6afc1aebd6d845cbb442dc3ba0439161",
       "version_major": 2,
       "version_minor": 0
      },
      "text/plain": [
       "VBox(children=(Output(), RadioButtons(options=(('linear', 0), ('nicht-linear', 1), ('keine', 2)), value=0), Bu…"
      ]
     },
     "metadata": {},
     "output_type": "display_data"
    },
    {
     "data": {
      "application/vnd.jupyter.widget-view+json": {
       "model_id": "3ab22dc393434c3884aeab9584a42bb2",
       "version_major": 2,
       "version_minor": 0
      },
      "text/plain": [
       "VBox(children=(Output(), RadioButtons(options=(('steigend', 0), ('fallend', 1), ('keine', 2)), value=0), Butto…"
      ]
     },
     "metadata": {},
     "output_type": "display_data"
    },
    {
     "data": {
      "application/vnd.jupyter.widget-view+json": {
       "model_id": "56bfed01458940afbbc98eb99fd72d5d",
       "version_major": 2,
       "version_minor": 0
      },
      "text/plain": [
       "VBox(children=(Output(), RadioButtons(options=(('stark', 0), ('schwach', 1)), value=0), Button(description='Üb…"
      ]
     },
     "metadata": {},
     "output_type": "display_data"
    }
   ],
   "source": [
    "frage10D()\n"
   ]
  },
  {
   "cell_type": "markdown",
   "metadata": {},
   "source": [
    "5. Bestimmen Sie Form, Richtung und Stärke.\n",
    "\n",
    "<img src=\"Images/10_SP_E.png\" width=300>"
   ]
  },
  {
   "cell_type": "code",
   "execution_count": 5,
   "metadata": {},
   "outputs": [
    {
     "data": {
      "application/vnd.jupyter.widget-view+json": {
       "model_id": "0c41fe7ca72c4b3c8bbd08158c6c6709",
       "version_major": 2,
       "version_minor": 0
      },
      "text/plain": [
       "VBox(children=(Output(), RadioButtons(options=(('linear', 0), ('nicht-linear', 1), ('keine', 2)), value=0), Bu…"
      ]
     },
     "metadata": {},
     "output_type": "display_data"
    },
    {
     "data": {
      "application/vnd.jupyter.widget-view+json": {
       "model_id": "9cfaa4b3dca94b33939c0caa46dce84c",
       "version_major": 2,
       "version_minor": 0
      },
      "text/plain": [
       "VBox(children=(Output(), RadioButtons(options=(('steigend', 0), ('fallend', 1), ('keine', 2)), value=0), Butto…"
      ]
     },
     "metadata": {},
     "output_type": "display_data"
    },
    {
     "data": {
      "application/vnd.jupyter.widget-view+json": {
       "model_id": "7d0aec15f5ed4275a1708045a7eea5e4",
       "version_major": 2,
       "version_minor": 0
      },
      "text/plain": [
       "VBox(children=(Output(), RadioButtons(options=(('stark', 0), ('schwach', 1)), value=0), Button(description='Üb…"
      ]
     },
     "metadata": {},
     "output_type": "display_data"
    }
   ],
   "source": [
    "frage10E()\n"
   ]
  },
  {
   "cell_type": "markdown",
   "metadata": {},
   "source": [
    "6. Bestimmen Sie Form, Richtung und Stärke.\n",
    "\n",
    "<img src=\"Images/10_SP_F.png\" width=300>"
   ]
  },
  {
   "cell_type": "code",
   "execution_count": 6,
   "metadata": {},
   "outputs": [
    {
     "data": {
      "application/vnd.jupyter.widget-view+json": {
       "model_id": "12a6c9f15fd14e5ca2b8da33265490b8",
       "version_major": 2,
       "version_minor": 0
      },
      "text/plain": [
       "VBox(children=(Output(), RadioButtons(options=(('linear', 0), ('nicht-linear', 1), ('keine', 2)), value=0), Bu…"
      ]
     },
     "metadata": {},
     "output_type": "display_data"
    },
    {
     "data": {
      "application/vnd.jupyter.widget-view+json": {
       "model_id": "c72af74886dd4c668f0000b88247f254",
       "version_major": 2,
       "version_minor": 0
      },
      "text/plain": [
       "VBox(children=(Output(), RadioButtons(options=(('steigend', 0), ('fallend', 1), ('keine', 2)), value=0), Butto…"
      ]
     },
     "metadata": {},
     "output_type": "display_data"
    },
    {
     "data": {
      "application/vnd.jupyter.widget-view+json": {
       "model_id": "b74d67dd5e8f4fbfa4ca7fadf945c29e",
       "version_major": 2,
       "version_minor": 0
      },
      "text/plain": [
       "VBox(children=(Output(), RadioButtons(options=(('stark', 0), ('schwach', 1)), value=0), Button(description='Üb…"
      ]
     },
     "metadata": {},
     "output_type": "display_data"
    }
   ],
   "source": [
    "frage10F()\n"
   ]
  },
  {
   "cell_type": "markdown",
   "metadata": {},
   "source": [
    "Data Scientists benutzen nicht nur Tabellen mit Zahlen und Computerprogramme sondern auch ihre Augen. Es macht keinen Sinn nach einer Korrelation zu suchen, wenn kein linearer Zusammenhang besteht. Es ist eine gute Strategie bei einem neuen Datensatz zuerst einmal ein paar aussagekräftige Visulaisierungen zu erstellen und erst danach etwas auszurechnen."
   ]
  },
  {
   "cell_type": "markdown",
   "metadata": {},
   "source": [
    "# Korrelationen haben eine Richtung und eine Stärke\n",
    "\n",
    "Wenn eine lineare Beziehung vorliegt, so können Data Scientist eine Grösse namens **Korrelation** oder **Korrelationskoeffizient** (manchmal auch $r$-Wert genenannt) berechnen, welcher sowohl die Stärke als auch die Richtung des Zusammenhangs angibt.\n",
    "\n",
    "Die **Richtung** einer linearen Bezihung ist entweder positiv oder negativ.\n",
    "\n",
    "* Eine lineare Beziehung zwischen zwei quantitativen Variablen ist **positiv**, wenn die Punktewolke im Streudiagramm nach oben zeigt: Zu kleinen $x$-Werten gehören kleine $y$-Werte, zu grossen $x$-Werten gehören grosse $y$-Werte. Die unsichtbare Gerade, die den linearen Zusammenhang beschreibt, steigt.\n",
    "* Eine lineare Beziehung zwischen zwei quantitativen Variablen ist **negativ**, wenn die Punktewolke im Streudiagramm nach unten zeigt: Zu kleinen $x$-Werten gehören grosse $y$-Werte, zu grossen $x$-Werten gehören kleine $y$-Werte. Die Gerade, die den linearen Zusammenhang beschreibt, fällt.\n",
    "\n",
    "* Positive Zusammenhänge kommen in der Natur tendenziell häufiger vor. Zum Beispiel: \"Je älter ein Tier ist, desto mehr wiegt es\".\n",
    "* Es kommen in der Natur vor. Zum Beispiel: \"Je älter ein Kind ist, desto weniger neue Wörter lernt es pro Tag\"."
   ]
  },
  {
   "cell_type": "markdown",
   "metadata": {},
   "source": [
    "Die **Stärke** gibt an, wie sehr die beiden Variablen korrelieren. Die Frage ist, wie gut mit einem bestimmten $x$-Wert der $y$-Wert vorhergesagt werden kann.\n",
    "\n",
    "* Eine Beziehung zwischen zwei Variablen ist **stark**, wenn die Kenntnis eines $x$-Wertes eines Datenpunkt uns eine gute Idee für den $y$-Wert gibt. Wenn zum Beispiel das Alter eine:s Schüler:in die Informatikkenntnisse voraussagen lässt. <br>\n",
    "Eine starke lineare Beziehung bedeutet, dass die Punkte alle nah an einer unsichtbaren Geraden liegen.\n",
    "* Eine Beziehung zwischen zwei Variablen ist **schwach**, wenn die Kenntnis eines $x$-Wertes kaum einen Schluss auf den $y$-Wert zulässt. Zum Beipiel lässt sich aufgrund des Alters eine:s Schüler:in kaum etwas über die Anzahl Geschwister aussagen. <br>\n",
    "Eine schwache lineare Beziehung bedeutet, dass die Punkte weit weg von einer unsichtbaren Geraden liegen."
   ]
  },
  {
   "cell_type": "markdown",
   "metadata": {},
   "source": [
    "Der Korrelationskoeffizient $r$ ist eine Zahl zwischen -1 und 1. \n",
    "\n",
    "* Ist r **positiv**, so ist auch die Richtung des **Zusammenhangs positiv**.\n",
    "* Ist r **negativ**, so ist auch die Richtung des **Zusammenhangs negativ**.\n",
    "* Die **Stärke** des Zusammenhangs entspricht dem **Abstand zur Null**. Ein $r$-Wert von 0 bedeutet, dass gar kein linearer Zusammenhang besteht, ein $r$-Wert nahe bei -1 oder 1 lässt auf einen starken linearen Zusammenhang schliessen.\n",
    "* Ein $r$-Wert ab ca. $\\pm 0.65$ oder $\\pm 0.70$ wird typischwerweise als **starke Korrelation** bezeichnet.\n",
    "* Ein $r$-Wert zwischen $\\pm 0.35$ oder $\\pm 0.65$ wird als **moderate Korrelation** bezeichnet.\n",
    "* Ein $r$-Wert zwischen ca. $-0.35$ und $0.35$ wird als **schwache Korrelation** bezeichnet.\n",
    "* Diese Einteilung hängt allerdings vom Kontext ab. Je nach Konvext gilt schon ein $r$-Wert von 0.5 als aussergewönlich strake Korrelation.\n"
   ]
  },
  {
   "cell_type": "markdown",
   "metadata": {},
   "source": [
    "**Gruppenarbeit:** Ist die Form linear oder nicht? Wenn ja, geben Sie das Vorzeichen von $r$ an uns schätzen Sie $r$."
   ]
  },
  {
   "cell_type": "markdown",
   "metadata": {},
   "source": [
    "1. Streudiagramm: \n",
    "\n",
    "<img src=\"Images/10_r_A.png\" width=300>"
   ]
  },
  {
   "cell_type": "markdown",
   "metadata": {},
   "source": [
    "Linear oder nicht? "
   ]
  },
  {
   "cell_type": "markdown",
   "metadata": {},
   "source": [
    "#Hier kommt Ihre Antwort hin."
   ]
  },
  {
   "cell_type": "markdown",
   "metadata": {},
   "source": [
    "*Linear*"
   ]
  },
  {
   "cell_type": "markdown",
   "metadata": {},
   "source": [
    "Vorzeichen von $r$ (positiv oder negativ)?"
   ]
  },
  {
   "cell_type": "markdown",
   "metadata": {},
   "source": [
    "#Hier kommt Ihre Antwort hin."
   ]
  },
  {
   "cell_type": "markdown",
   "metadata": {},
   "source": [
    "*Negativ*"
   ]
  },
  {
   "cell_type": "markdown",
   "metadata": {},
   "source": [
    "Schätzen Sie den Korrelationskoeffizient $r$."
   ]
  },
  {
   "cell_type": "markdown",
   "metadata": {},
   "source": [
    "#Hier kommt Ihre Antwort hin."
   ]
  },
  {
   "cell_type": "markdown",
   "metadata": {},
   "source": [
    "-0.626"
   ]
  },
  {
   "cell_type": "markdown",
   "metadata": {},
   "source": [
    "2. Streudiagramm: \n",
    "\n",
    "<img src=\"Images/10_r_B.png\" width=300>"
   ]
  },
  {
   "cell_type": "markdown",
   "metadata": {},
   "source": [
    "Linear oder nicht? "
   ]
  },
  {
   "cell_type": "markdown",
   "metadata": {},
   "source": [
    "#Hier kommt Ihre Antwort hin."
   ]
  },
  {
   "cell_type": "markdown",
   "metadata": {},
   "source": [
    "*Linear*"
   ]
  },
  {
   "cell_type": "markdown",
   "metadata": {},
   "source": [
    "Vorzeichen von $r$ (positiv oder negativ)?"
   ]
  },
  {
   "cell_type": "markdown",
   "metadata": {},
   "source": [
    "#Hier kommt Ihre Antwort hin."
   ]
  },
  {
   "cell_type": "markdown",
   "metadata": {},
   "source": [
    "*Negativ*"
   ]
  },
  {
   "cell_type": "markdown",
   "metadata": {},
   "source": [
    "Schätzen Sie den Korrelationskoeffizient $r$."
   ]
  },
  {
   "cell_type": "markdown",
   "metadata": {},
   "source": [
    "-0.988"
   ]
  },
  {
   "cell_type": "markdown",
   "metadata": {},
   "source": [
    "#Hier kommt Ihre Antwort hin."
   ]
  },
  {
   "cell_type": "markdown",
   "metadata": {},
   "source": [
    "3. Streudiagramm: \n",
    "\n",
    "<img src=\"Images/10_r_C.png\" width=300>"
   ]
  },
  {
   "cell_type": "markdown",
   "metadata": {},
   "source": [
    "Linear oder nicht? "
   ]
  },
  {
   "cell_type": "markdown",
   "metadata": {},
   "source": [
    "#Hier kommt Ihre Antwort hin."
   ]
  },
  {
   "cell_type": "markdown",
   "metadata": {},
   "source": [
    "*Nicht linear*"
   ]
  },
  {
   "cell_type": "markdown",
   "metadata": {},
   "source": [
    "Vorzeichen von $r$ (positiv oder negativ)?"
   ]
  },
  {
   "cell_type": "markdown",
   "metadata": {},
   "source": [
    "#Hier kommt Ihre Antwort hin."
   ]
  },
  {
   "cell_type": "markdown",
   "metadata": {},
   "source": [
    "*Nicht sinnvoll*"
   ]
  },
  {
   "cell_type": "markdown",
   "metadata": {},
   "source": [
    "Schätzen Sie den Korrelationskoeffizient $r$."
   ]
  },
  {
   "cell_type": "markdown",
   "metadata": {},
   "source": [
    "*Wenig sinnvoll (nahe bei 0)*"
   ]
  },
  {
   "cell_type": "markdown",
   "metadata": {},
   "source": [
    "#Hier kommt Ihre Antwort hin."
   ]
  },
  {
   "cell_type": "markdown",
   "metadata": {},
   "source": [
    "4. Streudiagramm: \n",
    "\n",
    "<img src=\"Images/10_r_D.png\" width=300>"
   ]
  },
  {
   "cell_type": "markdown",
   "metadata": {},
   "source": [
    "Linear oder nicht? "
   ]
  },
  {
   "cell_type": "markdown",
   "metadata": {},
   "source": [
    "*Linear*"
   ]
  },
  {
   "cell_type": "markdown",
   "metadata": {},
   "source": [
    "#Hier kommt Ihre Antwort hin."
   ]
  },
  {
   "cell_type": "markdown",
   "metadata": {},
   "source": [
    "Vorzeichen von $r$ (positiv oder negativ)?"
   ]
  },
  {
   "cell_type": "markdown",
   "metadata": {},
   "source": [
    "#Hier kommt Ihre Antwort hin."
   ]
  },
  {
   "cell_type": "markdown",
   "metadata": {},
   "source": [
    "*Positiv*"
   ]
  },
  {
   "cell_type": "markdown",
   "metadata": {},
   "source": [
    "Schätzen Sie den Korrelationskoeffizient $r$."
   ]
  },
  {
   "cell_type": "markdown",
   "metadata": {},
   "source": [
    "#Hier kommt Ihre Antwort hin."
   ]
  },
  {
   "cell_type": "markdown",
   "metadata": {},
   "source": [
    "0.396"
   ]
  },
  {
   "cell_type": "markdown",
   "metadata": {},
   "source": [
    "5. Streudiagramm: \n",
    "\n",
    "<img src=\"Images/10_r_E.png\" width=300>"
   ]
  },
  {
   "cell_type": "markdown",
   "metadata": {},
   "source": [
    "Linear oder nicht? "
   ]
  },
  {
   "cell_type": "markdown",
   "metadata": {},
   "source": [
    "#Hier kommt Ihre Antwort hin."
   ]
  },
  {
   "cell_type": "markdown",
   "metadata": {},
   "source": [
    "*Linear*"
   ]
  },
  {
   "cell_type": "markdown",
   "metadata": {},
   "source": [
    "Vorzeichen von $r$ (positiv oder negativ)?"
   ]
  },
  {
   "cell_type": "markdown",
   "metadata": {},
   "source": [
    "#Hier kommt Ihre Antwort hin."
   ]
  },
  {
   "cell_type": "markdown",
   "metadata": {},
   "source": [
    "*Positiv*"
   ]
  },
  {
   "cell_type": "markdown",
   "metadata": {},
   "source": [
    "Schätzen Sie den Korrelationskoeffizient $r$."
   ]
  },
  {
   "cell_type": "markdown",
   "metadata": {},
   "source": [
    "#Hier kommt Ihre Antwort hin."
   ]
  },
  {
   "cell_type": "markdown",
   "metadata": {},
   "source": [
    "0.739"
   ]
  },
  {
   "cell_type": "markdown",
   "metadata": {},
   "source": [
    "6. Streudiagramm: \n",
    "\n",
    "<img src=\"Images/10_r_F.png\" width=300>"
   ]
  },
  {
   "cell_type": "markdown",
   "metadata": {},
   "source": [
    "Linear oder nicht? "
   ]
  },
  {
   "cell_type": "markdown",
   "metadata": {},
   "source": [
    "#Hier kommt Ihre Antwort hin."
   ]
  },
  {
   "cell_type": "markdown",
   "metadata": {},
   "source": [
    "*Nicht linear*"
   ]
  },
  {
   "cell_type": "markdown",
   "metadata": {},
   "source": [
    "Vorzeichen von $r$ (positiv oder negativ)?"
   ]
  },
  {
   "cell_type": "markdown",
   "metadata": {},
   "source": [
    "#Hier kommt Ihre Antwort hin."
   ]
  },
  {
   "cell_type": "markdown",
   "metadata": {},
   "source": [
    "*Nicht sinnvoll*"
   ]
  },
  {
   "cell_type": "markdown",
   "metadata": {},
   "source": [
    "Schätzen Sie den Korrelationskoeffizient $r$."
   ]
  },
  {
   "cell_type": "markdown",
   "metadata": {},
   "source": [
    "#Hier kommt Ihre Antwort hin."
   ]
  },
  {
   "cell_type": "markdown",
   "metadata": {},
   "source": [
    "*Wenig sinnvoll (nahe bei 0)*"
   ]
  },
  {
   "cell_type": "markdown",
   "metadata": {},
   "source": [
    "**Einzelarbeit:** In der folgenden Aufgabe wird wieder der Tierdatensatz (animal_table) betrachtet."
   ]
  },
  {
   "cell_type": "code",
   "execution_count": 7,
   "metadata": {},
   "outputs": [],
   "source": [
    "import pandas as pd \n",
    "from charts import histogram\n",
    "datei_name = \"animal_dataset_bc.csv\"\n",
    "animal_table = pd.read_csv(datei_name,\n",
    "                        header=0,\n",
    "                        names=[\"Name\", \"Spezies\", \"Geschlecht\", \"Alter\", \"Steril\", \"Beine\", \"Gewicht\", \"Wochen\"], \n",
    "                        index_col=0)"
   ]
  },
  {
   "cell_type": "markdown",
   "metadata": {},
   "source": [
    "1. Erstellen Sie ein Streudiagramm mit \"Gewicht\" als $x$-Werte und \"Wochen\" als $y$-Werte."
   ]
  },
  {
   "cell_type": "code",
   "execution_count": 8,
   "metadata": {},
   "outputs": [],
   "source": [
    "from charts import scatter_plot\n",
    "\n",
    "# Hier kommt Ihr Code hin."
   ]
  },
  {
   "cell_type": "code",
   "execution_count": 9,
   "metadata": {},
   "outputs": [
    {
     "data": {
      "image/png": "[encoded data removed]",
      "text/plain": [
       "<Figure size 432x288 with 1 Axes>"
      ]
     },
     "metadata": {
      "needs_background": "light"
     },
     "output_type": "display_data"
    }
   ],
   "source": [
    "# Lösung\n",
    "\n",
    "from charts import scatter_plot\n",
    "scatter_plot(animal_table, \"Gewicht\", \"Wochen\")"
   ]
  },
  {
   "cell_type": "markdown",
   "metadata": {},
   "source": [
    "2. Welche Form hat die Punktwolche? Ist sie linear?"
   ]
  },
  {
   "cell_type": "markdown",
   "metadata": {},
   "source": [
    "#Hier kommt Ihre Antwort hin."
   ]
  },
  {
   "cell_type": "markdown",
   "metadata": {},
   "source": [
    "*Form: Linear*"
   ]
  },
  {
   "cell_type": "markdown",
   "metadata": {},
   "source": [
    "3. Welche Richtung hat die Korrelation? Steigend oder Fallend?"
   ]
  },
  {
   "cell_type": "markdown",
   "metadata": {},
   "source": [
    "#Hier kommt Ihre Antwort hin."
   ]
  },
  {
   "cell_type": "markdown",
   "metadata": {},
   "source": [
    "*Richtung: Steigend*"
   ]
  },
  {
   "cell_type": "markdown",
   "metadata": {},
   "source": [
    "4. Welche Stärke hat die Korrelation? Schätzen Sie."
   ]
  },
  {
   "cell_type": "markdown",
   "metadata": {},
   "source": [
    "#Hier kommt Ihre Antwort hin."
   ]
  },
  {
   "cell_type": "markdown",
   "metadata": {},
   "source": [
    "*Korrekte Lösung siehe unten.*"
   ]
  },
  {
   "cell_type": "markdown",
   "metadata": {},
   "source": [
    "5. Ist der $r$-Wert positiv oder negativ?"
   ]
  },
  {
   "cell_type": "markdown",
   "metadata": {},
   "source": [
    "#Hier kommt Ihre Antwort hin."
   ]
  },
  {
   "cell_type": "markdown",
   "metadata": {},
   "source": [
    "*$r$ ist negativ.*"
   ]
  },
  {
   "cell_type": "code",
   "execution_count": 10,
   "metadata": {},
   "outputs": [
    {
     "data": {
      "text/plain": [
       "0.648176449402253"
      ]
     },
     "execution_count": 10,
     "metadata": {},
     "output_type": "execute_result"
    }
   ],
   "source": [
    "from charts import r_value\n",
    "\n",
    "r=r_value(animal_table, \"Gewicht\", \"Wochen\")\n",
    "r"
   ]
  },
  {
   "cell_type": "code",
   "execution_count": 11,
   "metadata": {},
   "outputs": [
    {
     "data": {
      "text/plain": [
       "float"
      ]
     },
     "execution_count": 11,
     "metadata": {},
     "output_type": "execute_result"
    }
   ],
   "source": [
    "type(r)"
   ]
  }
 ],
 "metadata": {
  "interpreter": {
   "hash": "26130839a7e87fd59e038942810dbb4909e5232b32b1ad521e6a6bc3043702c6"
  },
  "kernelspec": {
   "display_name": "Python 3.8.11 64-bit ('base': conda)",
   "name": "python3"
  },
  "language_info": {
   "codemirror_mode": {
    "name": "ipython",
    "version": 3
   },
   "file_extension": ".py",
   "mimetype": "text/x-python",
   "name": "python",
   "nbconvert_exporter": "python",
   "pygments_lexer": "ipython3",
   "version": "3.8.11"
  },
  "orig_nbformat": 4
 },
 "nbformat": 4,
 "nbformat_minor": 2
}
