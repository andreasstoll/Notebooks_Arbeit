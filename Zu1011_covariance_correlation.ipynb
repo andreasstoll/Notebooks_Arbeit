{
 "cells": [
  {
   "cell_type": "code",
   "execution_count": 15,
   "metadata": {},
   "outputs": [],
   "source": [
    "import pandas as pd \n",
    "from charts import histogram\n",
    "datei_name = \"animal_dataset_bc.csv\"\n",
    "animal_table = pd.read_csv(datei_name,\n",
    "                        header=0,\n",
    "                        names=[\"Name\", \"Spezies\", \"Geschlecht\", \"Alter\", \"Steril\", \"Beine\", \"Gewicht\", \"Wochen\"], \n",
    "                        index_col=0)\n",
    "\n",
    "wochen = animal_table[\"Wochen\"]\n",
    "gewicht = animal_table[\"Gewicht\"]"
   ]
  },
  {
   "cell_type": "code",
   "execution_count": 4,
   "metadata": {},
   "outputs": [
    {
     "data": {
      "text/plain": [
       "pandas.core.series.Series"
      ]
     },
     "execution_count": 4,
     "metadata": {},
     "output_type": "execute_result"
    }
   ],
   "source": [
    "type(wochen)"
   ]
  },
  {
   "cell_type": "markdown",
   "metadata": {},
   "source": [
    "**Mittelwerte berechnen:** Hier soll untersucht werden, ob Mittelwerte mit der mean-Funktion von pandas oder einer eigenen (Summe/Länge) berechnet werden soll."
   ]
  },
  {
   "cell_type": "code",
   "execution_count": 19,
   "metadata": {},
   "outputs": [],
   "source": [
    "def mean_pandas(row: pd.Series):\n",
    "    return row.mean()"
   ]
  },
  {
   "cell_type": "code",
   "execution_count": 8,
   "metadata": {},
   "outputs": [],
   "source": [
    "def mean_with_sum(row: pd.Series):\n",
    "    return row.sum()/len(row)"
   ]
  },
  {
   "cell_type": "code",
   "execution_count": 10,
   "metadata": {},
   "outputs": [
    {
     "name": "stdout",
     "output_type": "stream",
     "text": [
      "39.71562499999998\n",
      "39.715625\n"
     ]
    }
   ],
   "source": [
    "print(mean_pandas(gewicht))\n",
    "print(mean_with_sum(gewicht))"
   ]
  },
  {
   "cell_type": "markdown",
   "metadata": {},
   "source": [
    "Ein Vergleich der beiden mean-Funktionen ergab folgendes:\n",
    "[5.1633686999999995, 4.9391852, 4.989247599999999, 4.7609285, 5.213527500000001]\n",
    "[5.016166300000002, 4.830162900000001, 4.7145829999999975, 4.778973199999996, 5.4725702]\n",
    "(siehe Zu1011function.py, compare_mean).\n",
    "\n",
    "Schluss: Es scheint keine Rolle zu spielen, welche Funktion verwendet wird."
   ]
  },
  {
   "cell_type": "markdown",
   "metadata": {},
   "source": [
    "**Korrelation:** Hier soll untersucht werden, ob die Korrelation von Hand oder mit pandas berechnet werden soll."
   ]
  },
  {
   "cell_type": "code",
   "execution_count": 41,
   "metadata": {},
   "outputs": [],
   "source": [
    "def correlation_with_sums(x, y):\n",
    "    n = len(x)\n",
    "    mean_x = x.mean()\n",
    "    mean_y = y.mean()\n",
    "    x_i_minus_mean_x = [x_i - mean_x for x_i in x]\n",
    "    y_i_minus_mean_y = [y_i - mean_y for y_i in y]\n",
    "\n",
    "    cov_without_den = sum([x_i_minus_mean_x[i]*y_i_minus_mean_y[i] for i in range(n)])\n",
    "\n",
    "    std_dev_x = sum([el**2 for el in x_i_minus_mean_x])\n",
    "    std_dev_y = sum([el**2 for el in y_i_minus_mean_y])\n",
    "\n",
    "    return cov_without_den/((std_dev_x* std_dev_y)**0.5)"
   ]
  },
  {
   "cell_type": "code",
   "execution_count": 42,
   "metadata": {},
   "outputs": [
    {
     "data": {
      "text/plain": [
       "0.648176449402253"
      ]
     },
     "execution_count": 42,
     "metadata": {},
     "output_type": "execute_result"
    }
   ],
   "source": [
    "correlation_with_sums(gewicht, wochen)"
   ]
  },
  {
   "cell_type": "code",
   "execution_count": 45,
   "metadata": {},
   "outputs": [
    {
     "data": {
      "text/plain": [
       "0.648176449402253"
      ]
     },
     "execution_count": 45,
     "metadata": {},
     "output_type": "execute_result"
    }
   ],
   "source": [
    "from charts import r_value\n",
    "r_value(animal_table, \"Gewicht\", \"Wochen\")"
   ]
  },
  {
   "cell_type": "code",
   "execution_count": 65,
   "metadata": {},
   "outputs": [],
   "source": [
    "def correlation_with_sums(table, col1, col2):\n",
    "    x= table[col1]\n",
    "    y=table[col2]\n",
    "    n = len(x)\n",
    "    mean_x = x.mean()\n",
    "    mean_y = y.mean()\n",
    "    x_i_minus_mean_x = [x_i - mean_x for x_i in x]\n",
    "    y_i_minus_mean_y = [y_i - mean_y for y_i in y]\n",
    "\n",
    "    cov_without_den = sum([x_i_minus_mean_x[i]*y_i_minus_mean_y[i] for i in range(n)])\n",
    "\n",
    "    std_dev_x = sum([el**2 for el in x_i_minus_mean_x])\n",
    "    std_dev_y = sum([el**2 for el in y_i_minus_mean_y])\n",
    "\n",
    "    return cov_without_den/((std_dev_x* std_dev_y)**0.5)"
   ]
  },
  {
   "cell_type": "code",
   "execution_count": 66,
   "metadata": {},
   "outputs": [
    {
     "data": {
      "text/plain": [
       "0.648176449402253"
      ]
     },
     "execution_count": 66,
     "metadata": {},
     "output_type": "execute_result"
    }
   ],
   "source": [
    "correlation_with_sums(animal_table, \"Gewicht\", \"Wochen\")"
   ]
  },
  {
   "cell_type": "markdown",
   "metadata": {},
   "source": [
    "Ein Vergleich der beiden Korrelationsfunktionen-Funktionen ergab folgendes:\n",
    "[19.847672300000003, 20.342938, 20.3154167, 20.842778199999998, 20.33035629999999]\n",
    "[26.916647399999988, 27.41866810000002, 27.347218800000007, 26.021781199999992, 25.664112499999987]\n",
    "(siehe Zu1011function.py, compare_corr).\n",
    "\n",
    "Schluss: Die Funktion r_value in charts, welche eine Tablle aus den beiden Spalten von Interesse bastelt und dann die corr-Funktion von pandas verwendet ist etwa 20% schneller als die Funktion correlation_with_sums, welche den Korrelationskoeffizienten mit der Formel mit Hilfe von Summen und List Comprehensions berechenet.\n",
    "Der Vorteil von correlation_with_sums könnte aber sein, dass, falls die Regressionsgerade mit Hilfe der Formel berechnet wird, Teile der Berechnung der Steigung m sowieso für die Berechnung von r benötigt werden. Zudem ist eine Abhängigkeit von pandas weniger."
   ]
  }
 ],
 "metadata": {
  "interpreter": {
   "hash": "26130839a7e87fd59e038942810dbb4909e5232b32b1ad521e6a6bc3043702c6"
  },
  "kernelspec": {
   "display_name": "Python 3.8.11 64-bit ('base': conda)",
   "name": "python3"
  },
  "language_info": {
   "codemirror_mode": {
    "name": "ipython",
    "version": 3
   },
   "file_extension": ".py",
   "mimetype": "text/x-python",
   "name": "python",
   "nbconvert_exporter": "python",
   "pygments_lexer": "ipython3",
   "version": "3.8.11"
  },
  "orig_nbformat": 4
 },
 "nbformat": 4,
 "nbformat_minor": 2
}
