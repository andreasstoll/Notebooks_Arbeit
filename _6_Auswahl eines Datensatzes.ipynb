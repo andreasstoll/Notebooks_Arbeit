{
 "cells": [
  {
   "cell_type": "markdown",
   "metadata": {},
   "source": [
    "# Auswahl eines Datensatzes\n",
    "\n"
   ]
  },
  {
   "cell_type": "markdown",
   "metadata": {},
   "source": [
    "## Lernziele\n",
    "\n",
    "* Die Schüler:innen wählen einen eigenen Datensatz aus, den sie in den Folgekapiteln bearbeiten\n",
    "* Die Schüler:innen lernen den Datenzyklus kennen\n"
   ]
  },
  {
   "cell_type": "markdown",
   "metadata": {},
   "source": [
    "## Der Datenzyklus\n",
    "\n",
    "Im ersten Schritt werden laut diesem Datenzyklus Fragen gestellt, welche statistisch und mit Daten beantworten werden können. \n",
    "Im zweiten Schritt werden die Daten gesammelt, so dass ein Datensatz entsteht, der den Bedürfnissen entspricht.\n",
    "Im dritten Schritt werden die Daten analysiert, indem Visualisierungen erstellt werden um Verhältnisse aufzuzeigen.\n",
    "Im letzten Schritt werden die Daten interpretiert und zusammengefasst, was dann wiederum zu Fragen führen kann, welche in einem nächsten Zyklus beantwortet werden.\n",
    "\n",
    "<img src=\"Images/Datenzyklus.png\">\n"
   ]
  },
  {
   "cell_type": "markdown",
   "metadata": {},
   "source": [
    "## Auswahl der Daten\n",
    "\n",
    "Wählen sie einen der Datensätze im Ordner Datensätze aus. Sie können auch einen eigenen Datensatz wählen.\n"
   ]
  },
  {
   "cell_type": "markdown",
   "metadata": {},
   "source": []
  },
  {
   "cell_type": "markdown",
   "metadata": {},
   "source": []
  }
 ],
 "metadata": {
  "language_info": {
   "name": "python"
  },
  "orig_nbformat": 4
 },
 "nbformat": 4,
 "nbformat_minor": 2
}
