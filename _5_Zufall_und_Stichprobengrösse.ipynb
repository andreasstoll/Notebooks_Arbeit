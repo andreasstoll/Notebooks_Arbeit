{
 "cells": [
  {
   "cell_type": "markdown",
   "metadata": {},
   "source": [
    "# Zufall und Stichprobengrösse\n",
    "\n"
   ]
  },
  {
   "cell_type": "markdown",
   "metadata": {},
   "source": [
    "**Einstiegsfragen**\n",
    "Von einer Klasse kenne ich 4 Personen mit den folgenden Merkmalen:\n",
    "\n",
    "\n",
    "**Gruppenarbeit**\n",
    "\n",
    "Nachdem diese erste Antwort bekannt ist, wie würde sie die Klasse beschreiben?\n",
    "\n"
   ]
  },
  {
   "cell_type": "markdown",
   "metadata": {},
   "source": [
    "## Grouped Samples vs. Random Samples\n",
    "\n",
    "Computer Scientists may take samples that are subsets of a data set. If their sample is well chosen,they can use itto testiftheir\n",
    "code does whatit’s supposed to do. However, choosing a good sample can be tricky!\n",
    "Random Samples are a subset of a population in which each member of the subset has an equal chance of being chosen. A random\n",
    "sample is intended to be a representative subset of the population. The larger the random sample,the more closely it will\n",
    "representthe population and the better our inferences aboutthe population willtend to be.\n",
    "Grouped Samples are a subset of a population in which each member of the subset was chosen for a specific reason. For example,\n",
    "we might wantto look atthe difference in trends between two groups (\"Is the age of a dog a bigger factor in adoption time v.the\n",
    "age of a cat?\"). This would require making grouped samples of just the dogs and just the cats.\n"
   ]
  },
  {
   "cell_type": "markdown",
   "metadata": {},
   "source": [
    "## Wahrscheinlichkeit und Inferenz\n",
    "Als Wahrscheinlichkeit wird in der Mathematik die Sicherheit bezeichnet, dass ein Resultat eintrifft. So kann man zum Beispiel ausrechnen, dass wenn man eine Gruppe von 50 Katzen und 50 Hunden hat, wie wahrscheinlich es ist, dass wenn man eine gewisse Anzahl Tiere zufälligerweise auswählt, es nur Katzen hat.\n",
    "\n",
    "Die Wahrscheinlichkeit beträgt bei nur einem Tier 50%, da man ja entweder eine Katze oder einen Hund wählt.\n",
    "\n",
    "Die Wahrscheinlichkeit, wenn man zwei Tiere nimmt, beträgt ca. 25%.\n",
    "\n",
    "Die Wahrscheinlichkeit beträgt bei 10 Tieren 0.06%, es ist also sehr unwahrscheinlich, wenn man 10 Tiere zufällig auswählt, dass es dann nur Katzen sind."
   ]
  },
  {
   "cell_type": "markdown",
   "metadata": {},
   "source": [
    "Das Pendant zur Wahrscheinlichkeit ist die Inferenz. Die Inferenz besagt, wie gut es möglich ist, aus einem Ausschnitt auf eine Gesamtmenge zu schliessen.\n",
    "\n",
    "Wenn man also 10 Tiere vor sich hat als Stichprobe einer grösseren Menge."
   ]
  },
  {
   "cell_type": "markdown",
   "metadata": {},
   "source": [
    "Bei Statistischer Inferenz wird eine Stichprobe angeschaut, mit dem Ziel etwas herauszufinden über eine grössere Menge, das noch nicht bekannt ist. Es ist also nötig einen Rückschluss zu ziehen, wie wenn man ein Resultat beobachten kann und daraus versucht zu schliessen, was wohl die Ursache ist.\n",
    "\n",
    "Um den Prozess besser zu verstehen, wie man von einer Stichprobe auf eine Einschätzung der Gesamtmenge kommt, hilft es sich den umgekehrten Prozess vorzustellen, wie es ist eine Stichprobe zu erstellen.\n",
    "\n",
    "Falls die Stichprobe zufällig gewählt wird, nennt man dies Wahrscheinlichkeit.\n",
    "\n",
    "Im echten Leben wissen wir normalerweise nicht, was für eine Gesamte Gruppe gilt. But this probability thought-experiment will start with a larger population with known properties (such as the fact that nearly half of the entire population are males). Then we’ll see what kind of behavior we tend to see in random samples taken from that population."
   ]
  },
  {
   "cell_type": "markdown",
   "metadata": {},
   "source": [
    "### Inferenz denkt rückwärts, Wahrscheinlichkeit denkt vorwärts\n",
    "\n",
    "Etwas vom Nützlichsten in Datenwissenschaften ist es, eine Stichprobe zu verwenden um zu inferieren (erraten), was über eine grössere Gruppe, von welcher die Stichprobe genommen wurde, ausgesagt werden kann. Dieser Prozess - Statistische Inferenz genannt - wird in praktisch allen Fachrichtungen gebraucht um Informationen zu gewinnen. Ob Medizin, Wirtschaft, Politik, Geschichte oder Kunst, in all diesen Bereichen spielt Statistische Inferenz eine wichtige Rolle.\n",
    "Schon früher haben Statistiker:innen erkannt, dass zufällige Stichproben fast immer am Besten funktionieren.\n",
    "\n",
    "Wenn herausgefunden werden soll, welcher Anteil aller Schweizer:innen für eine gewisse Partei wählen wollen, ist es nicht möglich, alle Bürger:innen zu befragen für wen sie wählen wollen. Daher nehmen Umfrageinstitute eine Stichprobe der Schweizer:innen und schliessen aus diesem Resultat darauf, wie das ganze Land abstimmen würde. Es kann aber natürlich schwierig sein, eine geeignete Stichprobe zu verwenden.\n",
    "\n",
    "Wäre es ein Problem, nur Menschen in der Stadt Bern zu befragen?\n",
    "Wäre es ein Problem, nur Menschen über 65 zu befragen?\n",
    "Wäre es ein Problem, nur Menschen zu befragen, welche in Banken arbeiten?\n",
    "\n",
    "Warum oder warum nicht?\n",
    "\n",
    "Wie könnte man eine represäntative Untergruppe, eine sogenannte Stichprobe von Schweizer:innen erstellen?\n",
    "\n",
    "Wäre es ein Problem, nur eine Handvoll Wähler:innen zu befragen? Was ist der Mehrwert davon, eine grössere Stichprobe zu haben?\n",
    "\n",
    "Bevor wir etwas Unbekanntes mit Hilfe einer Stichprobe über eine grössere Gruppe inferieren, müssen wir wissen, was eine \"gute\" Stichprobe ist.\n",
    "\n",
    "Stichproben zu erstellen ist eine komplexe Arbeit. Der Hauptgrund, aus einer Stichprobe auf eine gesamte Gruppe schliessen zu wollen, ist es, falls man etwas noch unbekanntes erraten will.\n",
    "Während dem Prozess, ist es nützlich, mit Situation zu üben, in welchen bekannt ist, was für die gesamte Gruppe gilt.\n",
    "Als Übung können verschiedene zufällige Stichproben kreiert werden, welche dann darauf getestet werden, wie Nahe man an die Wahrheit kommt.\n",
    "Eine weitere Entdeckung (nebst dem Mehrwert von zufälligen Stichproben), welche Statistiker:innen früh erkannt haben, welche mit gesundem Menschenverstand gut erklärbar ist: Grössere Stichproben sind besser als kleinere Stichproben, weil sie uns näher an die Wahrheit über die gesamte Gruppe bringen.\n",
    "\n",
    "Im folgenden wird verglichen, was geschieht, wenn von kleinen zu grossen Stichproben gewechselt wird, wenn es darum geht, aus einer zufälligen Stichprobe von Tieren auf die Gesamtgruppe von Tieren zu schliessen."
   ]
  },
  {
   "cell_type": "markdown",
   "metadata": {},
   "source": [
    "Der Tierdatensatz, welcher wir bisher gebraucht haben ist nur eine Stichprobe von einer viel grösseren Zahl Tiere in einem Tierheim. Wie viel können wir über die gesamte Gruppe von hunderten von tieren inferieren, indem wir nur diese Stichprobe anschauen?"
   ]
  },
  {
   "cell_type": "markdown",
   "metadata": {},
   "source": [
    "**Gruppenarbeit**\n",
    "\n",
    "\n",
    "Have students complete Sampling and Inference (Page 49), sharing their results and discussing with the group.\n",
    "\n",
    "For a deeper exploration of the impact of sample size, have students complete Predictions from Samples"
   ]
  }
 ],
 "metadata": {
  "language_info": {
   "name": "python"
  },
  "orig_nbformat": 4
 },
 "nbformat": 4,
 "nbformat_minor": 2
}
