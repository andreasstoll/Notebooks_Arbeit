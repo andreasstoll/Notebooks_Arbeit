{
 "cells": [
  {
   "cell_type": "markdown",
   "metadata": {},
   "source": [
    "\n",
    "# Einführung\n",
    "## Lernziele\n",
    "\n",
    "Die Schüler:innen können\n",
    "* die Differenz zwischen kategorialen und quantitativen Daten erklären.\n",
    "* identifizieren, ob es sich bei einer Variable in einem Datensatz um eine kategoriale oder quantitative Variable handelt.\n",
    "\n",
    "## Hypothesen aufstellen\n",
    "\n",
    "Eine **Hypothese** (vom Griechischen bzw. Spätlateinischen hypothesis, wörtlich ‚Unterstellung') ist eine Vermutung, die für bestimmte Zwecke als wahr angenommen wird, bis sie erhärtet oder widerlegt wird. In der Wissenschaft werden Fragestellungen entwickelt und es wird eine Theorie erstellt. Diese theoretischen Hypothesen werden dann praktisch geprüft. Aus den Erkenntnissen werden dann entweder die Hypothesen bestätigt oder *falsifizert*. Daraus können dann neue Fragestellungen entstehen, welche zu neuen Hypothesen führen.\n",
    "\n",
    "**Gruppenarbeit:**\n",
    "\n",
    "Als Einstieg, sollen Sie zu einer der folgenden Fragestellungen Hypothesen aufstellen und diese auch versuchen zu Begründen. Danach sollen Sie entscheiden, welche Daten wohl hilfreich sein könnten um ihre Hypothese entweder zu bestätigen oder zu widerlegen. <br><br>\n",
    "Fügen sie ihre Antworten in die dafür vorgesehenen Textfelder ein.\n",
    "\n",
    "\n",
    "***Mögliche Fragestellungen***\n",
    "\n",
    "Sport:\n",
    "\n",
    "* Haben heutige Eishockeyspieler mehr Ausdauer als frühere?\n",
    "* Wie viel mehr verdienen männliche Fussballspieler als weibliche Fussballspielerinnen?\n",
    "* Wie üblich ist es, dass frühere Athlet:innen an olympischen Spielen später Trainer:innen werden?\n",
    "* Wie viel bringt ein zusätzlicher cm einer Volleyballspielerin?\n",
    "\n",
    "Popkultur:\n",
    "\n",
    "* Wie viele Leute haben den Film gesehen, welcher letztes Jahr den Oscar für den besten Film erhalten hat?\n",
    "* Wer ist beliebter: Solo-Sänge:innen oder Bands?\n",
    "* Werden jüngere Schauspieler:innen besser bezahlt als ältere?\n",
    "* Sind Filme mit einer weiblichen Hauptdarstellerin gleich profitabel wie solche mit einem männlichen Hauptdarsteller?\n",
    "* Erhöht ein Swiss Music Award die Einnahmen?\n",
    "\n",
    "Politik:\n",
    "* Sind die Leute in Staaten mit kürzeren Arbeitszeiten glücklicher?\n",
    "* Reisen Wähler:innen von grünen Parteien weniger mit dem Flugzeug?\n",
    "* Sind Wähler:innen von bürgerlichen Parteien finanziell erfolgreicher?"
   ]
  },
  {
   "cell_type": "markdown",
   "metadata": {},
   "source": [
    "1. Wählen Sie unter *mögliche Fragestellungen* eine Fragestellung aus, die Sie interessiert."
   ]
  },
  {
   "cell_type": "markdown",
   "metadata": {},
   "source": [
    "Ihre Fragestellung: **# Hier kommt Ihre Fragestellung hin.**"
   ]
  },
  {
   "cell_type": "markdown",
   "metadata": {},
   "source": [
    "2. Stellen Sie mindestens zwei Hypothesen für mögliche Antworten auf und erklären Sie warum. Haben alle aus der Gruppe die gleiche Antwort?"
   ]
  },
  {
   "cell_type": "markdown",
   "metadata": {},
   "source": [
    "Ihre Hypothesen: **# Hier kommen Ihre Hypothesen und die Erklärungen dazu hin.**"
   ]
  },
  {
   "cell_type": "markdown",
   "metadata": {},
   "source": [
    "3. Was für Informationen und Daten müssten Sie sammeln um Ihre Fragestellung zu beantworten?"
   ]
  },
  {
   "cell_type": "markdown",
   "metadata": {},
   "source": [
    "Benötigte Informationen: **# Hier kommt Ihre Antwort hin.**"
   ]
  },
  {
   "cell_type": "markdown",
   "metadata": {},
   "source": [
    "## Tierdatensatz\n",
    "\n",
    "Die Tabelle animal_dataset_bc.csv enthält Daten von einem amerikanischen Tierheim. Die aufgelisteten Tiere wurden alle nach einer gewissen Zeit adoptiert. Wir analysieren diesen Datensatz während dieses Kurses. \n",
    "\n",
    "In den nächsten Codezeilen wird der Datensatz mit Hilfe des Python Moduls pandas (https://pandas.pydata.org/pandas-docs/stable/reference/index.html) geöffnet. Die Zeilen müssen Sie hier noch nicht verstehen."
   ]
  },
  {
   "cell_type": "code",
   "execution_count": 3,
   "metadata": {},
   "outputs": [
    {
     "data": {
      "text/html": [
       "<div>\n",
       "<style scoped>\n",
       "    .dataframe tbody tr th:only-of-type {\n",
       "        vertical-align: middle;\n",
       "    }\n",
       "\n",
       "    .dataframe tbody tr th {\n",
       "        vertical-align: top;\n",
       "    }\n",
       "\n",
       "    .dataframe thead th {\n",
       "        text-align: right;\n",
       "    }\n",
       "</style>\n",
       "<table border=\"1\" class=\"dataframe\">\n",
       "  <thead>\n",
       "    <tr style=\"text-align: right;\">\n",
       "      <th></th>\n",
       "      <th>Spezies</th>\n",
       "      <th>Geschlecht</th>\n",
       "      <th>Alter</th>\n",
       "      <th>Steril</th>\n",
       "      <th>Beine</th>\n",
       "      <th>Gewicht</th>\n",
       "      <th>Wochen</th>\n",
       "    </tr>\n",
       "    <tr>\n",
       "      <th>Name</th>\n",
       "      <th></th>\n",
       "      <th></th>\n",
       "      <th></th>\n",
       "      <th></th>\n",
       "      <th></th>\n",
       "      <th></th>\n",
       "      <th></th>\n",
       "    </tr>\n",
       "  </thead>\n",
       "  <tbody>\n",
       "    <tr>\n",
       "      <th>Sasha</th>\n",
       "      <td>Katze</td>\n",
       "      <td>weiblich</td>\n",
       "      <td>1.0</td>\n",
       "      <td>False</td>\n",
       "      <td>4</td>\n",
       "      <td>6.5</td>\n",
       "      <td>3</td>\n",
       "    </tr>\n",
       "    <tr>\n",
       "      <th>Snuffles</th>\n",
       "      <td>Hase</td>\n",
       "      <td>weiblich</td>\n",
       "      <td>3.0</td>\n",
       "      <td>True</td>\n",
       "      <td>4</td>\n",
       "      <td>3.5</td>\n",
       "      <td>8</td>\n",
       "    </tr>\n",
       "    <tr>\n",
       "      <th>Mittens</th>\n",
       "      <td>Katze</td>\n",
       "      <td>weiblich</td>\n",
       "      <td>2.0</td>\n",
       "      <td>True</td>\n",
       "      <td>4</td>\n",
       "      <td>7.4</td>\n",
       "      <td>1</td>\n",
       "    </tr>\n",
       "    <tr>\n",
       "      <th>Sunflower</th>\n",
       "      <td>Katze</td>\n",
       "      <td>weiblich</td>\n",
       "      <td>5.0</td>\n",
       "      <td>True</td>\n",
       "      <td>4</td>\n",
       "      <td>8.1</td>\n",
       "      <td>6</td>\n",
       "    </tr>\n",
       "    <tr>\n",
       "      <th>Felix</th>\n",
       "      <td>Katze</td>\n",
       "      <td>maennlich</td>\n",
       "      <td>16.0</td>\n",
       "      <td>True</td>\n",
       "      <td>4</td>\n",
       "      <td>9.2</td>\n",
       "      <td>5</td>\n",
       "    </tr>\n",
       "    <tr>\n",
       "      <th>Sheba</th>\n",
       "      <td>Katze</td>\n",
       "      <td>weiblich</td>\n",
       "      <td>7.0</td>\n",
       "      <td>True</td>\n",
       "      <td>4</td>\n",
       "      <td>8.4</td>\n",
       "      <td>6</td>\n",
       "    </tr>\n",
       "    <tr>\n",
       "      <th>Billie</th>\n",
       "      <td>Schnecke</td>\n",
       "      <td>hermaphrodit</td>\n",
       "      <td>0.5</td>\n",
       "      <td>False</td>\n",
       "      <td>0</td>\n",
       "      <td>0.1</td>\n",
       "      <td>3</td>\n",
       "    </tr>\n",
       "    <tr>\n",
       "      <th>Snowcone</th>\n",
       "      <td>Katze</td>\n",
       "      <td>weiblich</td>\n",
       "      <td>2.0</td>\n",
       "      <td>True</td>\n",
       "      <td>4</td>\n",
       "      <td>6.5</td>\n",
       "      <td>5</td>\n",
       "    </tr>\n",
       "    <tr>\n",
       "      <th>Wade</th>\n",
       "      <td>Katze</td>\n",
       "      <td>maennlich</td>\n",
       "      <td>1.0</td>\n",
       "      <td>False</td>\n",
       "      <td>4</td>\n",
       "      <td>3.2</td>\n",
       "      <td>1</td>\n",
       "    </tr>\n",
       "    <tr>\n",
       "      <th>Hercules</th>\n",
       "      <td>Katze</td>\n",
       "      <td>maennlich</td>\n",
       "      <td>3.0</td>\n",
       "      <td>False</td>\n",
       "      <td>4</td>\n",
       "      <td>13.4</td>\n",
       "      <td>2</td>\n",
       "    </tr>\n",
       "    <tr>\n",
       "      <th>Toggle</th>\n",
       "      <td>Hund</td>\n",
       "      <td>weiblich</td>\n",
       "      <td>3.0</td>\n",
       "      <td>True</td>\n",
       "      <td>4</td>\n",
       "      <td>48.0</td>\n",
       "      <td>1</td>\n",
       "    </tr>\n",
       "    <tr>\n",
       "      <th>Boo-boo</th>\n",
       "      <td>Hund</td>\n",
       "      <td>maennlich</td>\n",
       "      <td>11.0</td>\n",
       "      <td>True</td>\n",
       "      <td>4</td>\n",
       "      <td>123.0</td>\n",
       "      <td>24</td>\n",
       "    </tr>\n",
       "    <tr>\n",
       "      <th>Fritz</th>\n",
       "      <td>Hund</td>\n",
       "      <td>maennlich</td>\n",
       "      <td>4.0</td>\n",
       "      <td>True</td>\n",
       "      <td>4</td>\n",
       "      <td>92.0</td>\n",
       "      <td>3</td>\n",
       "    </tr>\n",
       "    <tr>\n",
       "      <th>Midnight</th>\n",
       "      <td>Hund</td>\n",
       "      <td>weiblich</td>\n",
       "      <td>5.0</td>\n",
       "      <td>False</td>\n",
       "      <td>4</td>\n",
       "      <td>112.0</td>\n",
       "      <td>4</td>\n",
       "    </tr>\n",
       "    <tr>\n",
       "      <th>Rex</th>\n",
       "      <td>Hund</td>\n",
       "      <td>maennlich</td>\n",
       "      <td>1.0</td>\n",
       "      <td>False</td>\n",
       "      <td>4</td>\n",
       "      <td>28.9</td>\n",
       "      <td>9</td>\n",
       "    </tr>\n",
       "    <tr>\n",
       "      <th>Gir</th>\n",
       "      <td>Hund</td>\n",
       "      <td>maennlich</td>\n",
       "      <td>8.0</td>\n",
       "      <td>False</td>\n",
       "      <td>4</td>\n",
       "      <td>88.0</td>\n",
       "      <td>5</td>\n",
       "    </tr>\n",
       "    <tr>\n",
       "      <th>Max</th>\n",
       "      <td>Hund</td>\n",
       "      <td>maennlich</td>\n",
       "      <td>3.0</td>\n",
       "      <td>False</td>\n",
       "      <td>4</td>\n",
       "      <td>52.8</td>\n",
       "      <td>8</td>\n",
       "    </tr>\n",
       "    <tr>\n",
       "      <th>Nori</th>\n",
       "      <td>Hund</td>\n",
       "      <td>weiblich</td>\n",
       "      <td>3.0</td>\n",
       "      <td>True</td>\n",
       "      <td>4</td>\n",
       "      <td>35.3</td>\n",
       "      <td>1</td>\n",
       "    </tr>\n",
       "    <tr>\n",
       "      <th>Mr. Peanutbutter</th>\n",
       "      <td>Hund</td>\n",
       "      <td>maennlich</td>\n",
       "      <td>10.0</td>\n",
       "      <td>False</td>\n",
       "      <td>4</td>\n",
       "      <td>161.0</td>\n",
       "      <td>6</td>\n",
       "    </tr>\n",
       "    <tr>\n",
       "      <th>Lucky</th>\n",
       "      <td>Hund</td>\n",
       "      <td>maennlich</td>\n",
       "      <td>3.0</td>\n",
       "      <td>True</td>\n",
       "      <td>3</td>\n",
       "      <td>45.4</td>\n",
       "      <td>9</td>\n",
       "    </tr>\n",
       "    <tr>\n",
       "      <th>Kujo</th>\n",
       "      <td>Hund</td>\n",
       "      <td>maennlich</td>\n",
       "      <td>8.0</td>\n",
       "      <td>False</td>\n",
       "      <td>4</td>\n",
       "      <td>172.0</td>\n",
       "      <td>30</td>\n",
       "    </tr>\n",
       "    <tr>\n",
       "      <th>Buddy</th>\n",
       "      <td>Echse</td>\n",
       "      <td>maennlich</td>\n",
       "      <td>2.0</td>\n",
       "      <td>False</td>\n",
       "      <td>4</td>\n",
       "      <td>0.3</td>\n",
       "      <td>3</td>\n",
       "    </tr>\n",
       "    <tr>\n",
       "      <th>Gila</th>\n",
       "      <td>Echse</td>\n",
       "      <td>weiblich</td>\n",
       "      <td>3.0</td>\n",
       "      <td>True</td>\n",
       "      <td>4</td>\n",
       "      <td>1.2</td>\n",
       "      <td>4</td>\n",
       "    </tr>\n",
       "    <tr>\n",
       "      <th>Bo</th>\n",
       "      <td>Hund</td>\n",
       "      <td>maennlich</td>\n",
       "      <td>8.0</td>\n",
       "      <td>True</td>\n",
       "      <td>4</td>\n",
       "      <td>76.1</td>\n",
       "      <td>10</td>\n",
       "    </tr>\n",
       "    <tr>\n",
       "      <th>Nibblet</th>\n",
       "      <td>Hase</td>\n",
       "      <td>maennlich</td>\n",
       "      <td>6.0</td>\n",
       "      <td>False</td>\n",
       "      <td>4</td>\n",
       "      <td>4.3</td>\n",
       "      <td>2</td>\n",
       "    </tr>\n",
       "    <tr>\n",
       "      <th>Snuggles</th>\n",
       "      <td>Tarantel</td>\n",
       "      <td>weiblich</td>\n",
       "      <td>2.0</td>\n",
       "      <td>False</td>\n",
       "      <td>8</td>\n",
       "      <td>0.1</td>\n",
       "      <td>1</td>\n",
       "    </tr>\n",
       "    <tr>\n",
       "      <th>Daisy</th>\n",
       "      <td>Hund</td>\n",
       "      <td>weiblich</td>\n",
       "      <td>5.0</td>\n",
       "      <td>True</td>\n",
       "      <td>4</td>\n",
       "      <td>68.0</td>\n",
       "      <td>8</td>\n",
       "    </tr>\n",
       "    <tr>\n",
       "      <th>Ada</th>\n",
       "      <td>Hund</td>\n",
       "      <td>weiblich</td>\n",
       "      <td>2.0</td>\n",
       "      <td>True</td>\n",
       "      <td>4</td>\n",
       "      <td>32.0</td>\n",
       "      <td>3</td>\n",
       "    </tr>\n",
       "    <tr>\n",
       "      <th>Miaulis</th>\n",
       "      <td>Katze</td>\n",
       "      <td>maennlich</td>\n",
       "      <td>7.0</td>\n",
       "      <td>False</td>\n",
       "      <td>4</td>\n",
       "      <td>8.8</td>\n",
       "      <td>4</td>\n",
       "    </tr>\n",
       "    <tr>\n",
       "      <th>Heathcliff</th>\n",
       "      <td>Katze</td>\n",
       "      <td>maennlich</td>\n",
       "      <td>1.0</td>\n",
       "      <td>True</td>\n",
       "      <td>4</td>\n",
       "      <td>2.1</td>\n",
       "      <td>2</td>\n",
       "    </tr>\n",
       "    <tr>\n",
       "      <th>Tinkles</th>\n",
       "      <td>Katze</td>\n",
       "      <td>weiblich</td>\n",
       "      <td>1.0</td>\n",
       "      <td>True</td>\n",
       "      <td>4</td>\n",
       "      <td>1.7</td>\n",
       "      <td>3</td>\n",
       "    </tr>\n",
       "    <tr>\n",
       "      <th>Maple</th>\n",
       "      <td>Hund</td>\n",
       "      <td>weiblich</td>\n",
       "      <td>3.0</td>\n",
       "      <td>True</td>\n",
       "      <td>4</td>\n",
       "      <td>51.6</td>\n",
       "      <td>4</td>\n",
       "    </tr>\n",
       "  </tbody>\n",
       "</table>\n",
       "</div>"
      ],
      "text/plain": [
       "                   Spezies    Geschlecht  Alter  Steril  Beine  Gewicht  \\\n",
       "Name                                                                      \n",
       "Sasha                Katze      weiblich    1.0   False      4      6.5   \n",
       "Snuffles              Hase      weiblich    3.0    True      4      3.5   \n",
       "Mittens              Katze      weiblich    2.0    True      4      7.4   \n",
       "Sunflower            Katze      weiblich    5.0    True      4      8.1   \n",
       "Felix                Katze     maennlich   16.0    True      4      9.2   \n",
       "Sheba                Katze      weiblich    7.0    True      4      8.4   \n",
       "Billie            Schnecke  hermaphrodit    0.5   False      0      0.1   \n",
       "Snowcone             Katze      weiblich    2.0    True      4      6.5   \n",
       "Wade                 Katze     maennlich    1.0   False      4      3.2   \n",
       "Hercules             Katze     maennlich    3.0   False      4     13.4   \n",
       "Toggle                Hund      weiblich    3.0    True      4     48.0   \n",
       "Boo-boo               Hund     maennlich   11.0    True      4    123.0   \n",
       "Fritz                 Hund     maennlich    4.0    True      4     92.0   \n",
       "Midnight              Hund      weiblich    5.0   False      4    112.0   \n",
       "Rex                   Hund     maennlich    1.0   False      4     28.9   \n",
       "Gir                   Hund     maennlich    8.0   False      4     88.0   \n",
       "Max                   Hund     maennlich    3.0   False      4     52.8   \n",
       "Nori                  Hund      weiblich    3.0    True      4     35.3   \n",
       "Mr. Peanutbutter      Hund     maennlich   10.0   False      4    161.0   \n",
       "Lucky                 Hund     maennlich    3.0    True      3     45.4   \n",
       "Kujo                  Hund     maennlich    8.0   False      4    172.0   \n",
       "Buddy                Echse     maennlich    2.0   False      4      0.3   \n",
       "Gila                 Echse      weiblich    3.0    True      4      1.2   \n",
       "Bo                    Hund     maennlich    8.0    True      4     76.1   \n",
       "Nibblet               Hase     maennlich    6.0   False      4      4.3   \n",
       "Snuggles          Tarantel      weiblich    2.0   False      8      0.1   \n",
       "Daisy                 Hund      weiblich    5.0    True      4     68.0   \n",
       "Ada                   Hund      weiblich    2.0    True      4     32.0   \n",
       "Miaulis              Katze     maennlich    7.0   False      4      8.8   \n",
       "Heathcliff           Katze     maennlich    1.0    True      4      2.1   \n",
       "Tinkles              Katze      weiblich    1.0    True      4      1.7   \n",
       "Maple                 Hund      weiblich    3.0    True      4     51.6   \n",
       "\n",
       "                  Wochen  \n",
       "Name                      \n",
       "Sasha                  3  \n",
       "Snuffles               8  \n",
       "Mittens                1  \n",
       "Sunflower              6  \n",
       "Felix                  5  \n",
       "Sheba                  6  \n",
       "Billie                 3  \n",
       "Snowcone               5  \n",
       "Wade                   1  \n",
       "Hercules               2  \n",
       "Toggle                 1  \n",
       "Boo-boo               24  \n",
       "Fritz                  3  \n",
       "Midnight               4  \n",
       "Rex                    9  \n",
       "Gir                    5  \n",
       "Max                    8  \n",
       "Nori                   1  \n",
       "Mr. Peanutbutter       6  \n",
       "Lucky                  9  \n",
       "Kujo                  30  \n",
       "Buddy                  3  \n",
       "Gila                   4  \n",
       "Bo                    10  \n",
       "Nibblet                2  \n",
       "Snuggles               1  \n",
       "Daisy                  8  \n",
       "Ada                    3  \n",
       "Miaulis                4  \n",
       "Heathcliff             2  \n",
       "Tinkles                3  \n",
       "Maple                  4  "
      ]
     },
     "execution_count": 3,
     "metadata": {},
     "output_type": "execute_result"
    }
   ],
   "source": [
    "import pandas as pd #Importiert das Modul pandas unter dem Namen pd\n",
    "datei_name = \"animal_dataset_bc.csv\" # Name der Datei\n",
    "animal_table = pd.read_csv(datei_name,\n",
    "                        header=0,\n",
    "                        names=[\"Name\", \"Spezies\", \"Geschlecht\", \"Alter\", \"Steril\", \"Beine\", \"Gewicht\", \"Wochen\"], \n",
    "                        index_col=0)\n",
    "\n",
    "animal_table.head(33) # Zeigt alle 33 Zeilen des Tierdatensatzes an."
   ]
  },
  {
   "cell_type": "markdown",
   "metadata": {},
   "source": [
    "**Gruppenarbeit:**\n",
    "1. Was stellen Sie beim Durchschauen des Tierdatensatzes fest? "
   ]
  },
  {
   "cell_type": "markdown",
   "metadata": {},
   "source": [
    "Feststellungen: #Hier kommen Ihre Feststellungen hin."
   ]
  },
  {
   "cell_type": "markdown",
   "metadata": {},
   "source": [
    "2. Manchmal kommen einem beim Betrachten eines Datensatzes Fragen in den Sinn. Was für Fragen würden Sie interessieren? Schreiben Sie diese auf. "
   ]
  },
  {
   "cell_type": "markdown",
   "metadata": {},
   "source": [
    "Fragen: # Hier kommen Ihre Fragen hin."
   ]
  },
  {
   "cell_type": "markdown",
   "metadata": {},
   "source": [
    "## Quantitative und kategoriale Daten\n",
    "**Quantitative Daten** messen etwas oder vergleichen zwei Datenpunkte und zeigen, welcher grösser und welcher kleiner ist. Wenn wir \"wie viel?\" oder \"welches ist mehr?\" wissen wollen, handelt es sich um quantitative Daten. In der Spalte \"Alter\" sind quantitative Daten, wir können zum Beispiel das Alter in Jahre zweier Tiere vergleichen oder ein Durchschnittsalter bestimmen. <br><br>\n",
    "**Kategoriale Daten** sind Daten die Fragen \"von welcher Art?\". Kategoriale Daten werden gebraucht, um einzuteilen und nicht um zu messen. Mit Kategorien kann und soll nicht gerechnet werden.\n",
    "Manchmal ist die Unterscheidung recht schwierig, da sie davon abhängt, wie die Daten gebraucht werden. In der Spalte \"Geschlecht\" sind kategoriale Daten. Es kann gefragt werden, welchem Geschlecht ein bestimmtes Tier angehört. Es macht wenig Sinn ein Durchschnittsgeschlecht zu berechnen oder zu bestimmen, ob eine Katze mehr als ein Hund ist. \n"
   ]
  },
  {
   "cell_type": "markdown",
   "metadata": {},
   "source": [
    "**Einzelarbeit:**\n",
    "\n",
    "1. Geben Sie für die folgenden Daten an, ob sie quantitativ oder kategorial sind.\n"
   ]
  },
  {
   "cell_type": "code",
   "execution_count": 1,
   "metadata": {},
   "outputs": [
    {
     "data": {
      "application/vnd.jupyter.widget-view+json": {
       "model_id": "88d930c697c7400fb255b3cfa4842321",
       "version_major": 2,
       "version_minor": 0
      },
      "text/plain": [
       "VBox(children=(Output(), RadioButtons(options=(('kategorial', 0), ('quantitativ', 1)), value=0), Button(descri…"
      ]
     },
     "metadata": {},
     "output_type": "display_data"
    },
    {
     "data": {
      "application/vnd.jupyter.widget-view+json": {
       "model_id": "2ce76bf7b02f42469f0f9cb8a4cc2e19",
       "version_major": 2,
       "version_minor": 0
      },
      "text/plain": [
       "VBox(children=(Output(), RadioButtons(options=(('kategorial', 0), ('quantitativ', 1)), value=0), Button(descri…"
      ]
     },
     "metadata": {},
     "output_type": "display_data"
    },
    {
     "data": {
      "application/vnd.jupyter.widget-view+json": {
       "model_id": "31a330ee3e82493490ac02c12c5641b1",
       "version_major": 2,
       "version_minor": 0
      },
      "text/plain": [
       "VBox(children=(Output(), RadioButtons(options=(('kategorial', 0), ('quantitativ', 1)), value=0), Button(descri…"
      ]
     },
     "metadata": {},
     "output_type": "display_data"
    },
    {
     "data": {
      "application/vnd.jupyter.widget-view+json": {
       "model_id": "22de3438af18405296e093d314b62dd8",
       "version_major": 2,
       "version_minor": 0
      },
      "text/plain": [
       "VBox(children=(Output(), RadioButtons(options=(('kategorial', 0), ('quantitativ', 1)), value=0), Button(descri…"
      ]
     },
     "metadata": {},
     "output_type": "display_data"
    },
    {
     "data": {
      "application/vnd.jupyter.widget-view+json": {
       "model_id": "79cb2bf64f7e4e83ad8f7a2afecf22d9",
       "version_major": 2,
       "version_minor": 0
      },
      "text/plain": [
       "VBox(children=(Output(), RadioButtons(options=(('kategorial', 0), ('quantitativ', 1)), value=0), Button(descri…"
      ]
     },
     "metadata": {},
     "output_type": "display_data"
    },
    {
     "data": {
      "application/vnd.jupyter.widget-view+json": {
       "model_id": "a0b5579bcf1644f3b985bdcfa3bb1b50",
       "version_major": 2,
       "version_minor": 0
      },
      "text/plain": [
       "VBox(children=(Output(), RadioButtons(options=(('kategorial', 0), ('quantitativ', 1)), value=0), Button(descri…"
      ]
     },
     "metadata": {},
     "output_type": "display_data"
    }
   ],
   "source": [
    "from fragen import *\n",
    "\n",
    "fragen1a()"
   ]
  },
  {
   "cell_type": "markdown",
   "metadata": {},
   "source": [
    "2. Nennen Sie für jeden Typ je ein weiteres Beispiel."
   ]
  },
  {
   "cell_type": "markdown",
   "metadata": {},
   "source": [
    "Quantitativ: #Hier kommt Ihr Beispiel hin. <br><br>\n",
    "Kategorial: #Hier kommt Ihr Beispiel hin."
   ]
  },
  {
   "cell_type": "markdown",
   "metadata": {},
   "source": [
    "3. Was kann man wohl mit quantitativen Daten machen, was man mit kategorialen nicht kann? "
   ]
  },
  {
   "cell_type": "markdown",
   "metadata": {},
   "source": [
    "Antwort: #Hier kommt Ihre Antwort hin."
   ]
  },
  {
   "cell_type": "markdown",
   "metadata": {},
   "source": [
    "## Fragentypen\n",
    "\n",
    "Je nach Datentyp und Datenlage, kann man gewisse Fragen beantworten oder nicht. Es gibt verschiedene Arten von Fragen, welche gestellt werden können.\n",
    "\n",
    "Es werden die folgenden Fragetypen unterschieden:\n",
    "\n",
    "* Nachschau-Fragen: Diese Fragen können beantwortet werden, indem ein einziger Wert in der Tabelle nachgeschaut wird. Zum Beispiel könnte man bei Tierdatensatz fragen: \"Wie alt ist Wade?\"\n",
    "* Berechnungsfragen: Können durch eine Berechnung entlang einer Spalte beantwortet werden. Zum Beispiel: \"Welches ist das schwerste Tier?\" oder \"Wie viele Tiere haben 4 Beine?\"\n",
    "* Zusammenhangsfragen: Bei diesen Fragen müssen mehrere Spalten angeschaut werden. Zum Beispiel \"Haben Weibchen eher Vornamen mit einem A?\"\n",
    "* Nicht beantwortbare Fragen: Fragen, die mit dem vorliegenden Datensatz nicht beantwortet werden können. Zum Beispiel: \"Gehen Weibchen lieber spazieren als Männchen?\"\n"
   ]
  },
  {
   "cell_type": "markdown",
   "metadata": {},
   "source": [
    "**Gruppenarbeit:**\n",
    "\n",
    "1. Überlegen Sie sich zu jedem Fragentyp eine Frage zum Tierdatensatz. "
   ]
  },
  {
   "cell_type": "markdown",
   "metadata": {},
   "source": [
    "Fragen: #Hier kommen Ihre Fragen hin."
   ]
  },
  {
   "cell_type": "markdown",
   "metadata": {},
   "source": [
    "2. Überlegen Sie sich zu jedem Fragentyp eine Frage, die sich nicht auf den Datensatz bezieht. Wie würden Sie zur Beantwortung vorgehen? Welche Daten würden Sie sammeln? "
   ]
  },
  {
   "cell_type": "markdown",
   "metadata": {},
   "source": [
    "Fragen: #Hier kommen Ihre Fragen hin."
   ]
  },
  {
   "cell_type": "markdown",
   "metadata": {},
   "source": [
    "## Abschlussquiz\n",
    "\n",
    "Für das Abschlussquiz führen Sie bitten den folgenden Code aus."
   ]
  },
  {
   "cell_type": "code",
   "execution_count": null,
   "metadata": {},
   "outputs": [],
   "source": [
    "from fragen import *\n",
    "\n",
    "fragen1()"
   ]
  }
 ],
 "metadata": {
  "interpreter": {
   "hash": "4a9e138c43a4d59dd7e6a85b2bbf6fb769953cd97aace1c2f4b3fdd0d4d9c6a6"
  },
  "kernelspec": {
   "display_name": "Python 3.9.7 64-bit (windows store)",
   "name": "python3"
  },
  "language_info": {
   "codemirror_mode": {
    "name": "ipython",
    "version": 3
   },
   "file_extension": ".py",
   "mimetype": "text/x-python",
   "name": "python",
   "nbconvert_exporter": "python",
   "pygments_lexer": "ipython3",
   "version": "3.8.11"
  },
  "orig_nbformat": 4
 },
 "nbformat": 4,
 "nbformat_minor": 2
}
