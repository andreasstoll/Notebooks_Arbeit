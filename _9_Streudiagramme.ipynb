{
 "cells": [
  {
   "cell_type": "markdown",
   "metadata": {},
   "source": [
    "# Streudiagramme \n",
    "\n",
    "## Lernziele\n",
    "\n",
    "Die Schüler:innen \n",
    "* sind sich der erklärenden und erkärten Rolle von Variablen bewusst.\n",
    "* können Streudiagramme von Hand und mit Python erstellen.\n",
    "* können mögliche lineare Zusammenhänge beim Betrachten einer Punktwolke erkennen.\n",
    "* beachten Ausreisser in einem Streudiagramm.\n",
    "\n",
    "## Zusammenhang zwischen Spalten\n",
    "\n",
    "Könnte es sein, dass das Gewicht eines Tieres erklärt, warum dieses schneller adoptiert wird? Oder gibt es andere Fakroren, die die Zeit bis zur Adoption erklären? Wir könnten die folgende erste Hypothese aufstellen:\n",
    "\n",
    "**Hypothese 1:** Leichte Tiere werden schneller adoptiert.\n",
    "\n",
    "Eine Begründung könnte sein, dass kleinere Tiere einfacher im Unterhalt und \"niedlicher\" sind. Dies ist vorerst eine reine Behauptung. \n",
    "\n",
    "Wie könnten wir diese Hypothese testen? Kuchen- und Balkendiagramme zeigen uns die absoluten oder relativen Häufigkeiten in einer katergorialen Spalte. Histogramme zeigen uns die Form von Daten. Leider zeigt uns aber kein Diagramm den Zusammenhang zwischen **zwei** Variablen.\n",
    "\n",
    "\n",
    "\n"
   ]
  },
  {
   "cell_type": "markdown",
   "metadata": {},
   "source": [
    "**Partnerarbeit:** Hier soll wieder der Tierdatensatz animal_table betrachtet werden:"
   ]
  },
  {
   "cell_type": "code",
   "execution_count": 1,
   "metadata": {},
   "outputs": [],
   "source": [
    "import pandas as pd \n",
    "from charts import histogram\n",
    "datei_name = \"animal_dataset_bc.csv\"\n",
    "animal_table = pd.read_csv(datei_name,\n",
    "                        header=0,\n",
    "                        names=[\"Name\", \"Spezies\", \"Geschlecht\", \"Alter\", \"Steril\", \"Beine\", \"Gewicht\", \"Wochen\"], \n",
    "                        index_col=0)\n"
   ]
  },
  {
   "cell_type": "markdown",
   "metadata": {},
   "source": [
    "1. Betrachten Sie den ganzen Tierdatensatz (Sie dürfen filtern, sortieren,...). Würden Sie der Hypothese 1 zustimmen?"
   ]
  },
  {
   "cell_type": "markdown",
   "metadata": {},
   "source": [
    "#Hier kommt Ihre Antwort hin."
   ]
  },
  {
   "cell_type": "code",
   "execution_count": 4,
   "metadata": {},
   "outputs": [],
   "source": [
    "# Hier kommt Ihr Code hin."
   ]
  },
  {
   "cell_type": "markdown",
   "metadata": {},
   "source": [
    "2. Erstellen Sie mindestens eines unserer bisherigen Diagramme (Kuchendiagramm, Balkendiagramm, Histogramm). Liefert eines oder eine Kombination von mehreren Argumente, um die Hypothese zu bestätigen oder zu widerlegen?"
   ]
  },
  {
   "cell_type": "markdown",
   "metadata": {},
   "source": [
    "#Hier kommt Ihre Antwort hin."
   ]
  },
  {
   "cell_type": "code",
   "execution_count": 2,
   "metadata": {},
   "outputs": [],
   "source": [
    "from charts import pie_chart, bar_chart, histogram\n",
    "\n",
    "# Hier kommt Ihr Code hin."
   ]
  },
  {
   "cell_type": "markdown",
   "metadata": {},
   "source": [
    "3. Werden leichte Tiere schneller adoptiert? Stellen Sie eine Hypothese auf, begründen Sie diese und beschreiben Sie auch was Sie genau im Datensatz suchen würden, um Ihre Hypthese zu bestätigen."
   ]
  },
  {
   "cell_type": "markdown",
   "metadata": {},
   "source": [
    "Hypothese: #Ihre Hypothese"
   ]
  },
  {
   "cell_type": "markdown",
   "metadata": {},
   "source": [
    "Begründung: #Ihre Begründung"
   ]
  },
  {
   "cell_type": "markdown",
   "metadata": {},
   "source": [
    "Datensatz: #Was würden Sie im Datensatz suchen, um Ihre Hypothese zu bestätigen."
   ]
  },
  {
   "cell_type": "code",
   "execution_count": 3,
   "metadata": {},
   "outputs": [],
   "source": [
    "# Hier kommt ihr Code zum Ausprobieren hin."
   ]
  },
  {
   "cell_type": "markdown",
   "metadata": {},
   "source": [
    "## Streudiagramme\n",
    "\n",
    "**Einzelarbeit:** Die Hypothese 1 beschäftige sich mit der Frage, ob es einen Zusammenhang zwischen den beiden Variablen \"Gewicht\" und \"Wochen\" gibt.\n",
    "\n",
    "Wie aber genau wäre wohl dieser Zusammenhang? Welche Variable erklärt welche? \n",
    "\n",
    "Erklärt das Gewicht die Adoptionszeit, weil zum Beispiel ein leichtes Gewicht dazu führt, dass die Tiere schneller adoptiert werden?\n",
    "Oder erklärt die Adoptionszeit das Gewicht, weil zum Beispiel adoptierte Tier kurz vor der Adoption Gewicht verlieren?\n",
    "Erklärt also das Gewicht die Zeit bis zur Adoption oder die Zeit bis zur Adoption das Gewicht?\n",
    "\n",
    "Die Formulierung der Hypotese 1 lautet: Leichte Tiere werden schneller adoptiert.\n",
    "\n",
    "Diese behauptet also, dass das Gewicht die Zeit bis zu Adoption erklärt. Die Variable \"Gewicht\" wäre somit die **erklärende Variable** und \"Wochen\" die **erklärte Variable**.\n",
    "\n",
    "Sollen die Tiere als Punkte in einem Koordinatensystem dargestellt werden, müsste also \"Gewicht\" die $x$-Koordinate sein und \"Wochen\" die $y$-Koordinate, da in der Mathematik bei Funktionen typischerweise $y$ von $x$ abhängt und nicht umgekehrt.\n",
    "\n",
    "Hier soll wieder nur ein Teil des Tierdatensatzes betrachtet werden:"
   ]
  },
  {
   "cell_type": "code",
   "execution_count": 4,
   "metadata": {},
   "outputs": [
    {
     "data": {
      "text/html": [
       "<div>\n",
       "<style scoped>\n",
       "    .dataframe tbody tr th:only-of-type {\n",
       "        vertical-align: middle;\n",
       "    }\n",
       "\n",
       "    .dataframe tbody tr th {\n",
       "        vertical-align: top;\n",
       "    }\n",
       "\n",
       "    .dataframe thead th {\n",
       "        text-align: right;\n",
       "    }\n",
       "</style>\n",
       "<table border=\"1\" class=\"dataframe\">\n",
       "  <thead>\n",
       "    <tr style=\"text-align: right;\">\n",
       "      <th></th>\n",
       "      <th>Spezies</th>\n",
       "      <th>Geschlecht</th>\n",
       "      <th>Alter</th>\n",
       "      <th>Steril</th>\n",
       "      <th>Beine</th>\n",
       "      <th>Gewicht</th>\n",
       "      <th>Wochen</th>\n",
       "    </tr>\n",
       "    <tr>\n",
       "      <th>Name</th>\n",
       "      <th></th>\n",
       "      <th></th>\n",
       "      <th></th>\n",
       "      <th></th>\n",
       "      <th></th>\n",
       "      <th></th>\n",
       "      <th></th>\n",
       "    </tr>\n",
       "  </thead>\n",
       "  <tbody>\n",
       "    <tr>\n",
       "      <th>Sasha</th>\n",
       "      <td>Katze</td>\n",
       "      <td>weiblich</td>\n",
       "      <td>1.0</td>\n",
       "      <td>False</td>\n",
       "      <td>4</td>\n",
       "      <td>6.5</td>\n",
       "      <td>3</td>\n",
       "    </tr>\n",
       "    <tr>\n",
       "      <th>Snuffles</th>\n",
       "      <td>Hase</td>\n",
       "      <td>weiblich</td>\n",
       "      <td>3.0</td>\n",
       "      <td>True</td>\n",
       "      <td>4</td>\n",
       "      <td>3.5</td>\n",
       "      <td>8</td>\n",
       "    </tr>\n",
       "    <tr>\n",
       "      <th>Mittens</th>\n",
       "      <td>Katze</td>\n",
       "      <td>weiblich</td>\n",
       "      <td>2.0</td>\n",
       "      <td>True</td>\n",
       "      <td>4</td>\n",
       "      <td>7.4</td>\n",
       "      <td>1</td>\n",
       "    </tr>\n",
       "    <tr>\n",
       "      <th>Sunflower</th>\n",
       "      <td>Katze</td>\n",
       "      <td>weiblich</td>\n",
       "      <td>5.0</td>\n",
       "      <td>True</td>\n",
       "      <td>4</td>\n",
       "      <td>8.1</td>\n",
       "      <td>6</td>\n",
       "    </tr>\n",
       "    <tr>\n",
       "      <th>Felix</th>\n",
       "      <td>Katze</td>\n",
       "      <td>maennlich</td>\n",
       "      <td>16.0</td>\n",
       "      <td>True</td>\n",
       "      <td>4</td>\n",
       "      <td>9.2</td>\n",
       "      <td>5</td>\n",
       "    </tr>\n",
       "    <tr>\n",
       "      <th>Sheba</th>\n",
       "      <td>Katze</td>\n",
       "      <td>weiblich</td>\n",
       "      <td>7.0</td>\n",
       "      <td>True</td>\n",
       "      <td>4</td>\n",
       "      <td>8.4</td>\n",
       "      <td>6</td>\n",
       "    </tr>\n",
       "    <tr>\n",
       "      <th>Billie</th>\n",
       "      <td>Schnecke</td>\n",
       "      <td>hermaphrodit</td>\n",
       "      <td>0.5</td>\n",
       "      <td>False</td>\n",
       "      <td>0</td>\n",
       "      <td>0.1</td>\n",
       "      <td>3</td>\n",
       "    </tr>\n",
       "    <tr>\n",
       "      <th>Snowcone</th>\n",
       "      <td>Katze</td>\n",
       "      <td>weiblich</td>\n",
       "      <td>2.0</td>\n",
       "      <td>True</td>\n",
       "      <td>4</td>\n",
       "      <td>6.5</td>\n",
       "      <td>5</td>\n",
       "    </tr>\n",
       "    <tr>\n",
       "      <th>Wade</th>\n",
       "      <td>Katze</td>\n",
       "      <td>maennlich</td>\n",
       "      <td>1.0</td>\n",
       "      <td>False</td>\n",
       "      <td>4</td>\n",
       "      <td>3.2</td>\n",
       "      <td>1</td>\n",
       "    </tr>\n",
       "    <tr>\n",
       "      <th>Hercules</th>\n",
       "      <td>Katze</td>\n",
       "      <td>maennlich</td>\n",
       "      <td>3.0</td>\n",
       "      <td>False</td>\n",
       "      <td>4</td>\n",
       "      <td>13.4</td>\n",
       "      <td>2</td>\n",
       "    </tr>\n",
       "    <tr>\n",
       "      <th>Toggle</th>\n",
       "      <td>Hund</td>\n",
       "      <td>weiblich</td>\n",
       "      <td>3.0</td>\n",
       "      <td>True</td>\n",
       "      <td>4</td>\n",
       "      <td>48.0</td>\n",
       "      <td>1</td>\n",
       "    </tr>\n",
       "    <tr>\n",
       "      <th>Boo-boo</th>\n",
       "      <td>Hund</td>\n",
       "      <td>maennlich</td>\n",
       "      <td>11.0</td>\n",
       "      <td>True</td>\n",
       "      <td>4</td>\n",
       "      <td>123.0</td>\n",
       "      <td>24</td>\n",
       "    </tr>\n",
       "    <tr>\n",
       "      <th>Fritz</th>\n",
       "      <td>Hund</td>\n",
       "      <td>maennlich</td>\n",
       "      <td>4.0</td>\n",
       "      <td>True</td>\n",
       "      <td>4</td>\n",
       "      <td>92.0</td>\n",
       "      <td>3</td>\n",
       "    </tr>\n",
       "    <tr>\n",
       "      <th>Midnight</th>\n",
       "      <td>Hund</td>\n",
       "      <td>weiblich</td>\n",
       "      <td>5.0</td>\n",
       "      <td>False</td>\n",
       "      <td>4</td>\n",
       "      <td>112.0</td>\n",
       "      <td>4</td>\n",
       "    </tr>\n",
       "    <tr>\n",
       "      <th>Rex</th>\n",
       "      <td>Hund</td>\n",
       "      <td>maennlich</td>\n",
       "      <td>1.0</td>\n",
       "      <td>False</td>\n",
       "      <td>4</td>\n",
       "      <td>28.9</td>\n",
       "      <td>9</td>\n",
       "    </tr>\n",
       "    <tr>\n",
       "      <th>Gir</th>\n",
       "      <td>Hund</td>\n",
       "      <td>maennlich</td>\n",
       "      <td>8.0</td>\n",
       "      <td>False</td>\n",
       "      <td>4</td>\n",
       "      <td>88.0</td>\n",
       "      <td>5</td>\n",
       "    </tr>\n",
       "    <tr>\n",
       "      <th>Max</th>\n",
       "      <td>Hund</td>\n",
       "      <td>maennlich</td>\n",
       "      <td>3.0</td>\n",
       "      <td>False</td>\n",
       "      <td>4</td>\n",
       "      <td>52.8</td>\n",
       "      <td>8</td>\n",
       "    </tr>\n",
       "    <tr>\n",
       "      <th>Nori</th>\n",
       "      <td>Hund</td>\n",
       "      <td>weiblich</td>\n",
       "      <td>3.0</td>\n",
       "      <td>True</td>\n",
       "      <td>4</td>\n",
       "      <td>35.3</td>\n",
       "      <td>1</td>\n",
       "    </tr>\n",
       "    <tr>\n",
       "      <th>Mr. Peanutbutter</th>\n",
       "      <td>Hund</td>\n",
       "      <td>maennlich</td>\n",
       "      <td>10.0</td>\n",
       "      <td>False</td>\n",
       "      <td>4</td>\n",
       "      <td>161.0</td>\n",
       "      <td>6</td>\n",
       "    </tr>\n",
       "    <tr>\n",
       "      <th>Lucky</th>\n",
       "      <td>Hund</td>\n",
       "      <td>maennlich</td>\n",
       "      <td>3.0</td>\n",
       "      <td>True</td>\n",
       "      <td>3</td>\n",
       "      <td>45.4</td>\n",
       "      <td>9</td>\n",
       "    </tr>\n",
       "    <tr>\n",
       "      <th>Kujo</th>\n",
       "      <td>Hund</td>\n",
       "      <td>maennlich</td>\n",
       "      <td>8.0</td>\n",
       "      <td>False</td>\n",
       "      <td>4</td>\n",
       "      <td>172.0</td>\n",
       "      <td>30</td>\n",
       "    </tr>\n",
       "    <tr>\n",
       "      <th>Buddy</th>\n",
       "      <td>Echse</td>\n",
       "      <td>maennlich</td>\n",
       "      <td>2.0</td>\n",
       "      <td>False</td>\n",
       "      <td>4</td>\n",
       "      <td>0.3</td>\n",
       "      <td>3</td>\n",
       "    </tr>\n",
       "    <tr>\n",
       "      <th>Gila</th>\n",
       "      <td>Echse</td>\n",
       "      <td>weiblich</td>\n",
       "      <td>3.0</td>\n",
       "      <td>True</td>\n",
       "      <td>4</td>\n",
       "      <td>1.2</td>\n",
       "      <td>4</td>\n",
       "    </tr>\n",
       "    <tr>\n",
       "      <th>Bo</th>\n",
       "      <td>Hund</td>\n",
       "      <td>maennlich</td>\n",
       "      <td>8.0</td>\n",
       "      <td>True</td>\n",
       "      <td>4</td>\n",
       "      <td>76.1</td>\n",
       "      <td>10</td>\n",
       "    </tr>\n",
       "    <tr>\n",
       "      <th>Nibblet</th>\n",
       "      <td>Hase</td>\n",
       "      <td>maennlich</td>\n",
       "      <td>6.0</td>\n",
       "      <td>False</td>\n",
       "      <td>4</td>\n",
       "      <td>4.3</td>\n",
       "      <td>2</td>\n",
       "    </tr>\n",
       "    <tr>\n",
       "      <th>Snuggles</th>\n",
       "      <td>Tarantel</td>\n",
       "      <td>weiblich</td>\n",
       "      <td>2.0</td>\n",
       "      <td>False</td>\n",
       "      <td>8</td>\n",
       "      <td>0.1</td>\n",
       "      <td>1</td>\n",
       "    </tr>\n",
       "    <tr>\n",
       "      <th>Daisy</th>\n",
       "      <td>Hund</td>\n",
       "      <td>weiblich</td>\n",
       "      <td>5.0</td>\n",
       "      <td>True</td>\n",
       "      <td>4</td>\n",
       "      <td>68.0</td>\n",
       "      <td>8</td>\n",
       "    </tr>\n",
       "    <tr>\n",
       "      <th>Ada</th>\n",
       "      <td>Hund</td>\n",
       "      <td>weiblich</td>\n",
       "      <td>2.0</td>\n",
       "      <td>True</td>\n",
       "      <td>4</td>\n",
       "      <td>32.0</td>\n",
       "      <td>3</td>\n",
       "    </tr>\n",
       "    <tr>\n",
       "      <th>Miaulis</th>\n",
       "      <td>Katze</td>\n",
       "      <td>maennlich</td>\n",
       "      <td>7.0</td>\n",
       "      <td>False</td>\n",
       "      <td>4</td>\n",
       "      <td>8.8</td>\n",
       "      <td>4</td>\n",
       "    </tr>\n",
       "    <tr>\n",
       "      <th>Heathcliff</th>\n",
       "      <td>Katze</td>\n",
       "      <td>maennlich</td>\n",
       "      <td>1.0</td>\n",
       "      <td>True</td>\n",
       "      <td>4</td>\n",
       "      <td>2.1</td>\n",
       "      <td>2</td>\n",
       "    </tr>\n",
       "    <tr>\n",
       "      <th>Tinkles</th>\n",
       "      <td>Katze</td>\n",
       "      <td>weiblich</td>\n",
       "      <td>1.0</td>\n",
       "      <td>True</td>\n",
       "      <td>4</td>\n",
       "      <td>1.7</td>\n",
       "      <td>3</td>\n",
       "    </tr>\n",
       "    <tr>\n",
       "      <th>Maple</th>\n",
       "      <td>Hund</td>\n",
       "      <td>weiblich</td>\n",
       "      <td>3.0</td>\n",
       "      <td>True</td>\n",
       "      <td>4</td>\n",
       "      <td>51.6</td>\n",
       "      <td>4</td>\n",
       "    </tr>\n",
       "  </tbody>\n",
       "</table>\n",
       "</div>"
      ],
      "text/plain": [
       "                   Spezies    Geschlecht  Alter  Steril  Beine  Gewicht  \\\n",
       "Name                                                                      \n",
       "Sasha                Katze      weiblich    1.0   False      4      6.5   \n",
       "Snuffles              Hase      weiblich    3.0    True      4      3.5   \n",
       "Mittens              Katze      weiblich    2.0    True      4      7.4   \n",
       "Sunflower            Katze      weiblich    5.0    True      4      8.1   \n",
       "Felix                Katze     maennlich   16.0    True      4      9.2   \n",
       "Sheba                Katze      weiblich    7.0    True      4      8.4   \n",
       "Billie            Schnecke  hermaphrodit    0.5   False      0      0.1   \n",
       "Snowcone             Katze      weiblich    2.0    True      4      6.5   \n",
       "Wade                 Katze     maennlich    1.0   False      4      3.2   \n",
       "Hercules             Katze     maennlich    3.0   False      4     13.4   \n",
       "Toggle                Hund      weiblich    3.0    True      4     48.0   \n",
       "Boo-boo               Hund     maennlich   11.0    True      4    123.0   \n",
       "Fritz                 Hund     maennlich    4.0    True      4     92.0   \n",
       "Midnight              Hund      weiblich    5.0   False      4    112.0   \n",
       "Rex                   Hund     maennlich    1.0   False      4     28.9   \n",
       "Gir                   Hund     maennlich    8.0   False      4     88.0   \n",
       "Max                   Hund     maennlich    3.0   False      4     52.8   \n",
       "Nori                  Hund      weiblich    3.0    True      4     35.3   \n",
       "Mr. Peanutbutter      Hund     maennlich   10.0   False      4    161.0   \n",
       "Lucky                 Hund     maennlich    3.0    True      3     45.4   \n",
       "Kujo                  Hund     maennlich    8.0   False      4    172.0   \n",
       "Buddy                Echse     maennlich    2.0   False      4      0.3   \n",
       "Gila                 Echse      weiblich    3.0    True      4      1.2   \n",
       "Bo                    Hund     maennlich    8.0    True      4     76.1   \n",
       "Nibblet               Hase     maennlich    6.0   False      4      4.3   \n",
       "Snuggles          Tarantel      weiblich    2.0   False      8      0.1   \n",
       "Daisy                 Hund      weiblich    5.0    True      4     68.0   \n",
       "Ada                   Hund      weiblich    2.0    True      4     32.0   \n",
       "Miaulis              Katze     maennlich    7.0   False      4      8.8   \n",
       "Heathcliff           Katze     maennlich    1.0    True      4      2.1   \n",
       "Tinkles              Katze      weiblich    1.0    True      4      1.7   \n",
       "Maple                 Hund      weiblich    3.0    True      4     51.6   \n",
       "\n",
       "                  Wochen  \n",
       "Name                      \n",
       "Sasha                  3  \n",
       "Snuffles               8  \n",
       "Mittens                1  \n",
       "Sunflower              6  \n",
       "Felix                  5  \n",
       "Sheba                  6  \n",
       "Billie                 3  \n",
       "Snowcone               5  \n",
       "Wade                   1  \n",
       "Hercules               2  \n",
       "Toggle                 1  \n",
       "Boo-boo               24  \n",
       "Fritz                  3  \n",
       "Midnight               4  \n",
       "Rex                    9  \n",
       "Gir                    5  \n",
       "Max                    8  \n",
       "Nori                   1  \n",
       "Mr. Peanutbutter       6  \n",
       "Lucky                  9  \n",
       "Kujo                  30  \n",
       "Buddy                  3  \n",
       "Gila                   4  \n",
       "Bo                    10  \n",
       "Nibblet                2  \n",
       "Snuggles               1  \n",
       "Daisy                  8  \n",
       "Ada                    3  \n",
       "Miaulis                4  \n",
       "Heathcliff             2  \n",
       "Tinkles                3  \n",
       "Maple                  4  "
      ]
     },
     "execution_count": 4,
     "metadata": {},
     "output_type": "execute_result"
    }
   ],
   "source": [
    "animal_table #Noch einmal der ganze Datensatz"
   ]
  },
  {
   "cell_type": "code",
   "execution_count": 8,
   "metadata": {},
   "outputs": [
    {
     "data": {
      "text/html": [
       "<div>\n",
       "<style scoped>\n",
       "    .dataframe tbody tr th:only-of-type {\n",
       "        vertical-align: middle;\n",
       "    }\n",
       "\n",
       "    .dataframe tbody tr th {\n",
       "        vertical-align: top;\n",
       "    }\n",
       "\n",
       "    .dataframe thead th {\n",
       "        text-align: right;\n",
       "    }\n",
       "</style>\n",
       "<table border=\"1\" class=\"dataframe\">\n",
       "  <thead>\n",
       "    <tr style=\"text-align: right;\">\n",
       "      <th></th>\n",
       "      <th>Gewicht</th>\n",
       "      <th>Wochen</th>\n",
       "    </tr>\n",
       "    <tr>\n",
       "      <th>Name</th>\n",
       "      <th></th>\n",
       "      <th></th>\n",
       "    </tr>\n",
       "  </thead>\n",
       "  <tbody>\n",
       "    <tr>\n",
       "      <th>Sasha</th>\n",
       "      <td>6.5</td>\n",
       "      <td>3</td>\n",
       "    </tr>\n",
       "    <tr>\n",
       "      <th>Hercules</th>\n",
       "      <td>13.4</td>\n",
       "      <td>2</td>\n",
       "    </tr>\n",
       "    <tr>\n",
       "      <th>Felix</th>\n",
       "      <td>9.2</td>\n",
       "      <td>5</td>\n",
       "    </tr>\n",
       "    <tr>\n",
       "      <th>Daisy</th>\n",
       "      <td>68.0</td>\n",
       "      <td>8</td>\n",
       "    </tr>\n",
       "    <tr>\n",
       "      <th>Wade</th>\n",
       "      <td>3.2</td>\n",
       "      <td>1</td>\n",
       "    </tr>\n",
       "    <tr>\n",
       "      <th>Nibblet</th>\n",
       "      <td>4.3</td>\n",
       "      <td>2</td>\n",
       "    </tr>\n",
       "    <tr>\n",
       "      <th>Maple</th>\n",
       "      <td>51.6</td>\n",
       "      <td>4</td>\n",
       "    </tr>\n",
       "  </tbody>\n",
       "</table>\n",
       "</div>"
      ],
      "text/plain": [
       "          Gewicht  Wochen\n",
       "Name                     \n",
       "Sasha         6.5       3\n",
       "Hercules     13.4       2\n",
       "Felix         9.2       5\n",
       "Daisy        68.0       8\n",
       "Wade          3.2       1\n",
       "Nibblet       4.3       2\n",
       "Maple        51.6       4"
      ]
     },
     "execution_count": 8,
     "metadata": {},
     "output_type": "execute_result"
    }
   ],
   "source": [
    "new_table = animal_table.loc[[\"Sasha\", \"Hercules\", \"Felix\", \n",
    "                                \"Daisy\", \"Wade\", \"Nibblet\", \"Maple\"]] # Erstellt eine neue Tabelle, die nur aus gewissen Tieren besteht\n",
    "\n",
    "new_table[[\"Gewicht\", \"Wochen\"]] # Zeigt \"Gewicht\" und \"Wochen\" des Teildatensatzes new_table an"
   ]
  },
  {
   "cell_type": "markdown",
   "metadata": {},
   "source": [
    "1. Zeichnen Sie auf einem Blatt 7 Punkte (für jedes Tier) einen. Wählen Sie als $x$-Koordinate das Gewicht und als $y$-Koordinate die Wochen. Eine solche Darstellung wird Streudiagramm (englisch: *scatter plot*) genannt."
   ]
  },
  {
   "cell_type": "markdown",
   "metadata": {},
   "source": [
    "2. Erkennen Sie ein Muster? Zeichnen Sie eine Wolke um die Punkte und eine Gerade, welche die Punkte am besten beschreibt."
   ]
  },
  {
   "cell_type": "markdown",
   "metadata": {},
   "source": [
    "3. Steigt die Gerade oder fällt sie?"
   ]
  },
  {
   "cell_type": "markdown",
   "metadata": {},
   "source": [
    "#Hier kommt Ihre Antwort hin."
   ]
  },
  {
   "cell_type": "markdown",
   "metadata": {},
   "source": [
    "4. Sind die Punkte nah um die Gerade gruppiert oder sind sie weit gestreut?"
   ]
  },
  {
   "cell_type": "markdown",
   "metadata": {},
   "source": [
    "#Hier kommt Ihre Antwort hin."
   ]
  },
  {
   "cell_type": "markdown",
   "metadata": {},
   "source": [
    "5. Erstellen Sie ein Streudiagramm für andere Spalten als \"Alter\" und \"Wochen\" (die ganze Tabelle new_table finden Sie unten). Was beobachten Sie?"
   ]
  },
  {
   "cell_type": "markdown",
   "metadata": {},
   "source": [
    "#Hier kommen Ihre Beobachtungen hin."
   ]
  },
  {
   "cell_type": "code",
   "execution_count": 9,
   "metadata": {},
   "outputs": [
    {
     "data": {
      "text/html": [
       "<div>\n",
       "<style scoped>\n",
       "    .dataframe tbody tr th:only-of-type {\n",
       "        vertical-align: middle;\n",
       "    }\n",
       "\n",
       "    .dataframe tbody tr th {\n",
       "        vertical-align: top;\n",
       "    }\n",
       "\n",
       "    .dataframe thead th {\n",
       "        text-align: right;\n",
       "    }\n",
       "</style>\n",
       "<table border=\"1\" class=\"dataframe\">\n",
       "  <thead>\n",
       "    <tr style=\"text-align: right;\">\n",
       "      <th></th>\n",
       "      <th>Spezies</th>\n",
       "      <th>Geschlecht</th>\n",
       "      <th>Alter</th>\n",
       "      <th>Steril</th>\n",
       "      <th>Beine</th>\n",
       "      <th>Gewicht</th>\n",
       "      <th>Wochen</th>\n",
       "    </tr>\n",
       "    <tr>\n",
       "      <th>Name</th>\n",
       "      <th></th>\n",
       "      <th></th>\n",
       "      <th></th>\n",
       "      <th></th>\n",
       "      <th></th>\n",
       "      <th></th>\n",
       "      <th></th>\n",
       "    </tr>\n",
       "  </thead>\n",
       "  <tbody>\n",
       "    <tr>\n",
       "      <th>Sasha</th>\n",
       "      <td>Katze</td>\n",
       "      <td>weiblich</td>\n",
       "      <td>1.0</td>\n",
       "      <td>False</td>\n",
       "      <td>4</td>\n",
       "      <td>6.5</td>\n",
       "      <td>3</td>\n",
       "    </tr>\n",
       "    <tr>\n",
       "      <th>Hercules</th>\n",
       "      <td>Katze</td>\n",
       "      <td>maennlich</td>\n",
       "      <td>3.0</td>\n",
       "      <td>False</td>\n",
       "      <td>4</td>\n",
       "      <td>13.4</td>\n",
       "      <td>2</td>\n",
       "    </tr>\n",
       "    <tr>\n",
       "      <th>Felix</th>\n",
       "      <td>Katze</td>\n",
       "      <td>maennlich</td>\n",
       "      <td>16.0</td>\n",
       "      <td>True</td>\n",
       "      <td>4</td>\n",
       "      <td>9.2</td>\n",
       "      <td>5</td>\n",
       "    </tr>\n",
       "    <tr>\n",
       "      <th>Daisy</th>\n",
       "      <td>Hund</td>\n",
       "      <td>weiblich</td>\n",
       "      <td>5.0</td>\n",
       "      <td>True</td>\n",
       "      <td>4</td>\n",
       "      <td>68.0</td>\n",
       "      <td>8</td>\n",
       "    </tr>\n",
       "    <tr>\n",
       "      <th>Wade</th>\n",
       "      <td>Katze</td>\n",
       "      <td>maennlich</td>\n",
       "      <td>1.0</td>\n",
       "      <td>False</td>\n",
       "      <td>4</td>\n",
       "      <td>3.2</td>\n",
       "      <td>1</td>\n",
       "    </tr>\n",
       "    <tr>\n",
       "      <th>Nibblet</th>\n",
       "      <td>Hase</td>\n",
       "      <td>maennlich</td>\n",
       "      <td>6.0</td>\n",
       "      <td>False</td>\n",
       "      <td>4</td>\n",
       "      <td>4.3</td>\n",
       "      <td>2</td>\n",
       "    </tr>\n",
       "    <tr>\n",
       "      <th>Maple</th>\n",
       "      <td>Hund</td>\n",
       "      <td>weiblich</td>\n",
       "      <td>3.0</td>\n",
       "      <td>True</td>\n",
       "      <td>4</td>\n",
       "      <td>51.6</td>\n",
       "      <td>4</td>\n",
       "    </tr>\n",
       "  </tbody>\n",
       "</table>\n",
       "</div>"
      ],
      "text/plain": [
       "         Spezies Geschlecht  Alter  Steril  Beine  Gewicht  Wochen\n",
       "Name                                                              \n",
       "Sasha      Katze   weiblich    1.0   False      4      6.5       3\n",
       "Hercules   Katze  maennlich    3.0   False      4     13.4       2\n",
       "Felix      Katze  maennlich   16.0    True      4      9.2       5\n",
       "Daisy       Hund   weiblich    5.0    True      4     68.0       8\n",
       "Wade       Katze  maennlich    1.0   False      4      3.2       1\n",
       "Nibblet     Hase  maennlich    6.0   False      4      4.3       2\n",
       "Maple       Hund   weiblich    3.0    True      4     51.6       4"
      ]
     },
     "execution_count": 9,
     "metadata": {},
     "output_type": "execute_result"
    }
   ],
   "source": [
    "new_table #Der Datensatz new_table mit allen Spalten"
   ]
  },
  {
   "cell_type": "markdown",
   "metadata": {},
   "source": [
    "**Einzelarbeit:** Sie haben sich nur einen Teil des Tierdatensatzes angeschaut. Nun soll wieder der ganze Tierdatensatz betrachtet werden.\n",
    "Unten sehen Sie das Streudiagramm mit \"Gewicht\" als $x$-Komponente und \"Wochen\" als $y$-Komponente."
   ]
  },
  {
   "cell_type": "code",
   "execution_count": 16,
   "metadata": {},
   "outputs": [
    {
     "data": {
      "image/png": "[encoded data removed]",
      "text/plain": [
       "<Figure size 432x288 with 1 Axes>"
      ]
     },
     "metadata": {
      "needs_background": "light"
     },
     "output_type": "display_data"
    }
   ],
   "source": [
    "from charts import scatter_plot\n",
    "\n",
    "scatter_plot(animal_table, \"Gewicht\", \"Wochen\")"
   ]
  },
  {
   "cell_type": "markdown",
   "metadata": {},
   "source": [
    "1. Stellen Sie sich eine Wolke um die Punkte vor. Was für eine Form hat die Wolken?"
   ]
  },
  {
   "cell_type": "markdown",
   "metadata": {},
   "source": [
    "#Hier kommt Ihre Antwort hin."
   ]
  },
  {
   "cell_type": "markdown",
   "metadata": {},
   "source": [
    "2. Scheint die Anzahl Wochen bis zur Adoption mit zunehmendem Gewicht eher zuzunehmen oder abzunehmen?"
   ]
  },
  {
   "cell_type": "markdown",
   "metadata": {},
   "source": [
    "#Hier kommt Ihre Antwort hin."
   ]
  },
  {
   "cell_type": "markdown",
   "metadata": {},
   "source": [
    "3. Gibt es Punkte, die von den restlichen Punkten stark abweichen? Welche?"
   ]
  },
  {
   "cell_type": "markdown",
   "metadata": {},
   "source": [
    "#Hier kommt Ihre Antwort hin."
   ]
  },
  {
   "cell_type": "markdown",
   "metadata": {},
   "source": [
    "4. Stimmt es wohl, dass leichte Tiere schneller adoptiert werden?"
   ]
  },
  {
   "cell_type": "markdown",
   "metadata": {},
   "source": [
    "#Hier kommt Ihre Antwort hin."
   ]
  },
  {
   "cell_type": "markdown",
   "metadata": {},
   "source": [
    "## Ausreisser \n",
    "\n",
    "Wird die Punktewolke ungefähr durch eine Gerade beschrieben, ist dies ein Hinweis, dass zwischen den beiden Variablen einen **linearer Zusammenhang** bestehen könnte. Könnte eine konkrete Gerade angegeben werden (was in diesem Kurs später auch gemacht wird), könnten damit Vorhersagen gemacht werden.\n",
    "Zum Beispiel könnte vorausgesagt werden, wie lange es dauern würde bis ein Hund mit einem Gewicht von 68 Pfund adoptiert wird.\n",
    "\n",
    "Sind gewisse Punkt weit weg von der Hauptpunktewolke wird von **Ausreissern** gesprochen. Diese Ausreisser in Streudiagrammen sind komplizierter als Ausreisser in einem Histogramm, da sie sich aus zwei Komponenten zusammensetzen.\n",
    "\n",
    "Es lohnt sich immer über Ausreisser nachzuenken:\n",
    "* Manchmal sind sie nur zufällig. Mr. Peanutbutter scheint für sein Gewicht sehr schnell adoptiert worden zu sein. Vielleicht hatte er einfach grosses Glück und er ging nur verloren und seine Familie hat in bald wieder im Tierheim gefunden. Hier muss entschieden werden, ob es zulässig wäre, ihm aus dem Datensatz zu enfernent.\n",
    "\n"
   ]
  },
  {
   "cell_type": "code",
   "execution_count": 10,
   "metadata": {},
   "outputs": [
    {
     "data": {
      "text/plain": [
       "Spezies            Hund\n",
       "Geschlecht    maennlich\n",
       "Alter              10.0\n",
       "Steril            False\n",
       "Beine                 4\n",
       "Gewicht           161.0\n",
       "Wochen                6\n",
       "Name: Mr. Peanutbutter, dtype: object"
      ]
     },
     "execution_count": 10,
     "metadata": {},
     "output_type": "execute_result"
    }
   ],
   "source": [
    "animal_table.loc[\"Mr. Peanutbutter\"]"
   ]
  },
  {
   "cell_type": "markdown",
   "metadata": {},
   "source": [
    "* Manchmal ergeben sich aus Ausreissern auch neue Einsichten. So könnte Mr. Peanutbutter auch zu einer spezieller populärer (und schweren) Hunderasse gehören. Dieser Ausreisser würde also einen Hinweis geben, dass in unserem Datensatz eine Spalte für die Rasse fehlt."
   ]
  },
  {
   "cell_type": "markdown",
   "metadata": {},
   "source": [
    "* Manchmal sind die Ausreisser auch genau die Punkte, die interessant sind. Gesucht wird zum Beispiel das Restaurant mit dem besten Preis-Leistungs-Verhältnis oder eine unterbewertete Aktie. Ein Restaurant mit einem guten Preis-Leistungs-Verhältnis wäre zum Beispiel ein Punkt, der weit über den anderen Punkten ist."
   ]
  },
  {
   "cell_type": "markdown",
   "metadata": {},
   "source": [
    "**Einzelarbeit:** Hier sollen die folgenden Zusammenhänge betrachtet werden. Diese sind immer in der Form \"erklärende Variable vs erklärte Variable\" formuliert.\n",
    "\n",
    "Überlegen Sie sich immer zuerst, was Sie erwarten würden, dann erzeugen Sie ein Streudiagramm und schauen, ob Ihre Intuition korrekt war. Schauen Sie jeweils auch, ob es Ausreisser gibt und versuchen Sie diese zu erkären.\n",
    "\n",
    "*Hinweis:* Die Funktion scatter_plot bekommt als Argumente eine Tabelle von Daten (einen Datensatz) und die Namen von zwei Spalten und gibt ein Streudiagramm aus. Die erste der beiden Spalte entspricht der erklärenden Variable, die zweite der erklärten Variablen. <br>\n",
    "Zum Beispiel bekommt scatter_plot(animal_table, \"Gewicht\", \"Wochen\") die Tabelle animal_table und die Spaltennamen \"Gewicht\" (erklärende Variable) und \"Wochen\" (erklärte Variable) als Argumente."
   ]
  },
  {
   "cell_type": "markdown",
   "metadata": {},
   "source": [
    "1. Gewicht vs Alter"
   ]
  },
  {
   "cell_type": "markdown",
   "metadata": {},
   "source": [
    "Erwartungen: #Was würden Sie erwarten?"
   ]
  },
  {
   "cell_type": "code",
   "execution_count": 20,
   "metadata": {},
   "outputs": [],
   "source": [
    "#Ihr Streudiagramm"
   ]
  },
  {
   "cell_type": "markdown",
   "metadata": {},
   "source": [
    "Ausreisser: #Hier kommt Ihre Lösung hin."
   ]
  },
  {
   "cell_type": "markdown",
   "metadata": {},
   "source": [
    "Erklärung: #Hier kommt Ihre Erklärung für die Ausreisser hin."
   ]
  },
  {
   "cell_type": "markdown",
   "metadata": {},
   "source": [
    "2. Wochen vs Beine"
   ]
  },
  {
   "cell_type": "markdown",
   "metadata": {},
   "source": [
    "Erwartungen: #Was würden Sie erwarten?"
   ]
  },
  {
   "cell_type": "code",
   "execution_count": null,
   "metadata": {},
   "outputs": [],
   "source": [
    "#Ihr Streudiagramm"
   ]
  },
  {
   "cell_type": "markdown",
   "metadata": {},
   "source": [
    "Ausreisser: #Hier kommt Ihre Lösung hin."
   ]
  },
  {
   "cell_type": "markdown",
   "metadata": {},
   "source": [
    "Erklärung: #Hier kommt Ihre Erklärung für die Ausreisser hin."
   ]
  },
  {
   "cell_type": "markdown",
   "metadata": {},
   "source": [
    "3. Beine vs Alter"
   ]
  },
  {
   "cell_type": "markdown",
   "metadata": {},
   "source": [
    "Erwartungen: #Was würden Sie erwarten?"
   ]
  },
  {
   "cell_type": "code",
   "execution_count": null,
   "metadata": {},
   "outputs": [],
   "source": [
    "#Ihr Streudiagramm"
   ]
  },
  {
   "cell_type": "markdown",
   "metadata": {},
   "source": [
    "Ausreisser: #Hier kommt Ihre Lösung hin."
   ]
  },
  {
   "cell_type": "markdown",
   "metadata": {},
   "source": [
    "Erklärung: #Hier kommt Ihre Erklärung für die Ausreisser hin."
   ]
  },
  {
   "cell_type": "markdown",
   "metadata": {},
   "source": [
    "4. Sehen Sie lineare Zusammenhänge in den Aufgaben 1-3?"
   ]
  },
  {
   "cell_type": "markdown",
   "metadata": {},
   "source": [
    "#Hier kommt Ihre Antwort hin."
   ]
  },
  {
   "cell_type": "markdown",
   "metadata": {},
   "source": [
    "5. Fallen die Wolken jeweils oder steigen sie?"
   ]
  },
  {
   "cell_type": "markdown",
   "metadata": {},
   "source": [
    "#Hier kommt Ihre Antwort hin."
   ]
  },
  {
   "cell_type": "markdown",
   "metadata": {},
   "source": [
    "**Abschlussfrage:**\n",
    "\n",
    "Stimmt die folgende Hypothese?\n",
    "\n",
    "**Hypothese 2:** Jüngere Tiere werden schneller adoptiert.\n",
    "\n",
    "Eine mögliche Begründung wäre, dass diese niedlicher sind und einfacher im Unterhalt."
   ]
  },
  {
   "cell_type": "markdown",
   "metadata": {},
   "source": [
    "Intuition: #Her kommt Ihre Intuition hin."
   ]
  },
  {
   "cell_type": "code",
   "execution_count": 21,
   "metadata": {},
   "outputs": [
    {
     "data": {
      "image/png": "[encoded data removed]",
      "text/plain": [
       "<Figure size 432x288 with 1 Axes>"
      ]
     },
     "metadata": {
      "needs_background": "light"
     },
     "output_type": "display_data"
    }
   ],
   "source": [
    "scatter_plot(animal_table, \"Alter\",\"Wochen\")"
   ]
  },
  {
   "cell_type": "markdown",
   "metadata": {},
   "source": [
    "Antwort und Begründung: #Hier kommt Ihre Lösung hin."
   ]
  }
 ],
 "metadata": {
  "interpreter": {
   "hash": "26130839a7e87fd59e038942810dbb4909e5232b32b1ad521e6a6bc3043702c6"
  },
  "kernelspec": {
   "display_name": "Python 3.8.11 64-bit ('base': conda)",
   "name": "python3"
  },
  "language_info": {
   "codemirror_mode": {
    "name": "ipython",
    "version": 3
   },
   "file_extension": ".py",
   "mimetype": "text/x-python",
   "name": "python",
   "nbconvert_exporter": "python",
   "pygments_lexer": "ipython3",
   "version": "3.8.11"
  },
  "orig_nbformat": 4
 },
 "nbformat": 4,
 "nbformat_minor": 2
}
