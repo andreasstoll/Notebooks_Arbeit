{
 "cells": [
  {
   "cell_type": "markdown",
   "metadata": {},
   "source": [
    "# Form der Daten visualisieren\n",
    "\n",
    "## Lernziele\n",
    "\n",
    "Die Schüler:innen können\n",
    "* können symmetrische, linksschiefe und rechtsschiefe Formen/Verteilungen unterscheiden.\n",
    "* die Form von Daten interpretieren.\n",
    "\n",
    "## Repetition Histogramme\n",
    "\n",
    "**Einzelarbeit:** Schüler:innen haben sich 5 Videos angeschaut und diese auf einer Skala von 1-10 bewertet. Obwohl der Mittelwert bei allen 5 Videos gleich war, sehen die Formen der Histogramme ganz anders aus.\n",
    "\n",
    "Bei den Histogrammen gibt die $x$-Achse die Bewertung und die $y$-Achse die Anzahl Schüler:innen an. Die beiden Achsen sind ganz bewusst nicht beschriftet.\n",
    "\n",
    "Ordenen Sie den Beschreibungen (1-5) je ein Histogramm zu.\n",
    "\n",
    "Beschreibungen:\n",
    "1. Die meisten Schüler:innen mochten das Video recht gut, es gab aber ein paar wenige, die das Video aussergewöhnlich schlecht bewerteten.\n",
    "2. Die meisten Schüler:innen fanden das Video ganz o.k., es gab aber ein paar wenige, die das Video aussergewöhnlich gut bewerteten.\n",
    "3. Die Schüler:innen tendierten dazu das Video durchschnittlich zu bewerten und die meisten waren nicht weit von Durchschnitt entfernt.\n",
    "4. Die Schüler:innen mochten das Video entweder sehr oder gar nicht.\n",
    "5. Die Reaktionen auf das Video waren sehr unterschiedlich: Hohe, tiefe und mittlere Bewertungen waren gleich wahrscheinlich.\n",
    "\n",
    "Histogramme:\n",
    "\n",
    "<img src=\"Images/8_HistogrammA.png\" width=\"150\">\n",
    "<img src=\"Images/8_HistogrammB.png\" width=\"150\">\n",
    "<img src=\"Images/8_HistogrammC.png\" width=\"150\">\n",
    "<img src=\"Images/8_HistogrammD.png\" width=\"150\">\n",
    "<img src=\"Images/8_HistogrammE.png\" width=\"150\">\n",
    "\n",
    "Zuordnungen: \n",
    "* Der Beschreibung 1 entspricht Histogramm # hier kommt Ihre Antwort hin.\n",
    "* Der Beschreibung 2 entspricht Histogramm # hier kommt Ihre Antwort hin.\n",
    "* Der Beschreibung 3 entspricht Histogramm # hier kommt Ihre Antwort hin.\n",
    "* Der Beschreibung 4 entspricht Histogramm # hier kommt Ihre Antwort hin.\n",
    "* Der Beschreibung 5 entspricht Histogramm # hier kommt Ihre Antwort hin."
   ]
  },
  {
   "cell_type": "markdown",
   "metadata": {},
   "source": [
    "## Die Form beschreiben\n",
    "\n",
    "Die Form ist eine Art Information über Daten zusammenzufassen und schnell und übersichtlich zu beschreiben, welche Werte mehr oder weniger häufig sind.\n",
    "\n",
    "Data Scientist verbringen viel Zeit damit, Darstellungen von Daten zu betrachten und ihre Form zu beschreiben.\n",
    "Beim Betrachten von Visualisierungen von Daten können viele Einsichten gewonnen werden, welche beim Blick auf die Zahlen verborgen bleiben.\n",
    "\n",
    "Wir können uns vorstellen, dass die Daten bei einem Histogramm in fixe Kategorien gequetscht werden. \n",
    "Wenn wenig Daten in eine Kategorie passen, ist der entsprechende Balken fast leer, passen viele Daten in eine Kategorie, so wird der Balken sehr hoch.\n",
    "\n",
    "Hier folgen die häufigsten Formen von Daten in der reellen Welt. \n",
    "\n",
    "Bei einer **symmetrischen** Verteilung ist es gleich wahrscheinlich, dass eine Variable einen gewissen Wert unterhalb der Mitte annimt wie dass die gleiche Distanz oberhalb der Mitte angenommen wird.\n",
    "\n",
    "<img src=\"Images/8_symmetrisch.png\" width=\"300\">\n",
    "\n",
    "Beispiele:\n",
    "* Die Grössen von 12jährigen haben eine symmetrische Form. Es ist gleich wahrscheinlich, dass ein:e 12jährige:r eine gewisse Anzahl Zentimeter über dem Mittelwert ist, wie dass ein:e 12jährige:r diese Anzahl Zentimeter unter dem Mittelwert ist.\n",
    "* Bei Standardisierten Prüfungen an Gymnasien oder Universitäten schneiden die meisten Schüler:innen oder Student:innen nahe beim Mittelwert ab. Nur sehr wenige sind sehr gut oder sehr schlecht.\n",
    "\n",
    "Bei einer **linksschiefen** bzw. rechtssteile Verteilung sind die Werte mehrheitlich um einen typischen Wert gruppiert, aber es hat auch ein paar wenige ungewöhnlich tiefe Werte auf der rechten Seite.\n",
    "\n",
    "<img src=\"Images/8_linksschief.png\" width=\"300\">\n",
    "\n",
    "Beispiele:\n",
    "* Die Anzahl Zähne, die Erwachsene haben entsprechen einer linksschiefen Verteilung. Die meisten Erwachsenen haben alle 32 Zähne, aber einige wenige mit Zahnproblemen haben eine sehr kleine Anzahl Zähne. Es wird niemanden mit 10 oder 20 zusätzlichen Zähnen geben. Somit werden die sehr kleinen Werte (um 0 Zähne) nicht ausgeglichen.\n",
    "* In einer Schulmensa werden die meisten Lebensmittel in grossen Behälter sein, es wird aber auch einige wenige kleinere Behälter geben. Wenn wir die Kilogramm pro Behälter anschauen wird dies eine linksschiefe Form geben.\n",
    "\n",
    "Bei einer **rechtsschiefen** bzw. linkssteilen Verteilung sind die Werte mehrheitlich um einen typischen Wert gruppiert, aber es hat auch ein paar wenige ungewöhnlich hohe Werte auf der linken Seite.\n",
    "\n",
    "<img src=\"Images/8_rechtsschief.png\" width=\"300\">\n",
    "\n",
    "Beispiele:\n",
    "* Das Alter von Frauen in der Schweiz bei der Geburt wird rechtschief sein. Einige wenige Frauen werden aussergewöhnlich alt sein bei der Geburt (50+ Jahre) und somit über dem Durchschnittsalter von 32.2 Jahren (2020) liegen. Es gibt aber deutlich weniger Frauen, die entsprechend viel unter dem Mittelwert liegen. Damit werden diese hohen Alter nicht ausgeglichen.\n",
    "* Ein Datensatz zu Einkommen ist eine rechtsschiefe Verteilung, da es Ausreisser weit nach oben gibt (sehr hohe Einkommen). Diese hohen Einkommen werden aber nicht ausgeglichen, da es keine negativen Einkommen gibt.\n"
   ]
  },
  {
   "cell_type": "markdown",
   "metadata": {},
   "source": [
    "**Einzelarbeit:**\n",
    "\n",
    "1. Erstellen Sie ein Histogramm vom Tierdatensatz für die Gewichtspalte mit 5 Kategorien. Ist das Histogramm linksschief, symmetrisch oder rechtsschief? # Hier kommt Ihre Antwort hin."
   ]
  },
  {
   "cell_type": "code",
   "execution_count": 1,
   "metadata": {},
   "outputs": [],
   "source": [
    "import pandas as pd \n",
    "from charts import histogram\n",
    "datei_name = \"animal_dataset_bc.csv\"\n",
    "animal_table = pd.read_csv(datei_name,\n",
    "                        header=0,\n",
    "                        names=[\"Name\", \"Spezies\", \"Geschlecht\", \"Alter\", \"Steril\", \"Beine\", \"Gewicht\", \"Wochen\"], \n",
    "                        index_col=0)\n",
    "\n",
    "# Hier kommt Ihr Code hin."
   ]
  },
  {
   "cell_type": "markdown",
   "metadata": {},
   "source": [
    "2. Welche dieser Beschreibungen stimmt am besten?\n",
    "- Ein paar Tiere waren ungewöhnlich leicht.\n",
    "- Ein paar Tiere waren ungewöhnlich schwer.\n",
    "- Es ist gleich wahrscheinlich für ein Tier eine gewisses Mass über wie unter dem durchschnittlichen Gewicht zu liegen. \n",
    "<br><br> # Hier kommt Ihre Antwort hin."
   ]
  },
  {
   "cell_type": "markdown",
   "metadata": {},
   "source": [
    "3. Erstellen Sie je ein Histogramm mit 3 und 100 Kategorien. Welches zeigt die Form der Daten am besten? <br><br> # Hier kommt Ihre Antwort hin. "
   ]
  },
  {
   "cell_type": "code",
   "execution_count": null,
   "metadata": {},
   "outputs": [],
   "source": [
    "# Hier kommt Ihr Code für das Histogramm mit 3 Kategorien hin."
   ]
  },
  {
   "cell_type": "code",
   "execution_count": null,
   "metadata": {},
   "outputs": [],
   "source": [
    "# Hier kommt Ihr Code für das Histogramm mit 100 Kategorien hin."
   ]
  },
  {
   "cell_type": "markdown",
   "metadata": {},
   "source": [
    "4. Betrachten Sie noch einmal die Histogramme vom Anfang dieser Lektion:\n",
    "\n",
    "<img src=\"Images/8_HistogrammA.png\" width=\"150\">\n",
    "<img src=\"Images/8_HistogrammB.png\" width=\"150\">\n",
    "<img src=\"Images/8_HistogrammC.png\" width=\"150\">\n",
    "<img src=\"Images/8_HistogrammD.png\" width=\"150\">\n",
    "<img src=\"Images/8_HistogrammE.png\" width=\"150\">\n",
    "\n",
    "Sind die Histogramme linksschief, symmetrisch oder rechtsschief?\n",
    "\n",
    "* A: #linksschief, symmetrisch oder rechtsschief?\n",
    "* B: #linksschief, symmetrisch oder rechtsschief?\n",
    "* C: #linksschief, symmetrisch oder rechtsschief?\n",
    "* D: #linksschief, symmetrisch oder rechtsschief?\n",
    "* E: #linksschief, symmetrisch oder rechtsschief?"
   ]
  },
  {
   "cell_type": "markdown",
   "metadata": {},
   "source": [
    "5. Wählen Sie eine andere Spalte als \"Gewicht\" beim Tierdatensatz und erstellen Sie ein Histogramm.<br><br>\n",
    "Ist die Form linksschief, symmetrisch oder rechtsschief? # Hier kommt Ihre Antwort hin.<br><br># \n",
    "Können Sie dies erkären, haben Sie eine Hypothese? # Hier kommt Ihre Antwort hin."
   ]
  },
  {
   "cell_type": "code",
   "execution_count": 5,
   "metadata": {},
   "outputs": [],
   "source": [
    "# Hier kommt Ihr Code hin."
   ]
  },
  {
   "cell_type": "markdown",
   "metadata": {},
   "source": [
    "6. Wählen Sie eine Teilmenge der Tiere vom Tierdatensatz (siehe Kapitel 4, filtern) und eine Spalte und erstellen Sie dazu ein Histogramm.<br><br>\n",
    "Ist die Form linksschief, symmetrisch oder rechtsschief? # Hier kommt Ihre Antwort hin.<br><br># \n",
    "Können Sie dies erkären, haben Sie eine Hypothese? # Hier kommt Ihre Antwort hin."
   ]
  },
  {
   "cell_type": "code",
   "execution_count": null,
   "metadata": {},
   "outputs": [],
   "source": [
    "# Hier kommt Ihr Code hin."
   ]
  },
  {
   "cell_type": "markdown",
   "metadata": {},
   "source": [
    "# Histogramm bei deinem Datensatz\n",
    "\n",
    "*Einzelarbeit:* Betrachten Sie nun Ihren Datensatz. Wie ist dieser verteilt?\n",
    "1. Wählen Sie zwei Variablen und zeichne je ein Histogramm."
   ]
  },
  {
   "cell_type": "code",
   "execution_count": null,
   "metadata": {},
   "outputs": [],
   "source": [
    "# Histogramm Variable 1\n",
    "# Hier kommt Ihr Code hin."
   ]
  },
  {
   "cell_type": "code",
   "execution_count": null,
   "metadata": {},
   "outputs": [],
   "source": [
    "# Histogramm Variable 2\n",
    "# Hier kommt Ihr Code hin."
   ]
  },
  {
   "cell_type": "markdown",
   "metadata": {},
   "source": [
    "2. Wie sieht die Form bei der Variable 1 aus? <br><br>\n",
    "Ist die Form linksschief, symmetrisch oder rechtsschief? # Hier kommt Ihre Antwort hin."
   ]
  },
  {
   "cell_type": "markdown",
   "metadata": {},
   "source": [
    "3. Wie sieht die Form bei der Variable 2 aus? <br><br>\n",
    "Ist die Form linksschief, symmetrisch oder rechtsschief? # Hier kommt Ihre Antwort hin."
   ]
  },
  {
   "cell_type": "markdown",
   "metadata": {},
   "source": [
    "4. Fällt Ihnen etwas auf? <br><br> # Hier kommt Ihre Antwort hin."
   ]
  },
  {
   "cell_type": "markdown",
   "metadata": {},
   "source": [
    "5. Würde Sie etwas weiteres interessieren? <br><br> # Hier kommt Ihre Antwort hin."
   ]
  }
 ],
 "metadata": {
  "interpreter": {
   "hash": "26130839a7e87fd59e038942810dbb4909e5232b32b1ad521e6a6bc3043702c6"
  },
  "kernelspec": {
   "display_name": "Python 3.8.11 64-bit ('base': conda)",
   "name": "python3"
  },
  "language_info": {
   "codemirror_mode": {
    "name": "ipython",
    "version": 3
   },
   "file_extension": ".py",
   "mimetype": "text/x-python",
   "name": "python",
   "nbconvert_exporter": "python",
   "pygments_lexer": "ipython3",
   "version": "3.8.11"
  },
  "orig_nbformat": 4
 },
 "nbformat": 4,
 "nbformat_minor": 2
}
