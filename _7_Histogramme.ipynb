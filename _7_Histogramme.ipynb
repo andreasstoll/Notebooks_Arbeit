{
 "cells": [
  {
   "cell_type": "markdown",
   "metadata": {},
   "source": [
    "# Histogramme\n",
    "## Lernziele\n",
    "\n",
    "Die Schüler:innen können\n",
    "* Diagramme aus dem Tierdatensatz erstellen.\n",
    "* Visualisierungen der Häufigkeit aus einem Datensatz erstellen und ihre Erkenntnisse aufschreiben.\n",
    "\n",
    "## Spalten zusammenfassen\n",
    "\n",
    "**Einzelarbeit:**\n",
    "\n",
    "In dieser Aufgabe wird werd ein Datensatz bestehend aus 7 Tieren des Tierdatensatzes betrachtet. Dieser heisst new_table."
   ]
  },
  {
   "cell_type": "code",
   "execution_count": 4,
   "metadata": {},
   "outputs": [
    {
     "data": {
      "text/html": [
       "<div>\n",
       "<style scoped>\n",
       "    .dataframe tbody tr th:only-of-type {\n",
       "        vertical-align: middle;\n",
       "    }\n",
       "\n",
       "    .dataframe tbody tr th {\n",
       "        vertical-align: top;\n",
       "    }\n",
       "\n",
       "    .dataframe thead th {\n",
       "        text-align: right;\n",
       "    }\n",
       "</style>\n",
       "<table border=\"1\" class=\"dataframe\">\n",
       "  <thead>\n",
       "    <tr style=\"text-align: right;\">\n",
       "      <th></th>\n",
       "      <th>Spezies</th>\n",
       "      <th>Geschlecht</th>\n",
       "      <th>Alter</th>\n",
       "      <th>Steril</th>\n",
       "      <th>Beine</th>\n",
       "      <th>Gewicht</th>\n",
       "      <th>Wochen</th>\n",
       "    </tr>\n",
       "    <tr>\n",
       "      <th>Name</th>\n",
       "      <th></th>\n",
       "      <th></th>\n",
       "      <th></th>\n",
       "      <th></th>\n",
       "      <th></th>\n",
       "      <th></th>\n",
       "      <th></th>\n",
       "    </tr>\n",
       "  </thead>\n",
       "  <tbody>\n",
       "    <tr>\n",
       "      <th>Sasha</th>\n",
       "      <td>Katze</td>\n",
       "      <td>weiblich</td>\n",
       "      <td>1.0</td>\n",
       "      <td>False</td>\n",
       "      <td>4</td>\n",
       "      <td>6.5</td>\n",
       "      <td>3</td>\n",
       "    </tr>\n",
       "    <tr>\n",
       "      <th>Boo-boo</th>\n",
       "      <td>Hund</td>\n",
       "      <td>maennlich</td>\n",
       "      <td>11.0</td>\n",
       "      <td>True</td>\n",
       "      <td>4</td>\n",
       "      <td>123.0</td>\n",
       "      <td>24</td>\n",
       "    </tr>\n",
       "    <tr>\n",
       "      <th>Felix</th>\n",
       "      <td>Katze</td>\n",
       "      <td>maennlich</td>\n",
       "      <td>16.0</td>\n",
       "      <td>True</td>\n",
       "      <td>4</td>\n",
       "      <td>9.2</td>\n",
       "      <td>5</td>\n",
       "    </tr>\n",
       "    <tr>\n",
       "      <th>Nori</th>\n",
       "      <td>Hund</td>\n",
       "      <td>weiblich</td>\n",
       "      <td>3.0</td>\n",
       "      <td>True</td>\n",
       "      <td>4</td>\n",
       "      <td>35.3</td>\n",
       "      <td>1</td>\n",
       "    </tr>\n",
       "    <tr>\n",
       "      <th>Wade</th>\n",
       "      <td>Katze</td>\n",
       "      <td>maennlich</td>\n",
       "      <td>1.0</td>\n",
       "      <td>False</td>\n",
       "      <td>4</td>\n",
       "      <td>3.2</td>\n",
       "      <td>1</td>\n",
       "    </tr>\n",
       "    <tr>\n",
       "      <th>Nibblet</th>\n",
       "      <td>Hase</td>\n",
       "      <td>maennlich</td>\n",
       "      <td>6.0</td>\n",
       "      <td>False</td>\n",
       "      <td>4</td>\n",
       "      <td>4.3</td>\n",
       "      <td>2</td>\n",
       "    </tr>\n",
       "    <tr>\n",
       "      <th>Maple</th>\n",
       "      <td>Hund</td>\n",
       "      <td>weiblich</td>\n",
       "      <td>3.0</td>\n",
       "      <td>True</td>\n",
       "      <td>4</td>\n",
       "      <td>51.6</td>\n",
       "      <td>4</td>\n",
       "    </tr>\n",
       "  </tbody>\n",
       "</table>\n",
       "</div>"
      ],
      "text/plain": [
       "        Spezies Geschlecht  Alter  Steril  Beine  Gewicht  Wochen\n",
       "Name                                                             \n",
       "Sasha     Katze   weiblich    1.0   False      4      6.5       3\n",
       "Boo-boo    Hund  maennlich   11.0    True      4    123.0      24\n",
       "Felix     Katze  maennlich   16.0    True      4      9.2       5\n",
       "Nori       Hund   weiblich    3.0    True      4     35.3       1\n",
       "Wade      Katze  maennlich    1.0   False      4      3.2       1\n",
       "Nibblet    Hase  maennlich    6.0   False      4      4.3       2\n",
       "Maple      Hund   weiblich    3.0    True      4     51.6       4"
      ]
     },
     "execution_count": 4,
     "metadata": {},
     "output_type": "execute_result"
    }
   ],
   "source": [
    "import pandas as pd \n",
    "datei_name = \"animal_dataset_bc.csv\"\n",
    "animal_table = pd.read_csv(datei_name,\n",
    "                        header=0,\n",
    "                        names=[\"Name\", \"Spezies\", \"Geschlecht\", \"Alter\", \"Steril\", \"Beine\", \"Gewicht\", \"Wochen\"], \n",
    "                        index_col=0)\n",
    "\n",
    "new_table = animal_table.loc[[\"Sasha\", \"Boo-boo\", \"Felix\", \n",
    "                                \"Nori\", \"Wade\", \"Nibblet\", \"Maple\"]] # Erstellt eine neue Tabelle, die nur aus gewissen Tieren besteht\n",
    "\n",
    "new_table"
   ]
  },
  {
   "cell_type": "markdown",
   "metadata": {},
   "source": [
    "1. Wie viele Katzen sind in der Tabelle oben? # Hier kommt Ihre Antwort hin."
   ]
  },
  {
   "cell_type": "markdown",
   "metadata": {},
   "source": [
    "2. Wie viele Hunde sind in der Tabelle oben? # Hier kommt Ihre Antwort hin."
   ]
  },
  {
   "cell_type": "markdown",
   "metadata": {},
   "source": [
    "3. Wie viele Tiere haben ein Gewicht zwischen 0 und 20 Pfund? # Hier kommt Ihre Antwort hin."
   ]
  },
  {
   "cell_type": "markdown",
   "metadata": {},
   "source": [
    "4. Wie viele Tiere haben ein Gewicht zwischen 20 und 40 Pfund? # Hier kommt Ihre Antwort hin."
   ]
  },
  {
   "cell_type": "markdown",
   "metadata": {},
   "source": [
    "5. Gibt es mehr Tiere zwischen 0 und 60 Pfund oder zwischen 60 und 140 Pfund? # Hier kommt Ihre Antwort hin."
   ]
  },
  {
   "cell_type": "markdown",
   "metadata": {},
   "source": [
    "6. Betrachten Sie die beiden Diagramme unten. Was sind die Unterschiede? Was sind die Gemeinsamkeiten <br><br>\n",
    "Unterschiede: # Hier kommt Ihre Antwort hin.\n",
    "Gemeinsamkeiten: # Hier kommt Ihre Antwort hin."
   ]
  },
  {
   "cell_type": "code",
   "execution_count": 5,
   "metadata": {},
   "outputs": [
    {
     "data": {
      "image/png": "[encoded data removed]",
      "text/plain": [
       "<Figure size 432x288 with 1 Axes>"
      ]
     },
     "metadata": {
      "needs_background": "light"
     },
     "output_type": "display_data"
    }
   ],
   "source": [
    "# Diagramm 1:\n",
    "\n",
    "from charts import bar_chart\n",
    "bar_chart(new_table, \"Spezies\")"
   ]
  },
  {
   "cell_type": "code",
   "execution_count": 12,
   "metadata": {},
   "outputs": [
    {
     "data": {
      "image/png": "[encoded data removed]",
      "text/plain": [
       "<Figure size 432x288 with 1 Axes>"
      ]
     },
     "metadata": {
      "needs_background": "light"
     },
     "output_type": "display_data"
    }
   ],
   "source": [
    "# Diagram 2:\n",
    "\n",
    "from charts import histogram\n",
    "histogram(new_table, \"Gewicht\", 5)"
   ]
  },
  {
   "cell_type": "markdown",
   "metadata": {},
   "source": [
    "## Einstieg in Histogramme\n",
    "\n",
    "Ein Histogramm wird erzeugt, in dem alle Werte in einer Spalte vom kleinsten bis zum grössten geordnet werden.\n",
    "Danach wird die $x$-Achse vom kleinsten Wert (oder etwas darunter) bis zum grässten Wert (oder etwas darüber) markiert und in gleich grosse Intervalle unterteilt, sogennante Kategorien. \n",
    "\n",
    "Wenn zum Beispiel die Werte von 3 bis 53 reichen, werden auf der $x$-Achse die Werte von 0 bis 60 markiert und diese in Kategorieren der Breite 10 ein aufgeteilt.\n",
    "\n",
    "Wurden die Kategorien bestimmt, wird jeder Wert im Datensatz zu der Kategorie, in die er gehört, hinzugefügt.\n",
    "Sind alle Werte in die Kategorien eingeteilt, wird gezählt, wie viele Werte in jeder Kategorie liegen. Dies bestimmt die Höhe der Balken."
   ]
  },
  {
   "cell_type": "markdown",
   "metadata": {},
   "source": [
    "**Einzelarbeit:**\n",
    "\n",
    "Gegeben ist ein Datensatz von einer Gruppe von 50 Erwachsenen, welcher angibt, wie viele Zähne jeder Erwachse hat."
   ]
  },
  {
   "cell_type": "code",
   "execution_count": 17,
   "metadata": {},
   "outputs": [
    {
     "data": {
      "text/html": [
       "<div>\n",
       "<style scoped>\n",
       "    .dataframe tbody tr th:only-of-type {\n",
       "        vertical-align: middle;\n",
       "    }\n",
       "\n",
       "    .dataframe tbody tr th {\n",
       "        vertical-align: top;\n",
       "    }\n",
       "\n",
       "    .dataframe thead th {\n",
       "        text-align: right;\n",
       "    }\n",
       "</style>\n",
       "<table border=\"1\" class=\"dataframe\">\n",
       "  <thead>\n",
       "    <tr style=\"text-align: right;\">\n",
       "      <th></th>\n",
       "      <th>Anzahl Personen</th>\n",
       "    </tr>\n",
       "    <tr>\n",
       "      <th>Anzahl Zähne</th>\n",
       "      <th></th>\n",
       "    </tr>\n",
       "  </thead>\n",
       "  <tbody>\n",
       "    <tr>\n",
       "      <th>0</th>\n",
       "      <td>5</td>\n",
       "    </tr>\n",
       "    <tr>\n",
       "      <th>22</th>\n",
       "      <td>1</td>\n",
       "    </tr>\n",
       "    <tr>\n",
       "      <th>26</th>\n",
       "      <td>1</td>\n",
       "    </tr>\n",
       "    <tr>\n",
       "      <th>27</th>\n",
       "      <td>1</td>\n",
       "    </tr>\n",
       "    <tr>\n",
       "      <th>28</th>\n",
       "      <td>4</td>\n",
       "    </tr>\n",
       "    <tr>\n",
       "      <th>29</th>\n",
       "      <td>3</td>\n",
       "    </tr>\n",
       "    <tr>\n",
       "      <th>30</th>\n",
       "      <td>5</td>\n",
       "    </tr>\n",
       "    <tr>\n",
       "      <th>31</th>\n",
       "      <td>3</td>\n",
       "    </tr>\n",
       "    <tr>\n",
       "      <th>32</th>\n",
       "      <td>27</td>\n",
       "    </tr>\n",
       "  </tbody>\n",
       "</table>\n",
       "</div>"
      ],
      "text/plain": [
       "              Anzahl Personen\n",
       "Anzahl Zähne                 \n",
       "0                           5\n",
       "22                          1\n",
       "26                          1\n",
       "27                          1\n",
       "28                          4\n",
       "29                          3\n",
       "30                          5\n",
       "31                          3\n",
       "32                         27"
      ]
     },
     "execution_count": 17,
     "metadata": {},
     "output_type": "execute_result"
    }
   ],
   "source": [
    "data = {\"Anzahl Zähne\": [0,22,26,27,28,29,30,31,32],\n",
    "        \"Anzahl Personen\": [5,1,1,1,4,3,5,3,27]}\n",
    "        \n",
    "teeth_table = pd.DataFrame(data)\n",
    "teeth_table.set_index(\"Anzahl Zähne\", inplace = True)\n",
    "\n",
    "teeth_table"
   ]
  },
  {
   "cell_type": "markdown",
   "metadata": {},
   "source": [
    "1. Zeichnen Sie ein Histogramm auf ein Blatt Papier. Dabei sollen die folgenden Intervalle gewählt werden: $[0,4[$, $[4,8[$,..."
   ]
  },
  {
   "cell_type": "markdown",
   "metadata": {},
   "source": [
    "2. Was ist der Unterschied zwischen einem Histogramm und einem Balkendiagramm? <br><br># Hier kommt Ihre Antwort hin."
   ]
  },
  {
   "cell_type": "markdown",
   "metadata": {},
   "source": [
    "## Anzahl Kategorien für ein Histogramm wählen\n",
    "\n",
    "Die Anzahl Kategorien spielt eine grosse Rolle. Werden zu viele Kategorien gewählt, wird der Datensatz in viele kleine Balken unterteilt, sodass die Form nicht erkennbar ist.\n",
    "Werden hingegen zu wenig Kategorien gewählt, wird der Datensatz in einige wenige grosse Balken hineingequetscht.\n",
    "\n",
    "Hier ein Histogramm, welches die Gewichte im Tierdatensatz, mit 25 Kategorien darstellt:"
   ]
  },
  {
   "cell_type": "code",
   "execution_count": 20,
   "metadata": {},
   "outputs": [
    {
     "data": {
      "image/png": "[encoded data removed]",
      "text/plain": [
       "<Figure size 432x288 with 1 Axes>"
      ]
     },
     "metadata": {
      "needs_background": "light"
     },
     "output_type": "display_data"
    }
   ],
   "source": [
    "# Zu viele Kategorien\n",
    "\n",
    "from charts import histogram\n",
    "histogram(new_table, \"Gewicht\", 25)"
   ]
  },
  {
   "cell_type": "markdown",
   "metadata": {},
   "source": [
    "Hier ein Histogramm, welches die Gewichte im Tierdatensatz, mit nur 2 Kategorien darstellt:"
   ]
  },
  {
   "cell_type": "code",
   "execution_count": 21,
   "metadata": {},
   "outputs": [
    {
     "data": {
      "image/png": "[encoded data removed]",
      "text/plain": [
       "<Figure size 432x288 with 1 Axes>"
      ]
     },
     "metadata": {
      "needs_background": "light"
     },
     "output_type": "display_data"
    }
   ],
   "source": [
    "# Zu wenig Kategorien\n",
    "\n",
    "from charts import histogram\n",
    "histogram(new_table, \"Gewicht\", 2)"
   ]
  },
  {
   "cell_type": "markdown",
   "metadata": {},
   "source": [
    "**Einzelarbeit:** Was aber ist eine sinnvolle Anzahl Kategorien? Erzeugen Sie ein Histogramm der Spalte \"Wochen\" des animal_table.\n",
    "\n",
    "1. Erstellen Sie ein Histogramm mit 5 Kategorien. <br><br>\n",
    "*Hinweis:* Die Funktion histogram bekommt als Argumente eine Tabelle von Daten (einen Datensatz), den Namen einer Spalte und eine natürliche Zahl für die Anzahl Kategorien/Intervalle und gibt ein Histogramm aus. \n",
    "Zum Beispiel bekommt histogram(new_table, \"Gewicht\", 25) die Tabelle new_table, den Spaltennamen \"Gewicht\" und 25 für die Anzahl Kategorien als Argumente."
   ]
  },
  {
   "cell_type": "code",
   "execution_count": 23,
   "metadata": {},
   "outputs": [],
   "source": [
    "# Hier kommt Ihr Code hin."
   ]
  },
  {
   "cell_type": "markdown",
   "metadata": {},
   "source": [
    "2. Erstellen Sie ein Histogramm mit 7 Kategorien."
   ]
  },
  {
   "cell_type": "code",
   "execution_count": 31,
   "metadata": {},
   "outputs": [],
   "source": [
    "# Hier kommt Ihr Code hin."
   ]
  },
  {
   "cell_type": "markdown",
   "metadata": {},
   "source": [
    "3. Wie viele Tiere mussten länger als 20 Wochen warten. <br><br> # Hier kommt Ihre Lösung hin."
   ]
  },
  {
   "cell_type": "markdown",
   "metadata": {},
   "source": [
    "4. Erstellen Sie ein Histogramm mit 50 Kategorien."
   ]
  },
  {
   "cell_type": "code",
   "execution_count": null,
   "metadata": {},
   "outputs": [],
   "source": [
    "# Hier kommt Ihr Code hin."
   ]
  },
  {
   "cell_type": "markdown",
   "metadata": {},
   "source": [
    "5. Versuchen Sie verschiedenen Anzahlen von Kategorien aus. Wie viele Kategorien geben das beste Bild der Form des Datensatzes? <br><br> # Hier kommt Ihre Lösung hin."
   ]
  },
  {
   "cell_type": "code",
   "execution_count": null,
   "metadata": {},
   "outputs": [],
   "source": [
    "# Hier kommt Ihr Code hin."
   ]
  }
 ],
 "metadata": {
  "interpreter": {
   "hash": "26130839a7e87fd59e038942810dbb4909e5232b32b1ad521e6a6bc3043702c6"
  },
  "kernelspec": {
   "display_name": "Python 3.8.11 64-bit ('base': conda)",
   "name": "python3"
  },
  "language_info": {
   "codemirror_mode": {
    "name": "ipython",
    "version": 3
   },
   "file_extension": ".py",
   "mimetype": "text/x-python",
   "name": "python",
   "nbconvert_exporter": "python",
   "pygments_lexer": "ipython3",
   "version": "3.8.11"
  },
  "orig_nbformat": 4
 },
 "nbformat": 4,
 "nbformat_minor": 2
}
