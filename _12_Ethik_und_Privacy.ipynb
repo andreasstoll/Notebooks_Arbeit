{
 "cells": [
  {
   "cell_type": "markdown",
   "metadata": {},
   "source": [
    "# Ethik und Privacy\n",
    "## Lernziele\n",
    "\n",
    "Die Schüler:innen können\n",
    "* Ethische und datenschutztechnische Aspekte im Bereich Data Science beschreiben\n",
    "\n",
    "Die Lektion findet als Gruppenpuzzle statt und dauert ca. 45 Minuten.\n"
   ]
  },
  {
   "cell_type": "markdown",
   "metadata": {},
   "source": [
    "Während des 2. Weltkriegs lieferten sich Wissenschaftler einen Wettlauf um die Entwicklung neuer Waffen, die stärker waren als alles, was die Welt je gesehen hatte. Während das unmittelbare Ziel darin bestand, \"den Krieg zu gewinnen\", erkannten viele der Wissenschaftler, dass die von ihnen entwickelten Waffen nach Kriegsende für alle möglichen Dinge verwendet werden könnten - und nicht alle davon waren gut.\n",
    "\n",
    "Da Technologieunternehmen in rasantem Tempo Data Scientists einstellen und riesige Datensätze über Nutzer sammeln, die diese Wissenschaftler auswerten können, findet derzeit ein neues Wettrüsten statt. Suchmaschinen passen ihre Ergebnisse auf der Grundlage dessen an, was sie über den Kunden wissen, der die Suche durchführt, und soziale Mediennetzwerke wollen Freunde auf der Grundlage dessen empfehlen, was sie über uns alle wissen. Für beide Ziele ist es erforderlich, Profile von allen Menschen zu erstellen und herauszufinden, welche Vorlieben sie haben und wo sie ihre Zeit am liebsten verbringen. Es könnte erforderlich sein, herauszufinden, ob jeder von uns männlich oder weiblich ist, ob er eher ins Kino oder ins Theater geht, ob er sich eine Spülmaschine oder einen Fernseher kaufen will.\n",
    "\n",
    "Aber diese Datensätze und Profile könnten für weit mehr als das verwendet werden. Wie wäre es, wenn das FBI damit versuchen würde, herauszufinden, wer wahrscheinlich ein Verbrechen begehen wird, oder wenn ein Unternehmen versuchen würde, die Religion oder die sexuelle Ausrichtung seiner Mitarbeiter zu erfahren?\n",
    "\n",
    "Während sie immer ausgefeiltere Modelle auf der Grundlage immer genauerer Datensätze entwickeln, müssen Data Scientists auch über die ethischen Aspekte ihres Tuns nachdenken!\n"
   ]
  },
  {
   "cell_type": "markdown",
   "metadata": {},
   "source": [
    "**Einstiegsfragen**\n",
    "Welche ethischen Grundsätze müssen beachtet werden beim Thema Data Science\n",
    "\n",
    "**Gruppenarbeit**\n",
    "\n",
    "Behandeln Sie in Gruppen eines von drei Fallbeispielen, nehmen Sie dazu Notizen hier im Jupyternotebook und beantworten Sie die folgenden Fragen. Am Schluss stellt jede Person ihr eigenes Beispiel vor. Sie sollen sich als Gruppe absprechen, um gemeinsam möglichst viele Vor- und Nachteile zu finden."
   ]
  },
  {
   "cell_type": "markdown",
   "metadata": {},
   "source": [
    "* In meinem Text ging es um das folgende Thema:\n",
    "\n",
    "#Hier kommt ihre Zusammenfassung rein"
   ]
  },
  {
   "cell_type": "markdown",
   "metadata": {},
   "source": [
    "Was sind die Argumente auf beiden Seiten?"
   ]
  },
  {
   "cell_type": "markdown",
   "metadata": {},
   "source": [
    "* Data Science ist gut in dieser Anwendung, weil \n",
    "\n",
    "#Hier kommen ihre Argumente hin"
   ]
  },
  {
   "cell_type": "markdown",
   "metadata": {},
   "source": [
    "* Data Science ist schlecht in dieser Anwendung, weil \n",
    "\n",
    "#Hier kommen ihre Argumente hin"
   ]
  },
  {
   "cell_type": "markdown",
   "metadata": {},
   "source": [
    "* Ist es insgesamt eher etwas Gutes oder etwas Schlechtes? Warum?\n",
    "\n",
    "#Hier kommt ihre persönliche Meinung rein"
   ]
  },
  {
   "cell_type": "markdown",
   "metadata": {},
   "source": [
    "**Themenabschluss**\n",
    "Gemeinsam als Klasse versuchen wir Regeln für ethisches Handeln im Bereich Data Science aufzustellen. Hierfür suchen wir drei Grundsätze."
   ]
  },
  {
   "cell_type": "markdown",
   "metadata": {},
   "source": []
  }
 ],
 "metadata": {
  "language_info": {
   "name": "python"
  },
  "orig_nbformat": 4
 },
 "nbformat": 4,
 "nbformat_minor": 2
}
